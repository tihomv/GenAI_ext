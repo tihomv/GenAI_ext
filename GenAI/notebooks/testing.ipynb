{
 "cells": [
  {
   "cell_type": "code",
   "execution_count": 34,
   "metadata": {},
   "outputs": [
    {
     "data": {
      "text/plain": [
       "True"
      ]
     },
     "execution_count": 34,
     "metadata": {},
     "output_type": "execute_result"
    }
   ],
   "source": [
    "from dotenv import load_dotenv, find_dotenv\n",
    "load_dotenv(find_dotenv(), override=True)"
   ]
  },
  {
   "cell_type": "code",
   "execution_count": 35,
   "metadata": {},
   "outputs": [],
   "source": [
    "import getpass\n",
    "import os\n",
    "from rich import print\n",
    "if 'GOOGLE_API_KEY' not in os.environ:\n",
    "    os.environ['GOOGLE_API_KEY'] = getpass.getpass('Provide your Google API Key: ')"
   ]
  },
  {
   "cell_type": "code",
   "execution_count": 36,
   "metadata": {},
   "outputs": [
    {
     "data": {
      "text/html": [
       "<pre style=\"white-space:pre;overflow-x:auto;line-height:normal;font-family:Menlo,'DejaVu Sans Mono',consolas,'Courier New',monospace\">models/chat-bison-<span style=\"color: #008080; text-decoration-color: #008080; font-weight: bold\">001</span>\n",
       "</pre>\n"
      ],
      "text/plain": [
       "models/chat-bison-\u001b[1;36m001\u001b[0m\n"
      ]
     },
     "metadata": {},
     "output_type": "display_data"
    },
    {
     "data": {
      "text/html": [
       "<pre style=\"white-space:pre;overflow-x:auto;line-height:normal;font-family:Menlo,'DejaVu Sans Mono',consolas,'Courier New',monospace\">models/text-bison-<span style=\"color: #008080; text-decoration-color: #008080; font-weight: bold\">001</span>\n",
       "</pre>\n"
      ],
      "text/plain": [
       "models/text-bison-\u001b[1;36m001\u001b[0m\n"
      ]
     },
     "metadata": {},
     "output_type": "display_data"
    },
    {
     "data": {
      "text/html": [
       "<pre style=\"white-space:pre;overflow-x:auto;line-height:normal;font-family:Menlo,'DejaVu Sans Mono',consolas,'Courier New',monospace\">models/embedding-gecko-<span style=\"color: #008080; text-decoration-color: #008080; font-weight: bold\">001</span>\n",
       "</pre>\n"
      ],
      "text/plain": [
       "models/embedding-gecko-\u001b[1;36m001\u001b[0m\n"
      ]
     },
     "metadata": {},
     "output_type": "display_data"
    },
    {
     "data": {
      "text/html": [
       "<pre style=\"white-space:pre;overflow-x:auto;line-height:normal;font-family:Menlo,'DejaVu Sans Mono',consolas,'Courier New',monospace\">models/gemini-<span style=\"color: #008080; text-decoration-color: #008080; font-weight: bold\">1.0</span>-pro-latest\n",
       "</pre>\n"
      ],
      "text/plain": [
       "models/gemini-\u001b[1;36m1.0\u001b[0m-pro-latest\n"
      ]
     },
     "metadata": {},
     "output_type": "display_data"
    },
    {
     "data": {
      "text/html": [
       "<pre style=\"white-space:pre;overflow-x:auto;line-height:normal;font-family:Menlo,'DejaVu Sans Mono',consolas,'Courier New',monospace\">models/gemini-<span style=\"color: #008080; text-decoration-color: #008080; font-weight: bold\">1.0</span>-pro\n",
       "</pre>\n"
      ],
      "text/plain": [
       "models/gemini-\u001b[1;36m1.0\u001b[0m-pro\n"
      ]
     },
     "metadata": {},
     "output_type": "display_data"
    },
    {
     "data": {
      "text/html": [
       "<pre style=\"white-space:pre;overflow-x:auto;line-height:normal;font-family:Menlo,'DejaVu Sans Mono',consolas,'Courier New',monospace\">models/gemini-pro\n",
       "</pre>\n"
      ],
      "text/plain": [
       "models/gemini-pro\n"
      ]
     },
     "metadata": {},
     "output_type": "display_data"
    },
    {
     "data": {
      "text/html": [
       "<pre style=\"white-space:pre;overflow-x:auto;line-height:normal;font-family:Menlo,'DejaVu Sans Mono',consolas,'Courier New',monospace\">models/gemini-<span style=\"color: #008080; text-decoration-color: #008080; font-weight: bold\">1.0</span>-pro-<span style=\"color: #008080; text-decoration-color: #008080; font-weight: bold\">001</span>\n",
       "</pre>\n"
      ],
      "text/plain": [
       "models/gemini-\u001b[1;36m1.0\u001b[0m-pro-\u001b[1;36m001\u001b[0m\n"
      ]
     },
     "metadata": {},
     "output_type": "display_data"
    },
    {
     "data": {
      "text/html": [
       "<pre style=\"white-space:pre;overflow-x:auto;line-height:normal;font-family:Menlo,'DejaVu Sans Mono',consolas,'Courier New',monospace\">models/gemini-<span style=\"color: #008080; text-decoration-color: #008080; font-weight: bold\">1.0</span>-pro-vision-latest\n",
       "</pre>\n"
      ],
      "text/plain": [
       "models/gemini-\u001b[1;36m1.0\u001b[0m-pro-vision-latest\n"
      ]
     },
     "metadata": {},
     "output_type": "display_data"
    },
    {
     "data": {
      "text/html": [
       "<pre style=\"white-space:pre;overflow-x:auto;line-height:normal;font-family:Menlo,'DejaVu Sans Mono',consolas,'Courier New',monospace\">models/gemini-pro-vision\n",
       "</pre>\n"
      ],
      "text/plain": [
       "models/gemini-pro-vision\n"
      ]
     },
     "metadata": {},
     "output_type": "display_data"
    },
    {
     "data": {
      "text/html": [
       "<pre style=\"white-space:pre;overflow-x:auto;line-height:normal;font-family:Menlo,'DejaVu Sans Mono',consolas,'Courier New',monospace\">models/gemini-<span style=\"color: #008080; text-decoration-color: #008080; font-weight: bold\">1.5</span>-pro-latest\n",
       "</pre>\n"
      ],
      "text/plain": [
       "models/gemini-\u001b[1;36m1.5\u001b[0m-pro-latest\n"
      ]
     },
     "metadata": {},
     "output_type": "display_data"
    },
    {
     "data": {
      "text/html": [
       "<pre style=\"white-space:pre;overflow-x:auto;line-height:normal;font-family:Menlo,'DejaVu Sans Mono',consolas,'Courier New',monospace\">models/gemini-<span style=\"color: #008080; text-decoration-color: #008080; font-weight: bold\">1.5</span>-pro-<span style=\"color: #008080; text-decoration-color: #008080; font-weight: bold\">001</span>\n",
       "</pre>\n"
      ],
      "text/plain": [
       "models/gemini-\u001b[1;36m1.5\u001b[0m-pro-\u001b[1;36m001\u001b[0m\n"
      ]
     },
     "metadata": {},
     "output_type": "display_data"
    },
    {
     "data": {
      "text/html": [
       "<pre style=\"white-space:pre;overflow-x:auto;line-height:normal;font-family:Menlo,'DejaVu Sans Mono',consolas,'Courier New',monospace\">models/gemini-<span style=\"color: #008080; text-decoration-color: #008080; font-weight: bold\">1.5</span>-pro-<span style=\"color: #008080; text-decoration-color: #008080; font-weight: bold\">002</span>\n",
       "</pre>\n"
      ],
      "text/plain": [
       "models/gemini-\u001b[1;36m1.5\u001b[0m-pro-\u001b[1;36m002\u001b[0m\n"
      ]
     },
     "metadata": {},
     "output_type": "display_data"
    },
    {
     "data": {
      "text/html": [
       "<pre style=\"white-space:pre;overflow-x:auto;line-height:normal;font-family:Menlo,'DejaVu Sans Mono',consolas,'Courier New',monospace\">models/gemini-<span style=\"color: #008080; text-decoration-color: #008080; font-weight: bold\">1.5</span>-pro\n",
       "</pre>\n"
      ],
      "text/plain": [
       "models/gemini-\u001b[1;36m1.5\u001b[0m-pro\n"
      ]
     },
     "metadata": {},
     "output_type": "display_data"
    },
    {
     "data": {
      "text/html": [
       "<pre style=\"white-space:pre;overflow-x:auto;line-height:normal;font-family:Menlo,'DejaVu Sans Mono',consolas,'Courier New',monospace\">models/gemini-<span style=\"color: #008080; text-decoration-color: #008080; font-weight: bold\">1.5</span>-pro-exp-<span style=\"color: #008080; text-decoration-color: #008080; font-weight: bold\">0801</span>\n",
       "</pre>\n"
      ],
      "text/plain": [
       "models/gemini-\u001b[1;36m1.5\u001b[0m-pro-exp-\u001b[1;36m0801\u001b[0m\n"
      ]
     },
     "metadata": {},
     "output_type": "display_data"
    },
    {
     "data": {
      "text/html": [
       "<pre style=\"white-space:pre;overflow-x:auto;line-height:normal;font-family:Menlo,'DejaVu Sans Mono',consolas,'Courier New',monospace\">models/gemini-<span style=\"color: #008080; text-decoration-color: #008080; font-weight: bold\">1.5</span>-pro-exp-<span style=\"color: #008080; text-decoration-color: #008080; font-weight: bold\">0827</span>\n",
       "</pre>\n"
      ],
      "text/plain": [
       "models/gemini-\u001b[1;36m1.5\u001b[0m-pro-exp-\u001b[1;36m0827\u001b[0m\n"
      ]
     },
     "metadata": {},
     "output_type": "display_data"
    },
    {
     "data": {
      "text/html": [
       "<pre style=\"white-space:pre;overflow-x:auto;line-height:normal;font-family:Menlo,'DejaVu Sans Mono',consolas,'Courier New',monospace\">models/gemini-<span style=\"color: #008080; text-decoration-color: #008080; font-weight: bold\">1.5</span>-flash-latest\n",
       "</pre>\n"
      ],
      "text/plain": [
       "models/gemini-\u001b[1;36m1.5\u001b[0m-flash-latest\n"
      ]
     },
     "metadata": {},
     "output_type": "display_data"
    },
    {
     "data": {
      "text/html": [
       "<pre style=\"white-space:pre;overflow-x:auto;line-height:normal;font-family:Menlo,'DejaVu Sans Mono',consolas,'Courier New',monospace\">models/gemini-<span style=\"color: #008080; text-decoration-color: #008080; font-weight: bold\">1.5</span>-flash-<span style=\"color: #008080; text-decoration-color: #008080; font-weight: bold\">001</span>\n",
       "</pre>\n"
      ],
      "text/plain": [
       "models/gemini-\u001b[1;36m1.5\u001b[0m-flash-\u001b[1;36m001\u001b[0m\n"
      ]
     },
     "metadata": {},
     "output_type": "display_data"
    },
    {
     "data": {
      "text/html": [
       "<pre style=\"white-space:pre;overflow-x:auto;line-height:normal;font-family:Menlo,'DejaVu Sans Mono',consolas,'Courier New',monospace\">models/gemini-<span style=\"color: #008080; text-decoration-color: #008080; font-weight: bold\">1.5</span>-flash-<span style=\"color: #008080; text-decoration-color: #008080; font-weight: bold\">001</span>-tuning\n",
       "</pre>\n"
      ],
      "text/plain": [
       "models/gemini-\u001b[1;36m1.5\u001b[0m-flash-\u001b[1;36m001\u001b[0m-tuning\n"
      ]
     },
     "metadata": {},
     "output_type": "display_data"
    },
    {
     "data": {
      "text/html": [
       "<pre style=\"white-space:pre;overflow-x:auto;line-height:normal;font-family:Menlo,'DejaVu Sans Mono',consolas,'Courier New',monospace\">models/gemini-<span style=\"color: #008080; text-decoration-color: #008080; font-weight: bold\">1.5</span>-flash\n",
       "</pre>\n"
      ],
      "text/plain": [
       "models/gemini-\u001b[1;36m1.5\u001b[0m-flash\n"
      ]
     },
     "metadata": {},
     "output_type": "display_data"
    },
    {
     "data": {
      "text/html": [
       "<pre style=\"white-space:pre;overflow-x:auto;line-height:normal;font-family:Menlo,'DejaVu Sans Mono',consolas,'Courier New',monospace\">models/gemini-<span style=\"color: #008080; text-decoration-color: #008080; font-weight: bold\">1.5</span>-flash-exp-<span style=\"color: #008080; text-decoration-color: #008080; font-weight: bold\">0827</span>\n",
       "</pre>\n"
      ],
      "text/plain": [
       "models/gemini-\u001b[1;36m1.5\u001b[0m-flash-exp-\u001b[1;36m0827\u001b[0m\n"
      ]
     },
     "metadata": {},
     "output_type": "display_data"
    },
    {
     "data": {
      "text/html": [
       "<pre style=\"white-space:pre;overflow-x:auto;line-height:normal;font-family:Menlo,'DejaVu Sans Mono',consolas,'Courier New',monospace\">models/gemini-<span style=\"color: #008080; text-decoration-color: #008080; font-weight: bold\">1.5</span>-flash-<span style=\"color: #008080; text-decoration-color: #008080; font-weight: bold\">002</span>\n",
       "</pre>\n"
      ],
      "text/plain": [
       "models/gemini-\u001b[1;36m1.5\u001b[0m-flash-\u001b[1;36m002\u001b[0m\n"
      ]
     },
     "metadata": {},
     "output_type": "display_data"
    },
    {
     "data": {
      "text/html": [
       "<pre style=\"white-space:pre;overflow-x:auto;line-height:normal;font-family:Menlo,'DejaVu Sans Mono',consolas,'Courier New',monospace\">models/gemini-<span style=\"color: #008080; text-decoration-color: #008080; font-weight: bold\">1.5</span>-flash-8b\n",
       "</pre>\n"
      ],
      "text/plain": [
       "models/gemini-\u001b[1;36m1.5\u001b[0m-flash-8b\n"
      ]
     },
     "metadata": {},
     "output_type": "display_data"
    },
    {
     "data": {
      "text/html": [
       "<pre style=\"white-space:pre;overflow-x:auto;line-height:normal;font-family:Menlo,'DejaVu Sans Mono',consolas,'Courier New',monospace\">models/gemini-<span style=\"color: #008080; text-decoration-color: #008080; font-weight: bold\">1.5</span>-flash-8b-<span style=\"color: #008080; text-decoration-color: #008080; font-weight: bold\">001</span>\n",
       "</pre>\n"
      ],
      "text/plain": [
       "models/gemini-\u001b[1;36m1.5\u001b[0m-flash-8b-\u001b[1;36m001\u001b[0m\n"
      ]
     },
     "metadata": {},
     "output_type": "display_data"
    },
    {
     "data": {
      "text/html": [
       "<pre style=\"white-space:pre;overflow-x:auto;line-height:normal;font-family:Menlo,'DejaVu Sans Mono',consolas,'Courier New',monospace\">models/gemini-<span style=\"color: #008080; text-decoration-color: #008080; font-weight: bold\">1.5</span>-flash-8b-latest\n",
       "</pre>\n"
      ],
      "text/plain": [
       "models/gemini-\u001b[1;36m1.5\u001b[0m-flash-8b-latest\n"
      ]
     },
     "metadata": {},
     "output_type": "display_data"
    },
    {
     "data": {
      "text/html": [
       "<pre style=\"white-space:pre;overflow-x:auto;line-height:normal;font-family:Menlo,'DejaVu Sans Mono',consolas,'Courier New',monospace\">models/gemini-<span style=\"color: #008080; text-decoration-color: #008080; font-weight: bold\">1.5</span>-flash-8b-exp-<span style=\"color: #008080; text-decoration-color: #008080; font-weight: bold\">0827</span>\n",
       "</pre>\n"
      ],
      "text/plain": [
       "models/gemini-\u001b[1;36m1.5\u001b[0m-flash-8b-exp-\u001b[1;36m0827\u001b[0m\n"
      ]
     },
     "metadata": {},
     "output_type": "display_data"
    },
    {
     "data": {
      "text/html": [
       "<pre style=\"white-space:pre;overflow-x:auto;line-height:normal;font-family:Menlo,'DejaVu Sans Mono',consolas,'Courier New',monospace\">models/gemini-<span style=\"color: #008080; text-decoration-color: #008080; font-weight: bold\">1.5</span>-flash-8b-exp-<span style=\"color: #008080; text-decoration-color: #008080; font-weight: bold\">0924</span>\n",
       "</pre>\n"
      ],
      "text/plain": [
       "models/gemini-\u001b[1;36m1.5\u001b[0m-flash-8b-exp-\u001b[1;36m0924\u001b[0m\n"
      ]
     },
     "metadata": {},
     "output_type": "display_data"
    },
    {
     "data": {
      "text/html": [
       "<pre style=\"white-space:pre;overflow-x:auto;line-height:normal;font-family:Menlo,'DejaVu Sans Mono',consolas,'Courier New',monospace\">models/embedding-<span style=\"color: #008080; text-decoration-color: #008080; font-weight: bold\">001</span>\n",
       "</pre>\n"
      ],
      "text/plain": [
       "models/embedding-\u001b[1;36m001\u001b[0m\n"
      ]
     },
     "metadata": {},
     "output_type": "display_data"
    },
    {
     "data": {
      "text/html": [
       "<pre style=\"white-space:pre;overflow-x:auto;line-height:normal;font-family:Menlo,'DejaVu Sans Mono',consolas,'Courier New',monospace\">models/text-embedding-<span style=\"color: #008080; text-decoration-color: #008080; font-weight: bold\">004</span>\n",
       "</pre>\n"
      ],
      "text/plain": [
       "models/text-embedding-\u001b[1;36m004\u001b[0m\n"
      ]
     },
     "metadata": {},
     "output_type": "display_data"
    },
    {
     "data": {
      "text/html": [
       "<pre style=\"white-space:pre;overflow-x:auto;line-height:normal;font-family:Menlo,'DejaVu Sans Mono',consolas,'Courier New',monospace\">models/aqa\n",
       "</pre>\n"
      ],
      "text/plain": [
       "models/aqa\n"
      ]
     },
     "metadata": {},
     "output_type": "display_data"
    }
   ],
   "source": [
    "import google.generativeai as genai\n",
    "for model in genai.list_models():\n",
    "    print(model.name)"
   ]
  },
  {
   "cell_type": "code",
   "execution_count": 37,
   "metadata": {},
   "outputs": [],
   "source": [
    "from langchain_google_genai import ChatGoogleGenerativeAI\n",
    "\n",
    "# Create an instance of the LLM, using the 'gemini-pro' model with a specified creativity level\n",
    "llm = ChatGoogleGenerativeAI(model='gemini-1.5-flash', temperature=0.1)\n",
    "\n",
    "# Send a creative prompt to the LLM\n",
    "# response = llm.invoke('Write a paragraph about life on Mars in year 2100.')\n",
    "# print(response.content)"
   ]
  },
  {
   "cell_type": "code",
   "execution_count": 50,
   "metadata": {},
   "outputs": [],
   "source": [
    "import langchain_google_genai as genai\n",
    "\n",
    "llm  = genai.llms.GoogleGenerativeAI(model=\"gemini-1.5-flash\")"
   ]
  },
  {
   "cell_type": "code",
   "execution_count": 51,
   "metadata": {},
   "outputs": [
    {
     "data": {
      "text/plain": [
       "'Hi! How can I help you today? \\n'"
      ]
     },
     "execution_count": 51,
     "metadata": {},
     "output_type": "execute_result"
    }
   ],
   "source": [
    "llm.invoke(\"hi\")"
   ]
  },
  {
   "cell_type": "code",
   "execution_count": 90,
   "metadata": {},
   "outputs": [
    {
     "name": "stdout",
     "output_type": "stream",
     "text": [
      "\n",
      "\n",
      "\u001b[1m> Entering new LLMChain chain...\u001b[0m\n",
      "Prompt after formatting:\n",
      "\u001b[32;1m\u001b[1;3mYou are an expert prompt engineer. Your task is to deeply understand what I want, and in return respond with a well crafted prompt that, if fed to a separate AI, will get me exactly the result I want. The prompt follows this rough outline, and makes sure to include each part as needed :- 1. A persona. At the start, you write something to the affect of \"Act as an expert in ...\" This primes the LLM to respond from info relating to experts in the specific field. 2. The task. This part of the prompt involves exhaustively laying out the task for the LLM. It is critical this part is specific and clear. This is the most important part of the prompt. 3. Context. Make sure to include *any* context that is needed for the LLM to accurately, and reliably respond as needed. 4. Response format. Outline the ideal response format for this prompt. 5. Examples. This step is optional, but if examples would be beneficial, include them. 6. Input. If needed, leave a space in the prompt for any input data. This should be highlight between brackets [like this]\n",
      "Some other important notes :- - Instruct the model to list out it's thoughts before giving an answer. - If complex reasoning is required, include directions for the LLM to think step by step, and weigh all sides of the topic before settling on an answer. - Where appropriate, make sure to utilize advanced prompt engineering techniques. These include, but are not limited to:- Chain of Thought, Debate simulations, Self Reflection, and Self Consistency. - Strictly use text, no code please\n",
      "Please craft the perfect prompt for my request below\n",
      "---\n",
      "You are an expert in analyzing US mortgage documents like Deed, Deed of Trust, Mortgage, Satisfaction of Mortgage, and Release. Upon receiving an input, which can be either an image or text of one of these documents, you are to:-- 1. Classify the document type and provide a confidence score for the classification. 2. Based on the document type, extract detailed information, if present, including:-- - Buyer first name and its confidence score. - Buyer last name and its confidence score. - Buyer address, city, and zipcode, each with its own confidence score. - Seller first name and its confidence score. - Seller last name and its confidence score. - Seller address, city, and zipcode, each with its own confidence score. - Property address, Lot, and Block, each with its own confidence score. If any detail is not found within the document, clearly indicate it as Not found in the document and provide a confidence score for this assertion as well. Your response should be structured in JSON format, ensuring each extracted value is paired with a corresponding confidence score. For example:-- This detailed extraction, complete with confidence scores, aids in ensuring the precision and reliability of the data extracted from the mortgage documents.\n",
      "{mortgage_document}\u001b[0m\n",
      "\n",
      "\u001b[1m> Finished chain.\u001b[0m\n"
     ]
    },
    {
     "ename": "AttributeError",
     "evalue": "'dict' object has no attribute 'text'",
     "output_type": "error",
     "traceback": [
      "\u001b[1;31m---------------------------------------------------------------------------\u001b[0m",
      "\u001b[1;31mAttributeError\u001b[0m                            Traceback (most recent call last)",
      "Cell \u001b[1;32mIn[90], line 10\u001b[0m\n\u001b[0;32m      8\u001b[0m chain \u001b[38;5;241m=\u001b[39m LLMChain(llm\u001b[38;5;241m=\u001b[39mllm, prompt\u001b[38;5;241m=\u001b[39mbase_mortgage, verbose\u001b[38;5;241m=\u001b[39m\u001b[38;5;28;01mTrue\u001b[39;00m)\n\u001b[0;32m      9\u001b[0m response \u001b[38;5;241m=\u001b[39m chain\u001b[38;5;241m.\u001b[39minvoke(\u001b[38;5;28minput\u001b[39m\u001b[38;5;241m=\u001b[39mmortgage_prompt\u001b[38;5;241m.\u001b[39mtemplate)\n\u001b[1;32m---> 10\u001b[0m \u001b[38;5;28mprint\u001b[39m(\u001b[43mresponse\u001b[49m\u001b[38;5;241;43m.\u001b[39;49m\u001b[43mtext\u001b[49m)\n",
      "\u001b[1;31mAttributeError\u001b[0m: 'dict' object has no attribute 'text'"
     ]
    }
   ],
   "source": [
    "from langchain.prompts import PromptTemplate\n",
    "from langchain.chains import LLMChain\n",
    "\n",
    "# Set up a prompt template\n",
    "prompt = PromptTemplate.from_template('You are a content creator. Write me a tweet about {topic}')\n",
    "\n",
    "# Create a chain that utilizes both the LLM and the prompt template\n",
    "chain = LLMChain(llm=llm, prompt=base_mortgage, verbose=True)\n",
    "response = chain.invoke(input=mortgage_prompt.template)\n",
    "print(response)"
   ]
  },
  {
   "cell_type": "code",
   "execution_count": 82,
   "metadata": {},
   "outputs": [],
   "source": [
    "from langchain_core.prompts.loading import load_prompt\n",
    "base_prompt = load_prompt(r\"..\\prompts\\base.yaml\")\n",
    "mortgage_prompt = load_prompt(r\"..\\prompts\\mortgage.yaml\")\n",
    "base_mortgage = base_prompt\n"
   ]
  },
  {
   "cell_type": "code",
   "execution_count": 84,
   "metadata": {},
   "outputs": [
    {
     "data": {
      "text/plain": [
       "StringPromptValue(text='You are an expert prompt engineer. Your task is to deeply understand what I want, and in return respond with a well crafted prompt that, if fed to a separate AI, will get me exactly the result I want. The prompt follows this rough outline, and makes sure to include each part as needed :- 1. A persona. At the start, you write something to the affect of \"Act as an expert in ...\" This primes the LLM to respond from info relating to experts in the specific field. 2. The task. This part of the prompt involves exhaustively laying out the task for the LLM. It is critical this part is specific and clear. This is the most important part of the prompt. 3. Context. Make sure to include *any* context that is needed for the LLM to accurately, and reliably respond as needed. 4. Response format. Outline the ideal response format for this prompt. 5. Examples. This step is optional, but if examples would be beneficial, include them. 6. Input. If needed, leave a space in the prompt for any input data. This should be highlight between brackets [like this]\\nSome other important notes :- - Instruct the model to list out it\\'s thoughts before giving an answer. - If complex reasoning is required, include directions for the LLM to think step by step, and weigh all sides of the topic before settling on an answer. - Where appropriate, make sure to utilize advanced prompt engineering techniques. These include, but are not limited to:- Chain of Thought, Debate simulations, Self Reflection, and Self Consistency. - Strictly use text, no code please\\nPlease craft the perfect prompt for my request below\\n---\\ntext=\\'You are an expert in analyzing US mortgage documents like Deed, Deed of Trust, Mortgage, Satisfaction of Mortgage, and Release. Upon receiving an input, which can be either an image or text of one of these documents, you are to:-- 1. Classify the document type and provide a confidence score for the classification. 2. Based on the document type, extract detailed information, if present, including:-- - Buyer first name and its confidence score. - Buyer last name and its confidence score. - Buyer address, city, and zipcode, each with its own confidence score. - Seller first name and its confidence score. - Seller last name and its confidence score. - Seller address, city, and zipcode, each with its own confidence score. - Property address, Lot, and Block, each with its own confidence score. If any detail is not found within the document, clearly indicate it as Not found in the document and provide a confidence score for this assertion as well. Your response should be structured in JSON format, ensuring each extracted value is paired with a corresponding confidence score. For example:-- This detailed extraction, complete with confidence scores, aids in ensuring the precision and reliability of the data extracted from the mortgage documents.\\\\nMortgage\\'')"
      ]
     },
     "execution_count": 84,
     "metadata": {},
     "output_type": "execute_result"
    }
   ],
   "source": [
    "base_prompt.invoke(mortgage_prompt.invoke(input={\"mortgage_document\": \"Mortgage\"}))    \n"
   ]
  },
  {
   "cell_type": "code",
   "execution_count": 27,
   "metadata": {},
   "outputs": [
    {
     "data": {
      "text/plain": [
       "True"
      ]
     },
     "execution_count": 27,
     "metadata": {},
     "output_type": "execute_result"
    }
   ],
   "source": [
    "from google.cloud import storage\n",
    "from dotenv import load_dotenv, find_dotenv\n",
    "import os\n",
    "load_dotenv(find_dotenv(), override=True)"
   ]
  },
  {
   "cell_type": "code",
   "execution_count": 28,
   "metadata": {},
   "outputs": [],
   "source": [
    "storage_client = storage.Client()\n",
    "bucket_name = os.getenv(\"GCP_BUCKET_NAME\")\n"
   ]
  },
  {
   "cell_type": "code",
   "execution_count": 30,
   "metadata": {},
   "outputs": [],
   "source": [
    "bucket = storage_client.bucket(bucket_name)"
   ]
  },
  {
   "cell_type": "code",
   "execution_count": 31,
   "metadata": {},
   "outputs": [],
   "source": [
    "blob = bucket.blob(\"mortgage.pdf\")"
   ]
  },
  {
   "cell_type": "code",
   "execution_count": 33,
   "metadata": {},
   "outputs": [],
   "source": [
    "blob.upload_from_filename(r\"C:\\Users\\kumar\\genai\\documents\\mortgage.pdf\")"
   ]
  },
  {
   "cell_type": "code",
   "execution_count": null,
   "metadata": {},
   "outputs": [],
   "source": [
    "# import base64\n",
    "# import vertexai\n",
    "# from vertexai.generative_models import GenerativeModel, Part, SafetySetting\n",
    "\n",
    "\n",
    "# def generate():\n",
    "#     vertexai.init(project=\"core-synthesis-418908\", location=\"us-central1\")\n",
    "#     model = GenerativeModel(\n",
    "#         \"gemini-1.5-flash-002\",\n",
    "#     )\n",
    "#     responses = model.generate_content(\n",
    "#         [document1],\n",
    "#         generation_config=generation_config,\n",
    "#         safety_settings=safety_settings,\n",
    "#         stream=True,\n",
    "#     )\n",
    "\n",
    "#     for response in responses:\n",
    "#         print(response.text, end=\"\")\n",
    "\n",
    "# document1 = Part.from_uri(\n",
    "#     mime_type=\"application/pdf\",\n",
    "#     uri=\"gs://xtractly_file_storage/f6776818-25b4-4770-863e-93cffcac33ff_mortgage.pdf\",\n",
    "# )\n",
    "\n",
    "# generation_config = {\n",
    "#     \"max_output_tokens\": 8192,\n",
    "#     \"temperature\": 1,\n",
    "#     \"top_p\": 0.95,\n",
    "# }\n",
    "\n",
    "# safety_settings = [\n",
    "#     SafetySetting(\n",
    "#         category=SafetySetting.HarmCategory.HARM_CATEGORY_HATE_SPEECH,\n",
    "#         threshold=SafetySetting.HarmBlockThreshold.OFF\n",
    "#     ),\n",
    "#     SafetySetting(\n",
    "#         category=SafetySetting.HarmCategory.HARM_CATEGORY_DANGEROUS_CONTENT,\n",
    "#         threshold=SafetySetting.HarmBlockThreshold.OFF\n",
    "#     ),\n",
    "#     SafetySetting(\n",
    "#         category=SafetySetting.HarmCategory.HARM_CATEGORY_SEXUALLY_EXPLICIT,\n",
    "#         threshold=SafetySetting.HarmBlockThreshold.OFF\n",
    "#     ),\n",
    "#     SafetySetting(\n",
    "#         category=SafetySetting.HarmCategory.HARM_CATEGORY_HARASSMENT,\n",
    "#         threshold=SafetySetting.HarmBlockThreshold.OFF\n",
    "#     ),\n",
    "# ]\n",
    "\n",
    "# generate()"
   ]
  },
  {
   "cell_type": "code",
   "execution_count": 54,
   "metadata": {},
   "outputs": [],
   "source": [
    "from dotenv import load_dotenv, find_dotenv\n",
    "import getpass\n",
    "import os\n",
    "import langchain_google_genai as genai\n",
    "\n",
    "load_dotenv(find_dotenv(), override=True)\n",
    "\n",
    "if 'GOOGLE_API_KEY' not in os.environ:\n",
    "    os.environ['GOOGLE_API_KEY'] = getpass.getpass('Provide your Google API Key: ')\n",
    "\n",
    "# def get_model_list():\n",
    "#     return genai.list_models()\n",
    "\n",
    "def get_llm(model: str):\n",
    "    return genai.llms.GoogleGenerativeAI(model=model)\n",
    "\n"
   ]
  },
  {
   "cell_type": "code",
   "execution_count": 113,
   "metadata": {},
   "outputs": [
    {
     "data": {
      "text/plain": [
       "'Hi there! What can I do for you today? \\n'"
      ]
     },
     "execution_count": 113,
     "metadata": {},
     "output_type": "execute_result"
    }
   ],
   "source": [
    "get_llm(\"gemini-1.5-flash\").invoke(\"hi\")"
   ]
  },
  {
   "cell_type": "code",
   "execution_count": 163,
   "metadata": {},
   "outputs": [],
   "source": [
    "from pydantic import BaseModel, RootModel\n",
    "from typing import List, Optional\n",
    "\n",
    "class Deed(BaseModel):\n",
    "    document_classification: str\n",
    "    document_classification_confidence: float\n",
    "    borrower_first_name: Optional[str] = None\n",
    "    borrower_first_name_confidence: Optional[float] = None\n",
    "    borrower_last_name: Optional[str] = None\n",
    "    borrower_last_name_confidence: Optional[float] = None\n",
    "    borrower_relationship_type: Optional[str] = None\n",
    "    borrower_relationship_type_confidence: Optional[float] = None\n",
    "    borrower_zip_code: Optional[str] = None\n",
    "    borrower_zip_code_confidence: Optional[float] = None\n",
    "    borrower_city: Optional[str] = None\n",
    "    borrower_city_confidence: Optional[float] = None\n",
    "    borrower_state: Optional[str] = None\n",
    "    borrower_state_confidence: Optional[float] = None\n",
    "    borrower_street_address: Optional[str] = None\n",
    "    borrower_street_address_confidence: Optional[float] = None\n",
    "    sale_date: Optional[str] = None\n",
    "    sale_date_confidence: Optional[float] = None\n",
    "    sale_price: Optional[str] = None\n",
    "    sale_price_confidence: Optional[float] = None\n",
    "    company_name: Optional[str] = None\n",
    "    company_name_confidence: Optional[float] = None\n",
    "    attorney_name: Optional[str] = None\n",
    "    attorney_name_confidence: Optional[float] = None\n",
    "    lender_first_name_or_company_name: Optional[str] = None\n",
    "    lender_first_name_or_company_name_confidence: Optional[float] = None\n",
    "    lender_zip_code: Optional[str] = None\n",
    "    lender_zip_code_confidence: Optional[float] = None\n",
    "    lender_city: Optional[str] = None\n",
    "    lender_city_confidence: Optional[float] = None\n",
    "    lender_state: Optional[str] = None\n",
    "    lender_state_confidence: Optional[float] = None\n",
    "    property_zip_code: Optional[str] = None\n",
    "    property_zip_code_confidence: Optional[float] = None\n",
    "    property_city: Optional[str] = None\n",
    "    property_city_confidence: Optional[float] = None\n",
    "    amortization_term: Optional[str] = None\n",
    "    amortization_term_confidence: Optional[float] = None\n",
    "    loan_due_date: Optional[str] = None\n",
    "    loan_due_date_confidence: Optional[float] = None\n",
    "    interest_rate: Optional[str] = None\n",
    "    interest_rate_confidence: Optional[float] = None\n",
    "\n",
    "class Mortgage(BaseModel):\n",
    "    document_classification: str\n",
    "    document_classification_confidence: float\n",
    "    borrower_first_name: Optional[str] = None\n",
    "    borrower_first_name_confidence: Optional[float] = None\n",
    "    borrower_last_name: Optional[str] = None\n",
    "    borrower_last_name_confidence: Optional[float] = None\n",
    "    borrower_relationship_type: Optional[str] = None\n",
    "    borrower_relationship_type_confidence: Optional[float] = None\n",
    "    borrower_zip_code: Optional[str] = None\n",
    "    borrower_zip_code_confidence: Optional[float] = None\n",
    "    borrower_city: Optional[str] = None\n",
    "    borrower_city_confidence: Optional[float] = None\n",
    "    borrower_state: Optional[str] = None\n",
    "    borrower_state_confidence: Optional[float] = None\n",
    "    borrower_street_address: Optional[str] = None\n",
    "    borrower_street_address_confidence: Optional[float] = None\n",
    "    sale_date: Optional[str] = None\n",
    "    sale_date_confidence: Optional[float] = None\n",
    "    sale_price: Optional[str] = None\n",
    "    sale_price_confidence: Optional[float] = None\n",
    "    company_name: Optional[str] = None\n",
    "    company_name_confidence: Optional[float] = None\n",
    "    attorney_name: Optional[str] = None\n",
    "    attorney_name_confidence: Optional[float] = None\n",
    "    lender_first_name_or_company_name: Optional[str] = None\n",
    "    lender_first_name_or_company_name_confidence: Optional[float] = None\n",
    "    lender_zip_code: Optional[str] = None\n",
    "    lender_zip_code_confidence: Optional[float] = None\n",
    "    lender_city: Optional[str] = None\n",
    "    lender_city_confidence: Optional[float] = None\n",
    "    lender_state: Optional[str] = None\n",
    "    lender_state_confidence: Optional[float] = None\n",
    "    property_zip_code: Optional[str] = None\n",
    "    property_zip_code_confidence: Optional[float] = None\n",
    "    property_city: Optional[str] = None\n",
    "    property_city_confidence: Optional[float] = None\n",
    "    amortization_term: Optional[str] = None\n",
    "    amortization_term_confidence: Optional[float] = None\n",
    "    loan_due_date: Optional[str] = None\n",
    "    loan_due_date_confidence: Optional[float] = None\n",
    "    interest_rate: Optional[str] = None\n",
    "    interest_rate_confidence: Optional[float] = None\n",
    "\n",
    "class DeedOfTrust(BaseModel):\n",
    "    document_classification: str\n",
    "    document_classification_confidence: float\n",
    "    borrower_first_name: Optional[str] = None\n",
    "    borrower_first_name_confidence: Optional[float] = None\n",
    "    borrower_last_name: Optional[str] = None\n",
    "    borrower_last_name_confidence: Optional[float] = None\n",
    "    borrower_relationship_type: Optional[str] = None\n",
    "    borrower_relationship_type_confidence: Optional[float] = None\n",
    "    borrower_zip_code: Optional[str] = None\n",
    "    borrower_zip_code_confidence: Optional[float] = None\n",
    "    borrower_city: Optional[str] = None\n",
    "    borrower_city_confidence: Optional[float] = None\n",
    "    borrower_state: Optional[str] = None\n",
    "    borrower_state_confidence: Optional[float] = None\n",
    "    borrower_street_address: Optional[str] = None\n",
    "    borrower_street_address_confidence: Optional[float] = None\n",
    "    sale_date: Optional[str] = None\n",
    "    sale_date_confidence: Optional[float] = None\n",
    "    sale_price: Optional[str] = None\n",
    "    sale_price_confidence: Optional[float] = None\n",
    "    company_name: Optional[str] = None\n",
    "    company_name_confidence: Optional[float] = None\n",
    "    attorney_name: Optional[str] = None\n",
    "    attorney_name_confidence: Optional[float] = None\n",
    "    lender_first_name_or_company_name: Optional[str] = None\n",
    "    lender_first_name_or_company_name_confidence: Optional[float] = None\n",
    "    lender_zip_code: Optional[str] = None\n",
    "    lender_zip_code_confidence: Optional[float] = None\n",
    "    lender_city: Optional[str] = None\n",
    "    lender_city_confidence: Optional[float] = None\n",
    "    lender_state: Optional[str] = None\n",
    "    lender_state_confidence: Optional[float] = None\n",
    "    property_zip_code: Optional[str] = None\n",
    "    property_zip_code_confidence: Optional[float] = None\n",
    "    property_city: Optional[str] = None\n",
    "    property_city_confidence: Optional[float] = None\n",
    "    amortization_term: Optional[str] = None\n",
    "    amortization_term_confidence: Optional[float] = None\n",
    "    loan_due_date: Optional[str] = None\n",
    "    loan_due_date_confidence: Optional[float] = None\n",
    "    interest_rate: Optional[str] = None\n",
    "    interest_rate_confidence: Optional[float] = None\n",
    "\n",
    "class Document(BaseModel):\n",
    "    Deed: Optional[Deed] = None\n",
    "    Mortgage: Optional[Mortgage] = None\n",
    "    DeedOfTrust: Optional[DeedOfTrust] = None\n",
    "\n",
    "class Documents(RootModel):\n",
    "    root: List[Document]\n"
   ]
  },
  {
   "cell_type": "code",
   "execution_count": 164,
   "metadata": {},
   "outputs": [
    {
     "data": {
      "text/html": [
       "<pre style=\"white-space:pre;overflow-x:auto;line-height:normal;font-family:Menlo,'DejaVu Sans Mono',consolas,'Courier New',monospace\"><span style=\"font-weight: bold\">{</span><span style=\"color: #008000; text-decoration-color: #008000\">\"properties\"</span>: <span style=\"font-weight: bold\">{</span><span style=\"color: #008000; text-decoration-color: #008000\">\"document_classification\"</span>: <span style=\"font-weight: bold\">{</span><span style=\"color: #008000; text-decoration-color: #008000\">\"title\"</span>: <span style=\"color: #008000; text-decoration-color: #008000\">\"Document Classification\"</span>, <span style=\"color: #008000; text-decoration-color: #008000\">\"type\"</span>: <span style=\"color: #008000; text-decoration-color: #008000\">\"string\"</span><span style=\"font-weight: bold\">}</span>, \n",
       "<span style=\"color: #008000; text-decoration-color: #008000\">\"document_classification_confidence\"</span>: <span style=\"font-weight: bold\">{</span><span style=\"color: #008000; text-decoration-color: #008000\">\"title\"</span>: <span style=\"color: #008000; text-decoration-color: #008000\">\"Document Classification Confidence\"</span>, <span style=\"color: #008000; text-decoration-color: #008000\">\"type\"</span>: <span style=\"color: #008000; text-decoration-color: #008000\">\"number\"</span><span style=\"font-weight: bold\">}</span>, \n",
       "<span style=\"color: #008000; text-decoration-color: #008000\">\"borrower_first_name\"</span>: <span style=\"font-weight: bold\">{</span><span style=\"color: #008000; text-decoration-color: #008000\">\"anyOf\"</span>: <span style=\"font-weight: bold\">[{</span><span style=\"color: #008000; text-decoration-color: #008000\">\"type\"</span>: <span style=\"color: #008000; text-decoration-color: #008000\">\"string\"</span><span style=\"font-weight: bold\">}</span>, <span style=\"font-weight: bold\">{</span><span style=\"color: #008000; text-decoration-color: #008000\">\"type\"</span>: <span style=\"color: #008000; text-decoration-color: #008000\">\"null\"</span><span style=\"font-weight: bold\">}]</span>, <span style=\"color: #008000; text-decoration-color: #008000\">\"default\"</span>: null, <span style=\"color: #008000; text-decoration-color: #008000\">\"title\"</span>: <span style=\"color: #008000; text-decoration-color: #008000\">\"Borrower First </span>\n",
       "<span style=\"color: #008000; text-decoration-color: #008000\">Name\"</span><span style=\"font-weight: bold\">}</span>, <span style=\"color: #008000; text-decoration-color: #008000\">\"borrower_first_name_confidence\"</span>: <span style=\"font-weight: bold\">{</span><span style=\"color: #008000; text-decoration-color: #008000\">\"anyOf\"</span>: <span style=\"font-weight: bold\">[{</span><span style=\"color: #008000; text-decoration-color: #008000\">\"type\"</span>: <span style=\"color: #008000; text-decoration-color: #008000\">\"number\"</span><span style=\"font-weight: bold\">}</span>, <span style=\"font-weight: bold\">{</span><span style=\"color: #008000; text-decoration-color: #008000\">\"type\"</span>: <span style=\"color: #008000; text-decoration-color: #008000\">\"null\"</span><span style=\"font-weight: bold\">}]</span>, <span style=\"color: #008000; text-decoration-color: #008000\">\"default\"</span>: null, \n",
       "<span style=\"color: #008000; text-decoration-color: #008000\">\"title\"</span>: <span style=\"color: #008000; text-decoration-color: #008000\">\"Borrower First Name Confidence\"</span><span style=\"font-weight: bold\">}</span>, <span style=\"color: #008000; text-decoration-color: #008000\">\"borrower_last_name\"</span>: <span style=\"font-weight: bold\">{</span><span style=\"color: #008000; text-decoration-color: #008000\">\"anyOf\"</span>: <span style=\"font-weight: bold\">[{</span><span style=\"color: #008000; text-decoration-color: #008000\">\"type\"</span>: <span style=\"color: #008000; text-decoration-color: #008000\">\"string\"</span><span style=\"font-weight: bold\">}</span>, <span style=\"font-weight: bold\">{</span><span style=\"color: #008000; text-decoration-color: #008000\">\"type\"</span>: <span style=\"color: #008000; text-decoration-color: #008000\">\"null\"</span><span style=\"font-weight: bold\">}]</span>,\n",
       "<span style=\"color: #008000; text-decoration-color: #008000\">\"default\"</span>: null, <span style=\"color: #008000; text-decoration-color: #008000\">\"title\"</span>: <span style=\"color: #008000; text-decoration-color: #008000\">\"Borrower Last Name\"</span><span style=\"font-weight: bold\">}</span>, <span style=\"color: #008000; text-decoration-color: #008000\">\"borrower_last_name_confidence\"</span>: <span style=\"font-weight: bold\">{</span><span style=\"color: #008000; text-decoration-color: #008000\">\"anyOf\"</span>: <span style=\"font-weight: bold\">[{</span><span style=\"color: #008000; text-decoration-color: #008000\">\"type\"</span>: <span style=\"color: #008000; text-decoration-color: #008000\">\"number\"</span><span style=\"font-weight: bold\">}</span>, \n",
       "<span style=\"font-weight: bold\">{</span><span style=\"color: #008000; text-decoration-color: #008000\">\"type\"</span>: <span style=\"color: #008000; text-decoration-color: #008000\">\"null\"</span><span style=\"font-weight: bold\">}]</span>, <span style=\"color: #008000; text-decoration-color: #008000\">\"default\"</span>: null, <span style=\"color: #008000; text-decoration-color: #008000\">\"title\"</span>: <span style=\"color: #008000; text-decoration-color: #008000\">\"Borrower Last Name Confidence\"</span><span style=\"font-weight: bold\">}</span>, <span style=\"color: #008000; text-decoration-color: #008000\">\"borrower_relationship_type\"</span>: \n",
       "<span style=\"font-weight: bold\">{</span><span style=\"color: #008000; text-decoration-color: #008000\">\"anyOf\"</span>: <span style=\"font-weight: bold\">[{</span><span style=\"color: #008000; text-decoration-color: #008000\">\"type\"</span>: <span style=\"color: #008000; text-decoration-color: #008000\">\"string\"</span><span style=\"font-weight: bold\">}</span>, <span style=\"font-weight: bold\">{</span><span style=\"color: #008000; text-decoration-color: #008000\">\"type\"</span>: <span style=\"color: #008000; text-decoration-color: #008000\">\"null\"</span><span style=\"font-weight: bold\">}]</span>, <span style=\"color: #008000; text-decoration-color: #008000\">\"default\"</span>: null, <span style=\"color: #008000; text-decoration-color: #008000\">\"title\"</span>: <span style=\"color: #008000; text-decoration-color: #008000\">\"Borrower Relationship Type\"</span><span style=\"font-weight: bold\">}</span>, \n",
       "<span style=\"color: #008000; text-decoration-color: #008000\">\"borrower_relationship_type_confidence\"</span>: <span style=\"font-weight: bold\">{</span><span style=\"color: #008000; text-decoration-color: #008000\">\"anyOf\"</span>: <span style=\"font-weight: bold\">[{</span><span style=\"color: #008000; text-decoration-color: #008000\">\"type\"</span>: <span style=\"color: #008000; text-decoration-color: #008000\">\"number\"</span><span style=\"font-weight: bold\">}</span>, <span style=\"font-weight: bold\">{</span><span style=\"color: #008000; text-decoration-color: #008000\">\"type\"</span>: <span style=\"color: #008000; text-decoration-color: #008000\">\"null\"</span><span style=\"font-weight: bold\">}]</span>, <span style=\"color: #008000; text-decoration-color: #008000\">\"default\"</span>: null, \n",
       "<span style=\"color: #008000; text-decoration-color: #008000\">\"title\"</span>: <span style=\"color: #008000; text-decoration-color: #008000\">\"Borrower Relationship Type Confidence\"</span><span style=\"font-weight: bold\">}</span>, <span style=\"color: #008000; text-decoration-color: #008000\">\"borrower_zip_code\"</span>: <span style=\"font-weight: bold\">{</span><span style=\"color: #008000; text-decoration-color: #008000\">\"anyOf\"</span>: <span style=\"font-weight: bold\">[{</span><span style=\"color: #008000; text-decoration-color: #008000\">\"type\"</span>: <span style=\"color: #008000; text-decoration-color: #008000\">\"string\"</span><span style=\"font-weight: bold\">}</span>, <span style=\"font-weight: bold\">{</span><span style=\"color: #008000; text-decoration-color: #008000\">\"type\"</span>: \n",
       "<span style=\"color: #008000; text-decoration-color: #008000\">\"null\"</span><span style=\"font-weight: bold\">}]</span>, <span style=\"color: #008000; text-decoration-color: #008000\">\"default\"</span>: null, <span style=\"color: #008000; text-decoration-color: #008000\">\"title\"</span>: <span style=\"color: #008000; text-decoration-color: #008000\">\"Borrower Zip Code\"</span><span style=\"font-weight: bold\">}</span>, <span style=\"color: #008000; text-decoration-color: #008000\">\"borrower_zip_code_confidence\"</span>: <span style=\"font-weight: bold\">{</span><span style=\"color: #008000; text-decoration-color: #008000\">\"anyOf\"</span>: <span style=\"font-weight: bold\">[{</span><span style=\"color: #008000; text-decoration-color: #008000\">\"type\"</span>: \n",
       "<span style=\"color: #008000; text-decoration-color: #008000\">\"number\"</span><span style=\"font-weight: bold\">}</span>, <span style=\"font-weight: bold\">{</span><span style=\"color: #008000; text-decoration-color: #008000\">\"type\"</span>: <span style=\"color: #008000; text-decoration-color: #008000\">\"null\"</span><span style=\"font-weight: bold\">}]</span>, <span style=\"color: #008000; text-decoration-color: #008000\">\"default\"</span>: null, <span style=\"color: #008000; text-decoration-color: #008000\">\"title\"</span>: <span style=\"color: #008000; text-decoration-color: #008000\">\"Borrower Zip Code Confidence\"</span><span style=\"font-weight: bold\">}</span>, <span style=\"color: #008000; text-decoration-color: #008000\">\"borrower_city\"</span>: <span style=\"font-weight: bold\">{</span><span style=\"color: #008000; text-decoration-color: #008000\">\"anyOf\"</span>:\n",
       "<span style=\"font-weight: bold\">[{</span><span style=\"color: #008000; text-decoration-color: #008000\">\"type\"</span>: <span style=\"color: #008000; text-decoration-color: #008000\">\"string\"</span><span style=\"font-weight: bold\">}</span>, <span style=\"font-weight: bold\">{</span><span style=\"color: #008000; text-decoration-color: #008000\">\"type\"</span>: <span style=\"color: #008000; text-decoration-color: #008000\">\"null\"</span><span style=\"font-weight: bold\">}]</span>, <span style=\"color: #008000; text-decoration-color: #008000\">\"default\"</span>: null, <span style=\"color: #008000; text-decoration-color: #008000\">\"title\"</span>: <span style=\"color: #008000; text-decoration-color: #008000\">\"Borrower City\"</span><span style=\"font-weight: bold\">}</span>, <span style=\"color: #008000; text-decoration-color: #008000\">\"borrower_city_confidence\"</span>: \n",
       "<span style=\"font-weight: bold\">{</span><span style=\"color: #008000; text-decoration-color: #008000\">\"anyOf\"</span>: <span style=\"font-weight: bold\">[{</span><span style=\"color: #008000; text-decoration-color: #008000\">\"type\"</span>: <span style=\"color: #008000; text-decoration-color: #008000\">\"number\"</span><span style=\"font-weight: bold\">}</span>, <span style=\"font-weight: bold\">{</span><span style=\"color: #008000; text-decoration-color: #008000\">\"type\"</span>: <span style=\"color: #008000; text-decoration-color: #008000\">\"null\"</span><span style=\"font-weight: bold\">}]</span>, <span style=\"color: #008000; text-decoration-color: #008000\">\"default\"</span>: null, <span style=\"color: #008000; text-decoration-color: #008000\">\"title\"</span>: <span style=\"color: #008000; text-decoration-color: #008000\">\"Borrower City Confidence\"</span><span style=\"font-weight: bold\">}</span>, \n",
       "<span style=\"color: #008000; text-decoration-color: #008000\">\"borrower_state\"</span>: <span style=\"font-weight: bold\">{</span><span style=\"color: #008000; text-decoration-color: #008000\">\"anyOf\"</span>: <span style=\"font-weight: bold\">[{</span><span style=\"color: #008000; text-decoration-color: #008000\">\"type\"</span>: <span style=\"color: #008000; text-decoration-color: #008000\">\"string\"</span><span style=\"font-weight: bold\">}</span>, <span style=\"font-weight: bold\">{</span><span style=\"color: #008000; text-decoration-color: #008000\">\"type\"</span>: <span style=\"color: #008000; text-decoration-color: #008000\">\"null\"</span><span style=\"font-weight: bold\">}]</span>, <span style=\"color: #008000; text-decoration-color: #008000\">\"default\"</span>: null, <span style=\"color: #008000; text-decoration-color: #008000\">\"title\"</span>: <span style=\"color: #008000; text-decoration-color: #008000\">\"Borrower State\"</span><span style=\"font-weight: bold\">}</span>, \n",
       "<span style=\"color: #008000; text-decoration-color: #008000\">\"borrower_state_confidence\"</span>: <span style=\"font-weight: bold\">{</span><span style=\"color: #008000; text-decoration-color: #008000\">\"anyOf\"</span>: <span style=\"font-weight: bold\">[{</span><span style=\"color: #008000; text-decoration-color: #008000\">\"type\"</span>: <span style=\"color: #008000; text-decoration-color: #008000\">\"number\"</span><span style=\"font-weight: bold\">}</span>, <span style=\"font-weight: bold\">{</span><span style=\"color: #008000; text-decoration-color: #008000\">\"type\"</span>: <span style=\"color: #008000; text-decoration-color: #008000\">\"null\"</span><span style=\"font-weight: bold\">}]</span>, <span style=\"color: #008000; text-decoration-color: #008000\">\"default\"</span>: null, <span style=\"color: #008000; text-decoration-color: #008000\">\"title\"</span>: <span style=\"color: #008000; text-decoration-color: #008000\">\"Borrower </span>\n",
       "<span style=\"color: #008000; text-decoration-color: #008000\">State Confidence\"</span><span style=\"font-weight: bold\">}</span>, <span style=\"color: #008000; text-decoration-color: #008000\">\"borrower_street_address\"</span>: <span style=\"font-weight: bold\">{</span><span style=\"color: #008000; text-decoration-color: #008000\">\"anyOf\"</span>: <span style=\"font-weight: bold\">[{</span><span style=\"color: #008000; text-decoration-color: #008000\">\"type\"</span>: <span style=\"color: #008000; text-decoration-color: #008000\">\"string\"</span><span style=\"font-weight: bold\">}</span>, <span style=\"font-weight: bold\">{</span><span style=\"color: #008000; text-decoration-color: #008000\">\"type\"</span>: <span style=\"color: #008000; text-decoration-color: #008000\">\"null\"</span><span style=\"font-weight: bold\">}]</span>, <span style=\"color: #008000; text-decoration-color: #008000\">\"default\"</span>: null, \n",
       "<span style=\"color: #008000; text-decoration-color: #008000\">\"title\"</span>: <span style=\"color: #008000; text-decoration-color: #008000\">\"Borrower Street Address\"</span><span style=\"font-weight: bold\">}</span>, <span style=\"color: #008000; text-decoration-color: #008000\">\"borrower_street_address_confidence\"</span>: <span style=\"font-weight: bold\">{</span><span style=\"color: #008000; text-decoration-color: #008000\">\"anyOf\"</span>: <span style=\"font-weight: bold\">[{</span><span style=\"color: #008000; text-decoration-color: #008000\">\"type\"</span>: <span style=\"color: #008000; text-decoration-color: #008000\">\"number\"</span><span style=\"font-weight: bold\">}</span>, <span style=\"font-weight: bold\">{</span><span style=\"color: #008000; text-decoration-color: #008000\">\"type\"</span>: \n",
       "<span style=\"color: #008000; text-decoration-color: #008000\">\"null\"</span><span style=\"font-weight: bold\">}]</span>, <span style=\"color: #008000; text-decoration-color: #008000\">\"default\"</span>: null, <span style=\"color: #008000; text-decoration-color: #008000\">\"title\"</span>: <span style=\"color: #008000; text-decoration-color: #008000\">\"Borrower Street Address Confidence\"</span><span style=\"font-weight: bold\">}</span>, <span style=\"color: #008000; text-decoration-color: #008000\">\"sale_date\"</span>: <span style=\"font-weight: bold\">{</span><span style=\"color: #008000; text-decoration-color: #008000\">\"anyOf\"</span>: <span style=\"font-weight: bold\">[{</span><span style=\"color: #008000; text-decoration-color: #008000\">\"type\"</span>: \n",
       "<span style=\"color: #008000; text-decoration-color: #008000\">\"string\"</span><span style=\"font-weight: bold\">}</span>, <span style=\"font-weight: bold\">{</span><span style=\"color: #008000; text-decoration-color: #008000\">\"type\"</span>: <span style=\"color: #008000; text-decoration-color: #008000\">\"null\"</span><span style=\"font-weight: bold\">}]</span>, <span style=\"color: #008000; text-decoration-color: #008000\">\"default\"</span>: null, <span style=\"color: #008000; text-decoration-color: #008000\">\"title\"</span>: <span style=\"color: #008000; text-decoration-color: #008000\">\"Sale Date\"</span><span style=\"font-weight: bold\">}</span>, <span style=\"color: #008000; text-decoration-color: #008000\">\"sale_date_confidence\"</span>: <span style=\"font-weight: bold\">{</span><span style=\"color: #008000; text-decoration-color: #008000\">\"anyOf\"</span>: <span style=\"font-weight: bold\">[{</span><span style=\"color: #008000; text-decoration-color: #008000\">\"type\"</span>: \n",
       "<span style=\"color: #008000; text-decoration-color: #008000\">\"number\"</span><span style=\"font-weight: bold\">}</span>, <span style=\"font-weight: bold\">{</span><span style=\"color: #008000; text-decoration-color: #008000\">\"type\"</span>: <span style=\"color: #008000; text-decoration-color: #008000\">\"null\"</span><span style=\"font-weight: bold\">}]</span>, <span style=\"color: #008000; text-decoration-color: #008000\">\"default\"</span>: null, <span style=\"color: #008000; text-decoration-color: #008000\">\"title\"</span>: <span style=\"color: #008000; text-decoration-color: #008000\">\"Sale Date Confidence\"</span><span style=\"font-weight: bold\">}</span>, <span style=\"color: #008000; text-decoration-color: #008000\">\"sale_price\"</span>: <span style=\"font-weight: bold\">{</span><span style=\"color: #008000; text-decoration-color: #008000\">\"anyOf\"</span>: <span style=\"font-weight: bold\">[{</span><span style=\"color: #008000; text-decoration-color: #008000\">\"type\"</span>: \n",
       "<span style=\"color: #008000; text-decoration-color: #008000\">\"string\"</span><span style=\"font-weight: bold\">}</span>, <span style=\"font-weight: bold\">{</span><span style=\"color: #008000; text-decoration-color: #008000\">\"type\"</span>: <span style=\"color: #008000; text-decoration-color: #008000\">\"null\"</span><span style=\"font-weight: bold\">}]</span>, <span style=\"color: #008000; text-decoration-color: #008000\">\"default\"</span>: null, <span style=\"color: #008000; text-decoration-color: #008000\">\"title\"</span>: <span style=\"color: #008000; text-decoration-color: #008000\">\"Sale Price\"</span><span style=\"font-weight: bold\">}</span>, <span style=\"color: #008000; text-decoration-color: #008000\">\"sale_price_confidence\"</span>: <span style=\"font-weight: bold\">{</span><span style=\"color: #008000; text-decoration-color: #008000\">\"anyOf\"</span>: <span style=\"font-weight: bold\">[{</span><span style=\"color: #008000; text-decoration-color: #008000\">\"type\"</span>:\n",
       "<span style=\"color: #008000; text-decoration-color: #008000\">\"number\"</span><span style=\"font-weight: bold\">}</span>, <span style=\"font-weight: bold\">{</span><span style=\"color: #008000; text-decoration-color: #008000\">\"type\"</span>: <span style=\"color: #008000; text-decoration-color: #008000\">\"null\"</span><span style=\"font-weight: bold\">}]</span>, <span style=\"color: #008000; text-decoration-color: #008000\">\"default\"</span>: null, <span style=\"color: #008000; text-decoration-color: #008000\">\"title\"</span>: <span style=\"color: #008000; text-decoration-color: #008000\">\"Sale Price Confidence\"</span><span style=\"font-weight: bold\">}</span>, <span style=\"color: #008000; text-decoration-color: #008000\">\"company_name\"</span>: <span style=\"font-weight: bold\">{</span><span style=\"color: #008000; text-decoration-color: #008000\">\"anyOf\"</span>: \n",
       "<span style=\"font-weight: bold\">[{</span><span style=\"color: #008000; text-decoration-color: #008000\">\"type\"</span>: <span style=\"color: #008000; text-decoration-color: #008000\">\"string\"</span><span style=\"font-weight: bold\">}</span>, <span style=\"font-weight: bold\">{</span><span style=\"color: #008000; text-decoration-color: #008000\">\"type\"</span>: <span style=\"color: #008000; text-decoration-color: #008000\">\"null\"</span><span style=\"font-weight: bold\">}]</span>, <span style=\"color: #008000; text-decoration-color: #008000\">\"default\"</span>: null, <span style=\"color: #008000; text-decoration-color: #008000\">\"title\"</span>: <span style=\"color: #008000; text-decoration-color: #008000\">\"Company Name\"</span><span style=\"font-weight: bold\">}</span>, <span style=\"color: #008000; text-decoration-color: #008000\">\"company_name_confidence\"</span>: \n",
       "<span style=\"font-weight: bold\">{</span><span style=\"color: #008000; text-decoration-color: #008000\">\"anyOf\"</span>: <span style=\"font-weight: bold\">[{</span><span style=\"color: #008000; text-decoration-color: #008000\">\"type\"</span>: <span style=\"color: #008000; text-decoration-color: #008000\">\"number\"</span><span style=\"font-weight: bold\">}</span>, <span style=\"font-weight: bold\">{</span><span style=\"color: #008000; text-decoration-color: #008000\">\"type\"</span>: <span style=\"color: #008000; text-decoration-color: #008000\">\"null\"</span><span style=\"font-weight: bold\">}]</span>, <span style=\"color: #008000; text-decoration-color: #008000\">\"default\"</span>: null, <span style=\"color: #008000; text-decoration-color: #008000\">\"title\"</span>: <span style=\"color: #008000; text-decoration-color: #008000\">\"Company Name Confidence\"</span><span style=\"font-weight: bold\">}</span>, \n",
       "<span style=\"color: #008000; text-decoration-color: #008000\">\"attorney_name\"</span>: <span style=\"font-weight: bold\">{</span><span style=\"color: #008000; text-decoration-color: #008000\">\"anyOf\"</span>: <span style=\"font-weight: bold\">[{</span><span style=\"color: #008000; text-decoration-color: #008000\">\"type\"</span>: <span style=\"color: #008000; text-decoration-color: #008000\">\"string\"</span><span style=\"font-weight: bold\">}</span>, <span style=\"font-weight: bold\">{</span><span style=\"color: #008000; text-decoration-color: #008000\">\"type\"</span>: <span style=\"color: #008000; text-decoration-color: #008000\">\"null\"</span><span style=\"font-weight: bold\">}]</span>, <span style=\"color: #008000; text-decoration-color: #008000\">\"default\"</span>: null, <span style=\"color: #008000; text-decoration-color: #008000\">\"title\"</span>: <span style=\"color: #008000; text-decoration-color: #008000\">\"Attorney Name\"</span><span style=\"font-weight: bold\">}</span>, \n",
       "<span style=\"color: #008000; text-decoration-color: #008000\">\"attorney_name_confidence\"</span>: <span style=\"font-weight: bold\">{</span><span style=\"color: #008000; text-decoration-color: #008000\">\"anyOf\"</span>: <span style=\"font-weight: bold\">[{</span><span style=\"color: #008000; text-decoration-color: #008000\">\"type\"</span>: <span style=\"color: #008000; text-decoration-color: #008000\">\"number\"</span><span style=\"font-weight: bold\">}</span>, <span style=\"font-weight: bold\">{</span><span style=\"color: #008000; text-decoration-color: #008000\">\"type\"</span>: <span style=\"color: #008000; text-decoration-color: #008000\">\"null\"</span><span style=\"font-weight: bold\">}]</span>, <span style=\"color: #008000; text-decoration-color: #008000\">\"default\"</span>: null, <span style=\"color: #008000; text-decoration-color: #008000\">\"title\"</span>: <span style=\"color: #008000; text-decoration-color: #008000\">\"Attorney </span>\n",
       "<span style=\"color: #008000; text-decoration-color: #008000\">Name Confidence\"</span><span style=\"font-weight: bold\">}</span>, <span style=\"color: #008000; text-decoration-color: #008000\">\"lender_first_name_or_company_name\"</span>: <span style=\"font-weight: bold\">{</span><span style=\"color: #008000; text-decoration-color: #008000\">\"anyOf\"</span>: <span style=\"font-weight: bold\">[{</span><span style=\"color: #008000; text-decoration-color: #008000\">\"type\"</span>: <span style=\"color: #008000; text-decoration-color: #008000\">\"string\"</span><span style=\"font-weight: bold\">}</span>, <span style=\"font-weight: bold\">{</span><span style=\"color: #008000; text-decoration-color: #008000\">\"type\"</span>: <span style=\"color: #008000; text-decoration-color: #008000\">\"null\"</span><span style=\"font-weight: bold\">}]</span>, \n",
       "<span style=\"color: #008000; text-decoration-color: #008000\">\"default\"</span>: null, <span style=\"color: #008000; text-decoration-color: #008000\">\"title\"</span>: <span style=\"color: #008000; text-decoration-color: #008000\">\"Lender First Name Or Company Name\"</span><span style=\"font-weight: bold\">}</span>, <span style=\"color: #008000; text-decoration-color: #008000\">\"lender_first_name_or_company_name_confidence\"</span>: \n",
       "<span style=\"font-weight: bold\">{</span><span style=\"color: #008000; text-decoration-color: #008000\">\"anyOf\"</span>: <span style=\"font-weight: bold\">[{</span><span style=\"color: #008000; text-decoration-color: #008000\">\"type\"</span>: <span style=\"color: #008000; text-decoration-color: #008000\">\"number\"</span><span style=\"font-weight: bold\">}</span>, <span style=\"font-weight: bold\">{</span><span style=\"color: #008000; text-decoration-color: #008000\">\"type\"</span>: <span style=\"color: #008000; text-decoration-color: #008000\">\"null\"</span><span style=\"font-weight: bold\">}]</span>, <span style=\"color: #008000; text-decoration-color: #008000\">\"default\"</span>: null, <span style=\"color: #008000; text-decoration-color: #008000\">\"title\"</span>: <span style=\"color: #008000; text-decoration-color: #008000\">\"Lender First Name Or Company Name </span>\n",
       "<span style=\"color: #008000; text-decoration-color: #008000\">Confidence\"</span><span style=\"font-weight: bold\">}</span>, <span style=\"color: #008000; text-decoration-color: #008000\">\"lender_zip_code\"</span>: <span style=\"font-weight: bold\">{</span><span style=\"color: #008000; text-decoration-color: #008000\">\"anyOf\"</span>: <span style=\"font-weight: bold\">[{</span><span style=\"color: #008000; text-decoration-color: #008000\">\"type\"</span>: <span style=\"color: #008000; text-decoration-color: #008000\">\"string\"</span><span style=\"font-weight: bold\">}</span>, <span style=\"font-weight: bold\">{</span><span style=\"color: #008000; text-decoration-color: #008000\">\"type\"</span>: <span style=\"color: #008000; text-decoration-color: #008000\">\"null\"</span><span style=\"font-weight: bold\">}]</span>, <span style=\"color: #008000; text-decoration-color: #008000\">\"default\"</span>: null, <span style=\"color: #008000; text-decoration-color: #008000\">\"title\"</span>: \n",
       "<span style=\"color: #008000; text-decoration-color: #008000\">\"Lender Zip Code\"</span><span style=\"font-weight: bold\">}</span>, <span style=\"color: #008000; text-decoration-color: #008000\">\"lender_zip_code_confidence\"</span>: <span style=\"font-weight: bold\">{</span><span style=\"color: #008000; text-decoration-color: #008000\">\"anyOf\"</span>: <span style=\"font-weight: bold\">[{</span><span style=\"color: #008000; text-decoration-color: #008000\">\"type\"</span>: <span style=\"color: #008000; text-decoration-color: #008000\">\"number\"</span><span style=\"font-weight: bold\">}</span>, <span style=\"font-weight: bold\">{</span><span style=\"color: #008000; text-decoration-color: #008000\">\"type\"</span>: <span style=\"color: #008000; text-decoration-color: #008000\">\"null\"</span><span style=\"font-weight: bold\">}]</span>, <span style=\"color: #008000; text-decoration-color: #008000\">\"default\"</span>: \n",
       "null, <span style=\"color: #008000; text-decoration-color: #008000\">\"title\"</span>: <span style=\"color: #008000; text-decoration-color: #008000\">\"Lender Zip Code Confidence\"</span><span style=\"font-weight: bold\">}</span>, <span style=\"color: #008000; text-decoration-color: #008000\">\"lender_city\"</span>: <span style=\"font-weight: bold\">{</span><span style=\"color: #008000; text-decoration-color: #008000\">\"anyOf\"</span>: <span style=\"font-weight: bold\">[{</span><span style=\"color: #008000; text-decoration-color: #008000\">\"type\"</span>: <span style=\"color: #008000; text-decoration-color: #008000\">\"string\"</span><span style=\"font-weight: bold\">}</span>, <span style=\"font-weight: bold\">{</span><span style=\"color: #008000; text-decoration-color: #008000\">\"type\"</span>: <span style=\"color: #008000; text-decoration-color: #008000\">\"null\"</span><span style=\"font-weight: bold\">}]</span>, \n",
       "<span style=\"color: #008000; text-decoration-color: #008000\">\"default\"</span>: null, <span style=\"color: #008000; text-decoration-color: #008000\">\"title\"</span>: <span style=\"color: #008000; text-decoration-color: #008000\">\"Lender City\"</span><span style=\"font-weight: bold\">}</span>, <span style=\"color: #008000; text-decoration-color: #008000\">\"lender_city_confidence\"</span>: <span style=\"font-weight: bold\">{</span><span style=\"color: #008000; text-decoration-color: #008000\">\"anyOf\"</span>: <span style=\"font-weight: bold\">[{</span><span style=\"color: #008000; text-decoration-color: #008000\">\"type\"</span>: <span style=\"color: #008000; text-decoration-color: #008000\">\"number\"</span><span style=\"font-weight: bold\">}</span>, <span style=\"font-weight: bold\">{</span><span style=\"color: #008000; text-decoration-color: #008000\">\"type\"</span>: \n",
       "<span style=\"color: #008000; text-decoration-color: #008000\">\"null\"</span><span style=\"font-weight: bold\">}]</span>, <span style=\"color: #008000; text-decoration-color: #008000\">\"default\"</span>: null, <span style=\"color: #008000; text-decoration-color: #008000\">\"title\"</span>: <span style=\"color: #008000; text-decoration-color: #008000\">\"Lender City Confidence\"</span><span style=\"font-weight: bold\">}</span>, <span style=\"color: #008000; text-decoration-color: #008000\">\"lender_state\"</span>: <span style=\"font-weight: bold\">{</span><span style=\"color: #008000; text-decoration-color: #008000\">\"anyOf\"</span>: <span style=\"font-weight: bold\">[{</span><span style=\"color: #008000; text-decoration-color: #008000\">\"type\"</span>: <span style=\"color: #008000; text-decoration-color: #008000\">\"string\"</span><span style=\"font-weight: bold\">}</span>, \n",
       "<span style=\"font-weight: bold\">{</span><span style=\"color: #008000; text-decoration-color: #008000\">\"type\"</span>: <span style=\"color: #008000; text-decoration-color: #008000\">\"null\"</span><span style=\"font-weight: bold\">}]</span>, <span style=\"color: #008000; text-decoration-color: #008000\">\"default\"</span>: null, <span style=\"color: #008000; text-decoration-color: #008000\">\"title\"</span>: <span style=\"color: #008000; text-decoration-color: #008000\">\"Lender State\"</span><span style=\"font-weight: bold\">}</span>, <span style=\"color: #008000; text-decoration-color: #008000\">\"lender_state_confidence\"</span>: <span style=\"font-weight: bold\">{</span><span style=\"color: #008000; text-decoration-color: #008000\">\"anyOf\"</span>: <span style=\"font-weight: bold\">[{</span><span style=\"color: #008000; text-decoration-color: #008000\">\"type\"</span>: \n",
       "<span style=\"color: #008000; text-decoration-color: #008000\">\"number\"</span><span style=\"font-weight: bold\">}</span>, <span style=\"font-weight: bold\">{</span><span style=\"color: #008000; text-decoration-color: #008000\">\"type\"</span>: <span style=\"color: #008000; text-decoration-color: #008000\">\"null\"</span><span style=\"font-weight: bold\">}]</span>, <span style=\"color: #008000; text-decoration-color: #008000\">\"default\"</span>: null, <span style=\"color: #008000; text-decoration-color: #008000\">\"title\"</span>: <span style=\"color: #008000; text-decoration-color: #008000\">\"Lender State Confidence\"</span><span style=\"font-weight: bold\">}</span>, <span style=\"color: #008000; text-decoration-color: #008000\">\"property_zip_code\"</span>: <span style=\"font-weight: bold\">{</span><span style=\"color: #008000; text-decoration-color: #008000\">\"anyOf\"</span>: \n",
       "<span style=\"font-weight: bold\">[{</span><span style=\"color: #008000; text-decoration-color: #008000\">\"type\"</span>: <span style=\"color: #008000; text-decoration-color: #008000\">\"string\"</span><span style=\"font-weight: bold\">}</span>, <span style=\"font-weight: bold\">{</span><span style=\"color: #008000; text-decoration-color: #008000\">\"type\"</span>: <span style=\"color: #008000; text-decoration-color: #008000\">\"null\"</span><span style=\"font-weight: bold\">}]</span>, <span style=\"color: #008000; text-decoration-color: #008000\">\"default\"</span>: null, <span style=\"color: #008000; text-decoration-color: #008000\">\"title\"</span>: <span style=\"color: #008000; text-decoration-color: #008000\">\"Property Zip Code\"</span><span style=\"font-weight: bold\">}</span>, \n",
       "<span style=\"color: #008000; text-decoration-color: #008000\">\"property_zip_code_confidence\"</span>: <span style=\"font-weight: bold\">{</span><span style=\"color: #008000; text-decoration-color: #008000\">\"anyOf\"</span>: <span style=\"font-weight: bold\">[{</span><span style=\"color: #008000; text-decoration-color: #008000\">\"type\"</span>: <span style=\"color: #008000; text-decoration-color: #008000\">\"number\"</span><span style=\"font-weight: bold\">}</span>, <span style=\"font-weight: bold\">{</span><span style=\"color: #008000; text-decoration-color: #008000\">\"type\"</span>: <span style=\"color: #008000; text-decoration-color: #008000\">\"null\"</span><span style=\"font-weight: bold\">}]</span>, <span style=\"color: #008000; text-decoration-color: #008000\">\"default\"</span>: null, <span style=\"color: #008000; text-decoration-color: #008000\">\"title\"</span>: \n",
       "<span style=\"color: #008000; text-decoration-color: #008000\">\"Property Zip Code Confidence\"</span><span style=\"font-weight: bold\">}</span>, <span style=\"color: #008000; text-decoration-color: #008000\">\"property_city\"</span>: <span style=\"font-weight: bold\">{</span><span style=\"color: #008000; text-decoration-color: #008000\">\"anyOf\"</span>: <span style=\"font-weight: bold\">[{</span><span style=\"color: #008000; text-decoration-color: #008000\">\"type\"</span>: <span style=\"color: #008000; text-decoration-color: #008000\">\"string\"</span><span style=\"font-weight: bold\">}</span>, <span style=\"font-weight: bold\">{</span><span style=\"color: #008000; text-decoration-color: #008000\">\"type\"</span>: <span style=\"color: #008000; text-decoration-color: #008000\">\"null\"</span><span style=\"font-weight: bold\">}]</span>, <span style=\"color: #008000; text-decoration-color: #008000\">\"default\"</span>: \n",
       "null, <span style=\"color: #008000; text-decoration-color: #008000\">\"title\"</span>: <span style=\"color: #008000; text-decoration-color: #008000\">\"Property City\"</span><span style=\"font-weight: bold\">}</span>, <span style=\"color: #008000; text-decoration-color: #008000\">\"property_city_confidence\"</span>: <span style=\"font-weight: bold\">{</span><span style=\"color: #008000; text-decoration-color: #008000\">\"anyOf\"</span>: <span style=\"font-weight: bold\">[{</span><span style=\"color: #008000; text-decoration-color: #008000\">\"type\"</span>: <span style=\"color: #008000; text-decoration-color: #008000\">\"number\"</span><span style=\"font-weight: bold\">}</span>, <span style=\"font-weight: bold\">{</span><span style=\"color: #008000; text-decoration-color: #008000\">\"type\"</span>: <span style=\"color: #008000; text-decoration-color: #008000\">\"null\"</span><span style=\"font-weight: bold\">}]</span>, \n",
       "<span style=\"color: #008000; text-decoration-color: #008000\">\"default\"</span>: null, <span style=\"color: #008000; text-decoration-color: #008000\">\"title\"</span>: <span style=\"color: #008000; text-decoration-color: #008000\">\"Property City Confidence\"</span><span style=\"font-weight: bold\">}</span>, <span style=\"color: #008000; text-decoration-color: #008000\">\"amortization_term\"</span>: <span style=\"font-weight: bold\">{</span><span style=\"color: #008000; text-decoration-color: #008000\">\"anyOf\"</span>: <span style=\"font-weight: bold\">[{</span><span style=\"color: #008000; text-decoration-color: #008000\">\"type\"</span>: <span style=\"color: #008000; text-decoration-color: #008000\">\"string\"</span><span style=\"font-weight: bold\">}</span>, <span style=\"font-weight: bold\">{</span><span style=\"color: #008000; text-decoration-color: #008000\">\"type\"</span>:\n",
       "<span style=\"color: #008000; text-decoration-color: #008000\">\"null\"</span><span style=\"font-weight: bold\">}]</span>, <span style=\"color: #008000; text-decoration-color: #008000\">\"default\"</span>: null, <span style=\"color: #008000; text-decoration-color: #008000\">\"title\"</span>: <span style=\"color: #008000; text-decoration-color: #008000\">\"Amortization Term\"</span><span style=\"font-weight: bold\">}</span>, <span style=\"color: #008000; text-decoration-color: #008000\">\"amortization_term_confidence\"</span>: <span style=\"font-weight: bold\">{</span><span style=\"color: #008000; text-decoration-color: #008000\">\"anyOf\"</span>: <span style=\"font-weight: bold\">[{</span><span style=\"color: #008000; text-decoration-color: #008000\">\"type\"</span>: \n",
       "<span style=\"color: #008000; text-decoration-color: #008000\">\"number\"</span><span style=\"font-weight: bold\">}</span>, <span style=\"font-weight: bold\">{</span><span style=\"color: #008000; text-decoration-color: #008000\">\"type\"</span>: <span style=\"color: #008000; text-decoration-color: #008000\">\"null\"</span><span style=\"font-weight: bold\">}]</span>, <span style=\"color: #008000; text-decoration-color: #008000\">\"default\"</span>: null, <span style=\"color: #008000; text-decoration-color: #008000\">\"title\"</span>: <span style=\"color: #008000; text-decoration-color: #008000\">\"Amortization Term Confidence\"</span><span style=\"font-weight: bold\">}</span>, <span style=\"color: #008000; text-decoration-color: #008000\">\"loan_due_date\"</span>: <span style=\"font-weight: bold\">{</span><span style=\"color: #008000; text-decoration-color: #008000\">\"anyOf\"</span>:\n",
       "<span style=\"font-weight: bold\">[{</span><span style=\"color: #008000; text-decoration-color: #008000\">\"type\"</span>: <span style=\"color: #008000; text-decoration-color: #008000\">\"string\"</span><span style=\"font-weight: bold\">}</span>, <span style=\"font-weight: bold\">{</span><span style=\"color: #008000; text-decoration-color: #008000\">\"type\"</span>: <span style=\"color: #008000; text-decoration-color: #008000\">\"null\"</span><span style=\"font-weight: bold\">}]</span>, <span style=\"color: #008000; text-decoration-color: #008000\">\"default\"</span>: null, <span style=\"color: #008000; text-decoration-color: #008000\">\"title\"</span>: <span style=\"color: #008000; text-decoration-color: #008000\">\"Loan Due Date\"</span><span style=\"font-weight: bold\">}</span>, <span style=\"color: #008000; text-decoration-color: #008000\">\"loan_due_date_confidence\"</span>: \n",
       "<span style=\"font-weight: bold\">{</span><span style=\"color: #008000; text-decoration-color: #008000\">\"anyOf\"</span>: <span style=\"font-weight: bold\">[{</span><span style=\"color: #008000; text-decoration-color: #008000\">\"type\"</span>: <span style=\"color: #008000; text-decoration-color: #008000\">\"number\"</span><span style=\"font-weight: bold\">}</span>, <span style=\"font-weight: bold\">{</span><span style=\"color: #008000; text-decoration-color: #008000\">\"type\"</span>: <span style=\"color: #008000; text-decoration-color: #008000\">\"null\"</span><span style=\"font-weight: bold\">}]</span>, <span style=\"color: #008000; text-decoration-color: #008000\">\"default\"</span>: null, <span style=\"color: #008000; text-decoration-color: #008000\">\"title\"</span>: <span style=\"color: #008000; text-decoration-color: #008000\">\"Loan Due Date Confidence\"</span><span style=\"font-weight: bold\">}</span>, \n",
       "<span style=\"color: #008000; text-decoration-color: #008000\">\"interest_rate\"</span>: <span style=\"font-weight: bold\">{</span><span style=\"color: #008000; text-decoration-color: #008000\">\"anyOf\"</span>: <span style=\"font-weight: bold\">[{</span><span style=\"color: #008000; text-decoration-color: #008000\">\"type\"</span>: <span style=\"color: #008000; text-decoration-color: #008000\">\"string\"</span><span style=\"font-weight: bold\">}</span>, <span style=\"font-weight: bold\">{</span><span style=\"color: #008000; text-decoration-color: #008000\">\"type\"</span>: <span style=\"color: #008000; text-decoration-color: #008000\">\"null\"</span><span style=\"font-weight: bold\">}]</span>, <span style=\"color: #008000; text-decoration-color: #008000\">\"default\"</span>: null, <span style=\"color: #008000; text-decoration-color: #008000\">\"title\"</span>: <span style=\"color: #008000; text-decoration-color: #008000\">\"Interest Rate\"</span><span style=\"font-weight: bold\">}</span>, \n",
       "<span style=\"color: #008000; text-decoration-color: #008000\">\"interest_rate_confidence\"</span>: <span style=\"font-weight: bold\">{</span><span style=\"color: #008000; text-decoration-color: #008000\">\"anyOf\"</span>: <span style=\"font-weight: bold\">[{</span><span style=\"color: #008000; text-decoration-color: #008000\">\"type\"</span>: <span style=\"color: #008000; text-decoration-color: #008000\">\"number\"</span><span style=\"font-weight: bold\">}</span>, <span style=\"font-weight: bold\">{</span><span style=\"color: #008000; text-decoration-color: #008000\">\"type\"</span>: <span style=\"color: #008000; text-decoration-color: #008000\">\"null\"</span><span style=\"font-weight: bold\">}]</span>, <span style=\"color: #008000; text-decoration-color: #008000\">\"default\"</span>: null, <span style=\"color: #008000; text-decoration-color: #008000\">\"title\"</span>: <span style=\"color: #008000; text-decoration-color: #008000\">\"Interest </span>\n",
       "<span style=\"color: #008000; text-decoration-color: #008000\">Rate Confidence\"</span><span style=\"font-weight: bold\">}}</span>, <span style=\"color: #008000; text-decoration-color: #008000\">\"required\"</span>: <span style=\"font-weight: bold\">[</span><span style=\"color: #008000; text-decoration-color: #008000\">\"document_classification\"</span>, <span style=\"color: #008000; text-decoration-color: #008000\">\"document_classification_confidence\"</span><span style=\"font-weight: bold\">]</span>, <span style=\"color: #008000; text-decoration-color: #008000\">\"title\"</span>: <span style=\"color: #008000; text-decoration-color: #008000\">\"Deed\"</span>,\n",
       "<span style=\"color: #008000; text-decoration-color: #008000\">\"type\"</span>: <span style=\"color: #008000; text-decoration-color: #008000\">\"object\"</span><span style=\"font-weight: bold\">}</span>\n",
       "</pre>\n"
      ],
      "text/plain": [
       "\u001b[1m{\u001b[0m\u001b[32m\"properties\"\u001b[0m: \u001b[1m{\u001b[0m\u001b[32m\"document_classification\"\u001b[0m: \u001b[1m{\u001b[0m\u001b[32m\"title\"\u001b[0m: \u001b[32m\"Document Classification\"\u001b[0m, \u001b[32m\"type\"\u001b[0m: \u001b[32m\"string\"\u001b[0m\u001b[1m}\u001b[0m, \n",
       "\u001b[32m\"document_classification_confidence\"\u001b[0m: \u001b[1m{\u001b[0m\u001b[32m\"title\"\u001b[0m: \u001b[32m\"Document Classification Confidence\"\u001b[0m, \u001b[32m\"type\"\u001b[0m: \u001b[32m\"number\"\u001b[0m\u001b[1m}\u001b[0m, \n",
       "\u001b[32m\"borrower_first_name\"\u001b[0m: \u001b[1m{\u001b[0m\u001b[32m\"anyOf\"\u001b[0m: \u001b[1m[\u001b[0m\u001b[1m{\u001b[0m\u001b[32m\"type\"\u001b[0m: \u001b[32m\"string\"\u001b[0m\u001b[1m}\u001b[0m, \u001b[1m{\u001b[0m\u001b[32m\"type\"\u001b[0m: \u001b[32m\"null\"\u001b[0m\u001b[1m}\u001b[0m\u001b[1m]\u001b[0m, \u001b[32m\"default\"\u001b[0m: null, \u001b[32m\"title\"\u001b[0m: \u001b[32m\"Borrower First \u001b[0m\n",
       "\u001b[32mName\"\u001b[0m\u001b[1m}\u001b[0m, \u001b[32m\"borrower_first_name_confidence\"\u001b[0m: \u001b[1m{\u001b[0m\u001b[32m\"anyOf\"\u001b[0m: \u001b[1m[\u001b[0m\u001b[1m{\u001b[0m\u001b[32m\"type\"\u001b[0m: \u001b[32m\"number\"\u001b[0m\u001b[1m}\u001b[0m, \u001b[1m{\u001b[0m\u001b[32m\"type\"\u001b[0m: \u001b[32m\"null\"\u001b[0m\u001b[1m}\u001b[0m\u001b[1m]\u001b[0m, \u001b[32m\"default\"\u001b[0m: null, \n",
       "\u001b[32m\"title\"\u001b[0m: \u001b[32m\"Borrower First Name Confidence\"\u001b[0m\u001b[1m}\u001b[0m, \u001b[32m\"borrower_last_name\"\u001b[0m: \u001b[1m{\u001b[0m\u001b[32m\"anyOf\"\u001b[0m: \u001b[1m[\u001b[0m\u001b[1m{\u001b[0m\u001b[32m\"type\"\u001b[0m: \u001b[32m\"string\"\u001b[0m\u001b[1m}\u001b[0m, \u001b[1m{\u001b[0m\u001b[32m\"type\"\u001b[0m: \u001b[32m\"null\"\u001b[0m\u001b[1m}\u001b[0m\u001b[1m]\u001b[0m,\n",
       "\u001b[32m\"default\"\u001b[0m: null, \u001b[32m\"title\"\u001b[0m: \u001b[32m\"Borrower Last Name\"\u001b[0m\u001b[1m}\u001b[0m, \u001b[32m\"borrower_last_name_confidence\"\u001b[0m: \u001b[1m{\u001b[0m\u001b[32m\"anyOf\"\u001b[0m: \u001b[1m[\u001b[0m\u001b[1m{\u001b[0m\u001b[32m\"type\"\u001b[0m: \u001b[32m\"number\"\u001b[0m\u001b[1m}\u001b[0m, \n",
       "\u001b[1m{\u001b[0m\u001b[32m\"type\"\u001b[0m: \u001b[32m\"null\"\u001b[0m\u001b[1m}\u001b[0m\u001b[1m]\u001b[0m, \u001b[32m\"default\"\u001b[0m: null, \u001b[32m\"title\"\u001b[0m: \u001b[32m\"Borrower Last Name Confidence\"\u001b[0m\u001b[1m}\u001b[0m, \u001b[32m\"borrower_relationship_type\"\u001b[0m: \n",
       "\u001b[1m{\u001b[0m\u001b[32m\"anyOf\"\u001b[0m: \u001b[1m[\u001b[0m\u001b[1m{\u001b[0m\u001b[32m\"type\"\u001b[0m: \u001b[32m\"string\"\u001b[0m\u001b[1m}\u001b[0m, \u001b[1m{\u001b[0m\u001b[32m\"type\"\u001b[0m: \u001b[32m\"null\"\u001b[0m\u001b[1m}\u001b[0m\u001b[1m]\u001b[0m, \u001b[32m\"default\"\u001b[0m: null, \u001b[32m\"title\"\u001b[0m: \u001b[32m\"Borrower Relationship Type\"\u001b[0m\u001b[1m}\u001b[0m, \n",
       "\u001b[32m\"borrower_relationship_type_confidence\"\u001b[0m: \u001b[1m{\u001b[0m\u001b[32m\"anyOf\"\u001b[0m: \u001b[1m[\u001b[0m\u001b[1m{\u001b[0m\u001b[32m\"type\"\u001b[0m: \u001b[32m\"number\"\u001b[0m\u001b[1m}\u001b[0m, \u001b[1m{\u001b[0m\u001b[32m\"type\"\u001b[0m: \u001b[32m\"null\"\u001b[0m\u001b[1m}\u001b[0m\u001b[1m]\u001b[0m, \u001b[32m\"default\"\u001b[0m: null, \n",
       "\u001b[32m\"title\"\u001b[0m: \u001b[32m\"Borrower Relationship Type Confidence\"\u001b[0m\u001b[1m}\u001b[0m, \u001b[32m\"borrower_zip_code\"\u001b[0m: \u001b[1m{\u001b[0m\u001b[32m\"anyOf\"\u001b[0m: \u001b[1m[\u001b[0m\u001b[1m{\u001b[0m\u001b[32m\"type\"\u001b[0m: \u001b[32m\"string\"\u001b[0m\u001b[1m}\u001b[0m, \u001b[1m{\u001b[0m\u001b[32m\"type\"\u001b[0m: \n",
       "\u001b[32m\"null\"\u001b[0m\u001b[1m}\u001b[0m\u001b[1m]\u001b[0m, \u001b[32m\"default\"\u001b[0m: null, \u001b[32m\"title\"\u001b[0m: \u001b[32m\"Borrower Zip Code\"\u001b[0m\u001b[1m}\u001b[0m, \u001b[32m\"borrower_zip_code_confidence\"\u001b[0m: \u001b[1m{\u001b[0m\u001b[32m\"anyOf\"\u001b[0m: \u001b[1m[\u001b[0m\u001b[1m{\u001b[0m\u001b[32m\"type\"\u001b[0m: \n",
       "\u001b[32m\"number\"\u001b[0m\u001b[1m}\u001b[0m, \u001b[1m{\u001b[0m\u001b[32m\"type\"\u001b[0m: \u001b[32m\"null\"\u001b[0m\u001b[1m}\u001b[0m\u001b[1m]\u001b[0m, \u001b[32m\"default\"\u001b[0m: null, \u001b[32m\"title\"\u001b[0m: \u001b[32m\"Borrower Zip Code Confidence\"\u001b[0m\u001b[1m}\u001b[0m, \u001b[32m\"borrower_city\"\u001b[0m: \u001b[1m{\u001b[0m\u001b[32m\"anyOf\"\u001b[0m:\n",
       "\u001b[1m[\u001b[0m\u001b[1m{\u001b[0m\u001b[32m\"type\"\u001b[0m: \u001b[32m\"string\"\u001b[0m\u001b[1m}\u001b[0m, \u001b[1m{\u001b[0m\u001b[32m\"type\"\u001b[0m: \u001b[32m\"null\"\u001b[0m\u001b[1m}\u001b[0m\u001b[1m]\u001b[0m, \u001b[32m\"default\"\u001b[0m: null, \u001b[32m\"title\"\u001b[0m: \u001b[32m\"Borrower City\"\u001b[0m\u001b[1m}\u001b[0m, \u001b[32m\"borrower_city_confidence\"\u001b[0m: \n",
       "\u001b[1m{\u001b[0m\u001b[32m\"anyOf\"\u001b[0m: \u001b[1m[\u001b[0m\u001b[1m{\u001b[0m\u001b[32m\"type\"\u001b[0m: \u001b[32m\"number\"\u001b[0m\u001b[1m}\u001b[0m, \u001b[1m{\u001b[0m\u001b[32m\"type\"\u001b[0m: \u001b[32m\"null\"\u001b[0m\u001b[1m}\u001b[0m\u001b[1m]\u001b[0m, \u001b[32m\"default\"\u001b[0m: null, \u001b[32m\"title\"\u001b[0m: \u001b[32m\"Borrower City Confidence\"\u001b[0m\u001b[1m}\u001b[0m, \n",
       "\u001b[32m\"borrower_state\"\u001b[0m: \u001b[1m{\u001b[0m\u001b[32m\"anyOf\"\u001b[0m: \u001b[1m[\u001b[0m\u001b[1m{\u001b[0m\u001b[32m\"type\"\u001b[0m: \u001b[32m\"string\"\u001b[0m\u001b[1m}\u001b[0m, \u001b[1m{\u001b[0m\u001b[32m\"type\"\u001b[0m: \u001b[32m\"null\"\u001b[0m\u001b[1m}\u001b[0m\u001b[1m]\u001b[0m, \u001b[32m\"default\"\u001b[0m: null, \u001b[32m\"title\"\u001b[0m: \u001b[32m\"Borrower State\"\u001b[0m\u001b[1m}\u001b[0m, \n",
       "\u001b[32m\"borrower_state_confidence\"\u001b[0m: \u001b[1m{\u001b[0m\u001b[32m\"anyOf\"\u001b[0m: \u001b[1m[\u001b[0m\u001b[1m{\u001b[0m\u001b[32m\"type\"\u001b[0m: \u001b[32m\"number\"\u001b[0m\u001b[1m}\u001b[0m, \u001b[1m{\u001b[0m\u001b[32m\"type\"\u001b[0m: \u001b[32m\"null\"\u001b[0m\u001b[1m}\u001b[0m\u001b[1m]\u001b[0m, \u001b[32m\"default\"\u001b[0m: null, \u001b[32m\"title\"\u001b[0m: \u001b[32m\"Borrower \u001b[0m\n",
       "\u001b[32mState Confidence\"\u001b[0m\u001b[1m}\u001b[0m, \u001b[32m\"borrower_street_address\"\u001b[0m: \u001b[1m{\u001b[0m\u001b[32m\"anyOf\"\u001b[0m: \u001b[1m[\u001b[0m\u001b[1m{\u001b[0m\u001b[32m\"type\"\u001b[0m: \u001b[32m\"string\"\u001b[0m\u001b[1m}\u001b[0m, \u001b[1m{\u001b[0m\u001b[32m\"type\"\u001b[0m: \u001b[32m\"null\"\u001b[0m\u001b[1m}\u001b[0m\u001b[1m]\u001b[0m, \u001b[32m\"default\"\u001b[0m: null, \n",
       "\u001b[32m\"title\"\u001b[0m: \u001b[32m\"Borrower Street Address\"\u001b[0m\u001b[1m}\u001b[0m, \u001b[32m\"borrower_street_address_confidence\"\u001b[0m: \u001b[1m{\u001b[0m\u001b[32m\"anyOf\"\u001b[0m: \u001b[1m[\u001b[0m\u001b[1m{\u001b[0m\u001b[32m\"type\"\u001b[0m: \u001b[32m\"number\"\u001b[0m\u001b[1m}\u001b[0m, \u001b[1m{\u001b[0m\u001b[32m\"type\"\u001b[0m: \n",
       "\u001b[32m\"null\"\u001b[0m\u001b[1m}\u001b[0m\u001b[1m]\u001b[0m, \u001b[32m\"default\"\u001b[0m: null, \u001b[32m\"title\"\u001b[0m: \u001b[32m\"Borrower Street Address Confidence\"\u001b[0m\u001b[1m}\u001b[0m, \u001b[32m\"sale_date\"\u001b[0m: \u001b[1m{\u001b[0m\u001b[32m\"anyOf\"\u001b[0m: \u001b[1m[\u001b[0m\u001b[1m{\u001b[0m\u001b[32m\"type\"\u001b[0m: \n",
       "\u001b[32m\"string\"\u001b[0m\u001b[1m}\u001b[0m, \u001b[1m{\u001b[0m\u001b[32m\"type\"\u001b[0m: \u001b[32m\"null\"\u001b[0m\u001b[1m}\u001b[0m\u001b[1m]\u001b[0m, \u001b[32m\"default\"\u001b[0m: null, \u001b[32m\"title\"\u001b[0m: \u001b[32m\"Sale Date\"\u001b[0m\u001b[1m}\u001b[0m, \u001b[32m\"sale_date_confidence\"\u001b[0m: \u001b[1m{\u001b[0m\u001b[32m\"anyOf\"\u001b[0m: \u001b[1m[\u001b[0m\u001b[1m{\u001b[0m\u001b[32m\"type\"\u001b[0m: \n",
       "\u001b[32m\"number\"\u001b[0m\u001b[1m}\u001b[0m, \u001b[1m{\u001b[0m\u001b[32m\"type\"\u001b[0m: \u001b[32m\"null\"\u001b[0m\u001b[1m}\u001b[0m\u001b[1m]\u001b[0m, \u001b[32m\"default\"\u001b[0m: null, \u001b[32m\"title\"\u001b[0m: \u001b[32m\"Sale Date Confidence\"\u001b[0m\u001b[1m}\u001b[0m, \u001b[32m\"sale_price\"\u001b[0m: \u001b[1m{\u001b[0m\u001b[32m\"anyOf\"\u001b[0m: \u001b[1m[\u001b[0m\u001b[1m{\u001b[0m\u001b[32m\"type\"\u001b[0m: \n",
       "\u001b[32m\"string\"\u001b[0m\u001b[1m}\u001b[0m, \u001b[1m{\u001b[0m\u001b[32m\"type\"\u001b[0m: \u001b[32m\"null\"\u001b[0m\u001b[1m}\u001b[0m\u001b[1m]\u001b[0m, \u001b[32m\"default\"\u001b[0m: null, \u001b[32m\"title\"\u001b[0m: \u001b[32m\"Sale Price\"\u001b[0m\u001b[1m}\u001b[0m, \u001b[32m\"sale_price_confidence\"\u001b[0m: \u001b[1m{\u001b[0m\u001b[32m\"anyOf\"\u001b[0m: \u001b[1m[\u001b[0m\u001b[1m{\u001b[0m\u001b[32m\"type\"\u001b[0m:\n",
       "\u001b[32m\"number\"\u001b[0m\u001b[1m}\u001b[0m, \u001b[1m{\u001b[0m\u001b[32m\"type\"\u001b[0m: \u001b[32m\"null\"\u001b[0m\u001b[1m}\u001b[0m\u001b[1m]\u001b[0m, \u001b[32m\"default\"\u001b[0m: null, \u001b[32m\"title\"\u001b[0m: \u001b[32m\"Sale Price Confidence\"\u001b[0m\u001b[1m}\u001b[0m, \u001b[32m\"company_name\"\u001b[0m: \u001b[1m{\u001b[0m\u001b[32m\"anyOf\"\u001b[0m: \n",
       "\u001b[1m[\u001b[0m\u001b[1m{\u001b[0m\u001b[32m\"type\"\u001b[0m: \u001b[32m\"string\"\u001b[0m\u001b[1m}\u001b[0m, \u001b[1m{\u001b[0m\u001b[32m\"type\"\u001b[0m: \u001b[32m\"null\"\u001b[0m\u001b[1m}\u001b[0m\u001b[1m]\u001b[0m, \u001b[32m\"default\"\u001b[0m: null, \u001b[32m\"title\"\u001b[0m: \u001b[32m\"Company Name\"\u001b[0m\u001b[1m}\u001b[0m, \u001b[32m\"company_name_confidence\"\u001b[0m: \n",
       "\u001b[1m{\u001b[0m\u001b[32m\"anyOf\"\u001b[0m: \u001b[1m[\u001b[0m\u001b[1m{\u001b[0m\u001b[32m\"type\"\u001b[0m: \u001b[32m\"number\"\u001b[0m\u001b[1m}\u001b[0m, \u001b[1m{\u001b[0m\u001b[32m\"type\"\u001b[0m: \u001b[32m\"null\"\u001b[0m\u001b[1m}\u001b[0m\u001b[1m]\u001b[0m, \u001b[32m\"default\"\u001b[0m: null, \u001b[32m\"title\"\u001b[0m: \u001b[32m\"Company Name Confidence\"\u001b[0m\u001b[1m}\u001b[0m, \n",
       "\u001b[32m\"attorney_name\"\u001b[0m: \u001b[1m{\u001b[0m\u001b[32m\"anyOf\"\u001b[0m: \u001b[1m[\u001b[0m\u001b[1m{\u001b[0m\u001b[32m\"type\"\u001b[0m: \u001b[32m\"string\"\u001b[0m\u001b[1m}\u001b[0m, \u001b[1m{\u001b[0m\u001b[32m\"type\"\u001b[0m: \u001b[32m\"null\"\u001b[0m\u001b[1m}\u001b[0m\u001b[1m]\u001b[0m, \u001b[32m\"default\"\u001b[0m: null, \u001b[32m\"title\"\u001b[0m: \u001b[32m\"Attorney Name\"\u001b[0m\u001b[1m}\u001b[0m, \n",
       "\u001b[32m\"attorney_name_confidence\"\u001b[0m: \u001b[1m{\u001b[0m\u001b[32m\"anyOf\"\u001b[0m: \u001b[1m[\u001b[0m\u001b[1m{\u001b[0m\u001b[32m\"type\"\u001b[0m: \u001b[32m\"number\"\u001b[0m\u001b[1m}\u001b[0m, \u001b[1m{\u001b[0m\u001b[32m\"type\"\u001b[0m: \u001b[32m\"null\"\u001b[0m\u001b[1m}\u001b[0m\u001b[1m]\u001b[0m, \u001b[32m\"default\"\u001b[0m: null, \u001b[32m\"title\"\u001b[0m: \u001b[32m\"Attorney \u001b[0m\n",
       "\u001b[32mName Confidence\"\u001b[0m\u001b[1m}\u001b[0m, \u001b[32m\"lender_first_name_or_company_name\"\u001b[0m: \u001b[1m{\u001b[0m\u001b[32m\"anyOf\"\u001b[0m: \u001b[1m[\u001b[0m\u001b[1m{\u001b[0m\u001b[32m\"type\"\u001b[0m: \u001b[32m\"string\"\u001b[0m\u001b[1m}\u001b[0m, \u001b[1m{\u001b[0m\u001b[32m\"type\"\u001b[0m: \u001b[32m\"null\"\u001b[0m\u001b[1m}\u001b[0m\u001b[1m]\u001b[0m, \n",
       "\u001b[32m\"default\"\u001b[0m: null, \u001b[32m\"title\"\u001b[0m: \u001b[32m\"Lender First Name Or Company Name\"\u001b[0m\u001b[1m}\u001b[0m, \u001b[32m\"lender_first_name_or_company_name_confidence\"\u001b[0m: \n",
       "\u001b[1m{\u001b[0m\u001b[32m\"anyOf\"\u001b[0m: \u001b[1m[\u001b[0m\u001b[1m{\u001b[0m\u001b[32m\"type\"\u001b[0m: \u001b[32m\"number\"\u001b[0m\u001b[1m}\u001b[0m, \u001b[1m{\u001b[0m\u001b[32m\"type\"\u001b[0m: \u001b[32m\"null\"\u001b[0m\u001b[1m}\u001b[0m\u001b[1m]\u001b[0m, \u001b[32m\"default\"\u001b[0m: null, \u001b[32m\"title\"\u001b[0m: \u001b[32m\"Lender First Name Or Company Name \u001b[0m\n",
       "\u001b[32mConfidence\"\u001b[0m\u001b[1m}\u001b[0m, \u001b[32m\"lender_zip_code\"\u001b[0m: \u001b[1m{\u001b[0m\u001b[32m\"anyOf\"\u001b[0m: \u001b[1m[\u001b[0m\u001b[1m{\u001b[0m\u001b[32m\"type\"\u001b[0m: \u001b[32m\"string\"\u001b[0m\u001b[1m}\u001b[0m, \u001b[1m{\u001b[0m\u001b[32m\"type\"\u001b[0m: \u001b[32m\"null\"\u001b[0m\u001b[1m}\u001b[0m\u001b[1m]\u001b[0m, \u001b[32m\"default\"\u001b[0m: null, \u001b[32m\"title\"\u001b[0m: \n",
       "\u001b[32m\"Lender Zip Code\"\u001b[0m\u001b[1m}\u001b[0m, \u001b[32m\"lender_zip_code_confidence\"\u001b[0m: \u001b[1m{\u001b[0m\u001b[32m\"anyOf\"\u001b[0m: \u001b[1m[\u001b[0m\u001b[1m{\u001b[0m\u001b[32m\"type\"\u001b[0m: \u001b[32m\"number\"\u001b[0m\u001b[1m}\u001b[0m, \u001b[1m{\u001b[0m\u001b[32m\"type\"\u001b[0m: \u001b[32m\"null\"\u001b[0m\u001b[1m}\u001b[0m\u001b[1m]\u001b[0m, \u001b[32m\"default\"\u001b[0m: \n",
       "null, \u001b[32m\"title\"\u001b[0m: \u001b[32m\"Lender Zip Code Confidence\"\u001b[0m\u001b[1m}\u001b[0m, \u001b[32m\"lender_city\"\u001b[0m: \u001b[1m{\u001b[0m\u001b[32m\"anyOf\"\u001b[0m: \u001b[1m[\u001b[0m\u001b[1m{\u001b[0m\u001b[32m\"type\"\u001b[0m: \u001b[32m\"string\"\u001b[0m\u001b[1m}\u001b[0m, \u001b[1m{\u001b[0m\u001b[32m\"type\"\u001b[0m: \u001b[32m\"null\"\u001b[0m\u001b[1m}\u001b[0m\u001b[1m]\u001b[0m, \n",
       "\u001b[32m\"default\"\u001b[0m: null, \u001b[32m\"title\"\u001b[0m: \u001b[32m\"Lender City\"\u001b[0m\u001b[1m}\u001b[0m, \u001b[32m\"lender_city_confidence\"\u001b[0m: \u001b[1m{\u001b[0m\u001b[32m\"anyOf\"\u001b[0m: \u001b[1m[\u001b[0m\u001b[1m{\u001b[0m\u001b[32m\"type\"\u001b[0m: \u001b[32m\"number\"\u001b[0m\u001b[1m}\u001b[0m, \u001b[1m{\u001b[0m\u001b[32m\"type\"\u001b[0m: \n",
       "\u001b[32m\"null\"\u001b[0m\u001b[1m}\u001b[0m\u001b[1m]\u001b[0m, \u001b[32m\"default\"\u001b[0m: null, \u001b[32m\"title\"\u001b[0m: \u001b[32m\"Lender City Confidence\"\u001b[0m\u001b[1m}\u001b[0m, \u001b[32m\"lender_state\"\u001b[0m: \u001b[1m{\u001b[0m\u001b[32m\"anyOf\"\u001b[0m: \u001b[1m[\u001b[0m\u001b[1m{\u001b[0m\u001b[32m\"type\"\u001b[0m: \u001b[32m\"string\"\u001b[0m\u001b[1m}\u001b[0m, \n",
       "\u001b[1m{\u001b[0m\u001b[32m\"type\"\u001b[0m: \u001b[32m\"null\"\u001b[0m\u001b[1m}\u001b[0m\u001b[1m]\u001b[0m, \u001b[32m\"default\"\u001b[0m: null, \u001b[32m\"title\"\u001b[0m: \u001b[32m\"Lender State\"\u001b[0m\u001b[1m}\u001b[0m, \u001b[32m\"lender_state_confidence\"\u001b[0m: \u001b[1m{\u001b[0m\u001b[32m\"anyOf\"\u001b[0m: \u001b[1m[\u001b[0m\u001b[1m{\u001b[0m\u001b[32m\"type\"\u001b[0m: \n",
       "\u001b[32m\"number\"\u001b[0m\u001b[1m}\u001b[0m, \u001b[1m{\u001b[0m\u001b[32m\"type\"\u001b[0m: \u001b[32m\"null\"\u001b[0m\u001b[1m}\u001b[0m\u001b[1m]\u001b[0m, \u001b[32m\"default\"\u001b[0m: null, \u001b[32m\"title\"\u001b[0m: \u001b[32m\"Lender State Confidence\"\u001b[0m\u001b[1m}\u001b[0m, \u001b[32m\"property_zip_code\"\u001b[0m: \u001b[1m{\u001b[0m\u001b[32m\"anyOf\"\u001b[0m: \n",
       "\u001b[1m[\u001b[0m\u001b[1m{\u001b[0m\u001b[32m\"type\"\u001b[0m: \u001b[32m\"string\"\u001b[0m\u001b[1m}\u001b[0m, \u001b[1m{\u001b[0m\u001b[32m\"type\"\u001b[0m: \u001b[32m\"null\"\u001b[0m\u001b[1m}\u001b[0m\u001b[1m]\u001b[0m, \u001b[32m\"default\"\u001b[0m: null, \u001b[32m\"title\"\u001b[0m: \u001b[32m\"Property Zip Code\"\u001b[0m\u001b[1m}\u001b[0m, \n",
       "\u001b[32m\"property_zip_code_confidence\"\u001b[0m: \u001b[1m{\u001b[0m\u001b[32m\"anyOf\"\u001b[0m: \u001b[1m[\u001b[0m\u001b[1m{\u001b[0m\u001b[32m\"type\"\u001b[0m: \u001b[32m\"number\"\u001b[0m\u001b[1m}\u001b[0m, \u001b[1m{\u001b[0m\u001b[32m\"type\"\u001b[0m: \u001b[32m\"null\"\u001b[0m\u001b[1m}\u001b[0m\u001b[1m]\u001b[0m, \u001b[32m\"default\"\u001b[0m: null, \u001b[32m\"title\"\u001b[0m: \n",
       "\u001b[32m\"Property Zip Code Confidence\"\u001b[0m\u001b[1m}\u001b[0m, \u001b[32m\"property_city\"\u001b[0m: \u001b[1m{\u001b[0m\u001b[32m\"anyOf\"\u001b[0m: \u001b[1m[\u001b[0m\u001b[1m{\u001b[0m\u001b[32m\"type\"\u001b[0m: \u001b[32m\"string\"\u001b[0m\u001b[1m}\u001b[0m, \u001b[1m{\u001b[0m\u001b[32m\"type\"\u001b[0m: \u001b[32m\"null\"\u001b[0m\u001b[1m}\u001b[0m\u001b[1m]\u001b[0m, \u001b[32m\"default\"\u001b[0m: \n",
       "null, \u001b[32m\"title\"\u001b[0m: \u001b[32m\"Property City\"\u001b[0m\u001b[1m}\u001b[0m, \u001b[32m\"property_city_confidence\"\u001b[0m: \u001b[1m{\u001b[0m\u001b[32m\"anyOf\"\u001b[0m: \u001b[1m[\u001b[0m\u001b[1m{\u001b[0m\u001b[32m\"type\"\u001b[0m: \u001b[32m\"number\"\u001b[0m\u001b[1m}\u001b[0m, \u001b[1m{\u001b[0m\u001b[32m\"type\"\u001b[0m: \u001b[32m\"null\"\u001b[0m\u001b[1m}\u001b[0m\u001b[1m]\u001b[0m, \n",
       "\u001b[32m\"default\"\u001b[0m: null, \u001b[32m\"title\"\u001b[0m: \u001b[32m\"Property City Confidence\"\u001b[0m\u001b[1m}\u001b[0m, \u001b[32m\"amortization_term\"\u001b[0m: \u001b[1m{\u001b[0m\u001b[32m\"anyOf\"\u001b[0m: \u001b[1m[\u001b[0m\u001b[1m{\u001b[0m\u001b[32m\"type\"\u001b[0m: \u001b[32m\"string\"\u001b[0m\u001b[1m}\u001b[0m, \u001b[1m{\u001b[0m\u001b[32m\"type\"\u001b[0m:\n",
       "\u001b[32m\"null\"\u001b[0m\u001b[1m}\u001b[0m\u001b[1m]\u001b[0m, \u001b[32m\"default\"\u001b[0m: null, \u001b[32m\"title\"\u001b[0m: \u001b[32m\"Amortization Term\"\u001b[0m\u001b[1m}\u001b[0m, \u001b[32m\"amortization_term_confidence\"\u001b[0m: \u001b[1m{\u001b[0m\u001b[32m\"anyOf\"\u001b[0m: \u001b[1m[\u001b[0m\u001b[1m{\u001b[0m\u001b[32m\"type\"\u001b[0m: \n",
       "\u001b[32m\"number\"\u001b[0m\u001b[1m}\u001b[0m, \u001b[1m{\u001b[0m\u001b[32m\"type\"\u001b[0m: \u001b[32m\"null\"\u001b[0m\u001b[1m}\u001b[0m\u001b[1m]\u001b[0m, \u001b[32m\"default\"\u001b[0m: null, \u001b[32m\"title\"\u001b[0m: \u001b[32m\"Amortization Term Confidence\"\u001b[0m\u001b[1m}\u001b[0m, \u001b[32m\"loan_due_date\"\u001b[0m: \u001b[1m{\u001b[0m\u001b[32m\"anyOf\"\u001b[0m:\n",
       "\u001b[1m[\u001b[0m\u001b[1m{\u001b[0m\u001b[32m\"type\"\u001b[0m: \u001b[32m\"string\"\u001b[0m\u001b[1m}\u001b[0m, \u001b[1m{\u001b[0m\u001b[32m\"type\"\u001b[0m: \u001b[32m\"null\"\u001b[0m\u001b[1m}\u001b[0m\u001b[1m]\u001b[0m, \u001b[32m\"default\"\u001b[0m: null, \u001b[32m\"title\"\u001b[0m: \u001b[32m\"Loan Due Date\"\u001b[0m\u001b[1m}\u001b[0m, \u001b[32m\"loan_due_date_confidence\"\u001b[0m: \n",
       "\u001b[1m{\u001b[0m\u001b[32m\"anyOf\"\u001b[0m: \u001b[1m[\u001b[0m\u001b[1m{\u001b[0m\u001b[32m\"type\"\u001b[0m: \u001b[32m\"number\"\u001b[0m\u001b[1m}\u001b[0m, \u001b[1m{\u001b[0m\u001b[32m\"type\"\u001b[0m: \u001b[32m\"null\"\u001b[0m\u001b[1m}\u001b[0m\u001b[1m]\u001b[0m, \u001b[32m\"default\"\u001b[0m: null, \u001b[32m\"title\"\u001b[0m: \u001b[32m\"Loan Due Date Confidence\"\u001b[0m\u001b[1m}\u001b[0m, \n",
       "\u001b[32m\"interest_rate\"\u001b[0m: \u001b[1m{\u001b[0m\u001b[32m\"anyOf\"\u001b[0m: \u001b[1m[\u001b[0m\u001b[1m{\u001b[0m\u001b[32m\"type\"\u001b[0m: \u001b[32m\"string\"\u001b[0m\u001b[1m}\u001b[0m, \u001b[1m{\u001b[0m\u001b[32m\"type\"\u001b[0m: \u001b[32m\"null\"\u001b[0m\u001b[1m}\u001b[0m\u001b[1m]\u001b[0m, \u001b[32m\"default\"\u001b[0m: null, \u001b[32m\"title\"\u001b[0m: \u001b[32m\"Interest Rate\"\u001b[0m\u001b[1m}\u001b[0m, \n",
       "\u001b[32m\"interest_rate_confidence\"\u001b[0m: \u001b[1m{\u001b[0m\u001b[32m\"anyOf\"\u001b[0m: \u001b[1m[\u001b[0m\u001b[1m{\u001b[0m\u001b[32m\"type\"\u001b[0m: \u001b[32m\"number\"\u001b[0m\u001b[1m}\u001b[0m, \u001b[1m{\u001b[0m\u001b[32m\"type\"\u001b[0m: \u001b[32m\"null\"\u001b[0m\u001b[1m}\u001b[0m\u001b[1m]\u001b[0m, \u001b[32m\"default\"\u001b[0m: null, \u001b[32m\"title\"\u001b[0m: \u001b[32m\"Interest \u001b[0m\n",
       "\u001b[32mRate Confidence\"\u001b[0m\u001b[1m}\u001b[0m\u001b[1m}\u001b[0m, \u001b[32m\"required\"\u001b[0m: \u001b[1m[\u001b[0m\u001b[32m\"document_classification\"\u001b[0m, \u001b[32m\"document_classification_confidence\"\u001b[0m\u001b[1m]\u001b[0m, \u001b[32m\"title\"\u001b[0m: \u001b[32m\"Deed\"\u001b[0m,\n",
       "\u001b[32m\"type\"\u001b[0m: \u001b[32m\"object\"\u001b[0m\u001b[1m}\u001b[0m\n"
      ]
     },
     "metadata": {},
     "output_type": "display_data"
    }
   ],
   "source": [
    "print(Deed.schema_json())"
   ]
  },
  {
   "cell_type": "code",
   "execution_count": 165,
   "metadata": {},
   "outputs": [],
   "source": [
    "from langchain.output_parsers import PydanticOutputParser"
   ]
  },
  {
   "cell_type": "code",
   "execution_count": 166,
   "metadata": {},
   "outputs": [],
   "source": [
    "pydantic_parser = PydanticOutputParser(pydantic_object=Mortgage)"
   ]
  },
  {
   "cell_type": "code",
   "execution_count": 167,
   "metadata": {},
   "outputs": [],
   "source": [
    "format_instruction  = pydantic_parser.get_format_instructions()"
   ]
  },
  {
   "cell_type": "code",
   "execution_count": 168,
   "metadata": {},
   "outputs": [
    {
     "data": {
      "text/html": [
       "<pre style=\"white-space:pre;overflow-x:auto;line-height:normal;font-family:Menlo,'DejaVu Sans Mono',consolas,'Courier New',monospace\">The output should be formatted as a JSON instance that conforms to the JSON schema below.\n",
       "\n",
       "As an example, for the schema <span style=\"font-weight: bold\">{</span><span style=\"color: #008000; text-decoration-color: #008000\">\"properties\"</span>: <span style=\"font-weight: bold\">{</span><span style=\"color: #008000; text-decoration-color: #008000\">\"foo\"</span>: <span style=\"font-weight: bold\">{</span><span style=\"color: #008000; text-decoration-color: #008000\">\"title\"</span>: <span style=\"color: #008000; text-decoration-color: #008000\">\"Foo\"</span>, <span style=\"color: #008000; text-decoration-color: #008000\">\"description\"</span>: <span style=\"color: #008000; text-decoration-color: #008000\">\"a list of strings\"</span>, <span style=\"color: #008000; text-decoration-color: #008000\">\"type\"</span>: \n",
       "<span style=\"color: #008000; text-decoration-color: #008000\">\"array\"</span>, <span style=\"color: #008000; text-decoration-color: #008000\">\"items\"</span>: <span style=\"font-weight: bold\">{</span><span style=\"color: #008000; text-decoration-color: #008000\">\"type\"</span>: <span style=\"color: #008000; text-decoration-color: #008000\">\"string\"</span><span style=\"font-weight: bold\">}}}</span>, <span style=\"color: #008000; text-decoration-color: #008000\">\"required\"</span>: <span style=\"font-weight: bold\">[</span><span style=\"color: #008000; text-decoration-color: #008000\">\"foo\"</span><span style=\"font-weight: bold\">]}</span>\n",
       "the object <span style=\"font-weight: bold\">{</span><span style=\"color: #008000; text-decoration-color: #008000\">\"foo\"</span>: <span style=\"font-weight: bold\">[</span><span style=\"color: #008000; text-decoration-color: #008000\">\"bar\"</span>, <span style=\"color: #008000; text-decoration-color: #008000\">\"baz\"</span><span style=\"font-weight: bold\">]}</span> is a well-formatted instance of the schema. The object <span style=\"font-weight: bold\">{</span><span style=\"color: #008000; text-decoration-color: #008000\">\"properties\"</span>: <span style=\"font-weight: bold\">{</span><span style=\"color: #008000; text-decoration-color: #008000\">\"foo\"</span>: \n",
       "<span style=\"font-weight: bold\">[</span><span style=\"color: #008000; text-decoration-color: #008000\">\"bar\"</span>, <span style=\"color: #008000; text-decoration-color: #008000\">\"baz\"</span><span style=\"font-weight: bold\">]}}</span> is not well-formatted.\n",
       "\n",
       "Here is the output schema:\n",
       "```\n",
       "<span style=\"font-weight: bold\">{</span><span style=\"color: #008000; text-decoration-color: #008000\">\"properties\"</span>: <span style=\"font-weight: bold\">{</span><span style=\"color: #008000; text-decoration-color: #008000\">\"document_classification\"</span>: <span style=\"font-weight: bold\">{</span><span style=\"color: #008000; text-decoration-color: #008000\">\"title\"</span>: <span style=\"color: #008000; text-decoration-color: #008000\">\"Document Classification\"</span>, <span style=\"color: #008000; text-decoration-color: #008000\">\"type\"</span>: <span style=\"color: #008000; text-decoration-color: #008000\">\"string\"</span><span style=\"font-weight: bold\">}</span>, \n",
       "<span style=\"color: #008000; text-decoration-color: #008000\">\"document_classification_confidence\"</span>: <span style=\"font-weight: bold\">{</span><span style=\"color: #008000; text-decoration-color: #008000\">\"title\"</span>: <span style=\"color: #008000; text-decoration-color: #008000\">\"Document Classification Confidence\"</span>, <span style=\"color: #008000; text-decoration-color: #008000\">\"type\"</span>: <span style=\"color: #008000; text-decoration-color: #008000\">\"number\"</span><span style=\"font-weight: bold\">}</span>, \n",
       "<span style=\"color: #008000; text-decoration-color: #008000\">\"borrower_first_name\"</span>: <span style=\"font-weight: bold\">{</span><span style=\"color: #008000; text-decoration-color: #008000\">\"anyOf\"</span>: <span style=\"font-weight: bold\">[{</span><span style=\"color: #008000; text-decoration-color: #008000\">\"type\"</span>: <span style=\"color: #008000; text-decoration-color: #008000\">\"string\"</span><span style=\"font-weight: bold\">}</span>, <span style=\"font-weight: bold\">{</span><span style=\"color: #008000; text-decoration-color: #008000\">\"type\"</span>: <span style=\"color: #008000; text-decoration-color: #008000\">\"null\"</span><span style=\"font-weight: bold\">}]</span>, <span style=\"color: #008000; text-decoration-color: #008000\">\"default\"</span>: null, <span style=\"color: #008000; text-decoration-color: #008000\">\"title\"</span>: <span style=\"color: #008000; text-decoration-color: #008000\">\"Borrower First </span>\n",
       "<span style=\"color: #008000; text-decoration-color: #008000\">Name\"</span><span style=\"font-weight: bold\">}</span>, <span style=\"color: #008000; text-decoration-color: #008000\">\"borrower_first_name_confidence\"</span>: <span style=\"font-weight: bold\">{</span><span style=\"color: #008000; text-decoration-color: #008000\">\"anyOf\"</span>: <span style=\"font-weight: bold\">[{</span><span style=\"color: #008000; text-decoration-color: #008000\">\"type\"</span>: <span style=\"color: #008000; text-decoration-color: #008000\">\"number\"</span><span style=\"font-weight: bold\">}</span>, <span style=\"font-weight: bold\">{</span><span style=\"color: #008000; text-decoration-color: #008000\">\"type\"</span>: <span style=\"color: #008000; text-decoration-color: #008000\">\"null\"</span><span style=\"font-weight: bold\">}]</span>, <span style=\"color: #008000; text-decoration-color: #008000\">\"default\"</span>: null, \n",
       "<span style=\"color: #008000; text-decoration-color: #008000\">\"title\"</span>: <span style=\"color: #008000; text-decoration-color: #008000\">\"Borrower First Name Confidence\"</span><span style=\"font-weight: bold\">}</span>, <span style=\"color: #008000; text-decoration-color: #008000\">\"borrower_last_name\"</span>: <span style=\"font-weight: bold\">{</span><span style=\"color: #008000; text-decoration-color: #008000\">\"anyOf\"</span>: <span style=\"font-weight: bold\">[{</span><span style=\"color: #008000; text-decoration-color: #008000\">\"type\"</span>: <span style=\"color: #008000; text-decoration-color: #008000\">\"string\"</span><span style=\"font-weight: bold\">}</span>, <span style=\"font-weight: bold\">{</span><span style=\"color: #008000; text-decoration-color: #008000\">\"type\"</span>: <span style=\"color: #008000; text-decoration-color: #008000\">\"null\"</span><span style=\"font-weight: bold\">}]</span>,\n",
       "<span style=\"color: #008000; text-decoration-color: #008000\">\"default\"</span>: null, <span style=\"color: #008000; text-decoration-color: #008000\">\"title\"</span>: <span style=\"color: #008000; text-decoration-color: #008000\">\"Borrower Last Name\"</span><span style=\"font-weight: bold\">}</span>, <span style=\"color: #008000; text-decoration-color: #008000\">\"borrower_last_name_confidence\"</span>: <span style=\"font-weight: bold\">{</span><span style=\"color: #008000; text-decoration-color: #008000\">\"anyOf\"</span>: <span style=\"font-weight: bold\">[{</span><span style=\"color: #008000; text-decoration-color: #008000\">\"type\"</span>: <span style=\"color: #008000; text-decoration-color: #008000\">\"number\"</span><span style=\"font-weight: bold\">}</span>, \n",
       "<span style=\"font-weight: bold\">{</span><span style=\"color: #008000; text-decoration-color: #008000\">\"type\"</span>: <span style=\"color: #008000; text-decoration-color: #008000\">\"null\"</span><span style=\"font-weight: bold\">}]</span>, <span style=\"color: #008000; text-decoration-color: #008000\">\"default\"</span>: null, <span style=\"color: #008000; text-decoration-color: #008000\">\"title\"</span>: <span style=\"color: #008000; text-decoration-color: #008000\">\"Borrower Last Name Confidence\"</span><span style=\"font-weight: bold\">}</span>, <span style=\"color: #008000; text-decoration-color: #008000\">\"borrower_relationship_type\"</span>: \n",
       "<span style=\"font-weight: bold\">{</span><span style=\"color: #008000; text-decoration-color: #008000\">\"anyOf\"</span>: <span style=\"font-weight: bold\">[{</span><span style=\"color: #008000; text-decoration-color: #008000\">\"type\"</span>: <span style=\"color: #008000; text-decoration-color: #008000\">\"string\"</span><span style=\"font-weight: bold\">}</span>, <span style=\"font-weight: bold\">{</span><span style=\"color: #008000; text-decoration-color: #008000\">\"type\"</span>: <span style=\"color: #008000; text-decoration-color: #008000\">\"null\"</span><span style=\"font-weight: bold\">}]</span>, <span style=\"color: #008000; text-decoration-color: #008000\">\"default\"</span>: null, <span style=\"color: #008000; text-decoration-color: #008000\">\"title\"</span>: <span style=\"color: #008000; text-decoration-color: #008000\">\"Borrower Relationship Type\"</span><span style=\"font-weight: bold\">}</span>, \n",
       "<span style=\"color: #008000; text-decoration-color: #008000\">\"borrower_relationship_type_confidence\"</span>: <span style=\"font-weight: bold\">{</span><span style=\"color: #008000; text-decoration-color: #008000\">\"anyOf\"</span>: <span style=\"font-weight: bold\">[{</span><span style=\"color: #008000; text-decoration-color: #008000\">\"type\"</span>: <span style=\"color: #008000; text-decoration-color: #008000\">\"number\"</span><span style=\"font-weight: bold\">}</span>, <span style=\"font-weight: bold\">{</span><span style=\"color: #008000; text-decoration-color: #008000\">\"type\"</span>: <span style=\"color: #008000; text-decoration-color: #008000\">\"null\"</span><span style=\"font-weight: bold\">}]</span>, <span style=\"color: #008000; text-decoration-color: #008000\">\"default\"</span>: null, \n",
       "<span style=\"color: #008000; text-decoration-color: #008000\">\"title\"</span>: <span style=\"color: #008000; text-decoration-color: #008000\">\"Borrower Relationship Type Confidence\"</span><span style=\"font-weight: bold\">}</span>, <span style=\"color: #008000; text-decoration-color: #008000\">\"borrower_zip_code\"</span>: <span style=\"font-weight: bold\">{</span><span style=\"color: #008000; text-decoration-color: #008000\">\"anyOf\"</span>: <span style=\"font-weight: bold\">[{</span><span style=\"color: #008000; text-decoration-color: #008000\">\"type\"</span>: <span style=\"color: #008000; text-decoration-color: #008000\">\"string\"</span><span style=\"font-weight: bold\">}</span>, <span style=\"font-weight: bold\">{</span><span style=\"color: #008000; text-decoration-color: #008000\">\"type\"</span>: \n",
       "<span style=\"color: #008000; text-decoration-color: #008000\">\"null\"</span><span style=\"font-weight: bold\">}]</span>, <span style=\"color: #008000; text-decoration-color: #008000\">\"default\"</span>: null, <span style=\"color: #008000; text-decoration-color: #008000\">\"title\"</span>: <span style=\"color: #008000; text-decoration-color: #008000\">\"Borrower Zip Code\"</span><span style=\"font-weight: bold\">}</span>, <span style=\"color: #008000; text-decoration-color: #008000\">\"borrower_zip_code_confidence\"</span>: <span style=\"font-weight: bold\">{</span><span style=\"color: #008000; text-decoration-color: #008000\">\"anyOf\"</span>: <span style=\"font-weight: bold\">[{</span><span style=\"color: #008000; text-decoration-color: #008000\">\"type\"</span>: \n",
       "<span style=\"color: #008000; text-decoration-color: #008000\">\"number\"</span><span style=\"font-weight: bold\">}</span>, <span style=\"font-weight: bold\">{</span><span style=\"color: #008000; text-decoration-color: #008000\">\"type\"</span>: <span style=\"color: #008000; text-decoration-color: #008000\">\"null\"</span><span style=\"font-weight: bold\">}]</span>, <span style=\"color: #008000; text-decoration-color: #008000\">\"default\"</span>: null, <span style=\"color: #008000; text-decoration-color: #008000\">\"title\"</span>: <span style=\"color: #008000; text-decoration-color: #008000\">\"Borrower Zip Code Confidence\"</span><span style=\"font-weight: bold\">}</span>, <span style=\"color: #008000; text-decoration-color: #008000\">\"borrower_city\"</span>: <span style=\"font-weight: bold\">{</span><span style=\"color: #008000; text-decoration-color: #008000\">\"anyOf\"</span>:\n",
       "<span style=\"font-weight: bold\">[{</span><span style=\"color: #008000; text-decoration-color: #008000\">\"type\"</span>: <span style=\"color: #008000; text-decoration-color: #008000\">\"string\"</span><span style=\"font-weight: bold\">}</span>, <span style=\"font-weight: bold\">{</span><span style=\"color: #008000; text-decoration-color: #008000\">\"type\"</span>: <span style=\"color: #008000; text-decoration-color: #008000\">\"null\"</span><span style=\"font-weight: bold\">}]</span>, <span style=\"color: #008000; text-decoration-color: #008000\">\"default\"</span>: null, <span style=\"color: #008000; text-decoration-color: #008000\">\"title\"</span>: <span style=\"color: #008000; text-decoration-color: #008000\">\"Borrower City\"</span><span style=\"font-weight: bold\">}</span>, <span style=\"color: #008000; text-decoration-color: #008000\">\"borrower_city_confidence\"</span>: \n",
       "<span style=\"font-weight: bold\">{</span><span style=\"color: #008000; text-decoration-color: #008000\">\"anyOf\"</span>: <span style=\"font-weight: bold\">[{</span><span style=\"color: #008000; text-decoration-color: #008000\">\"type\"</span>: <span style=\"color: #008000; text-decoration-color: #008000\">\"number\"</span><span style=\"font-weight: bold\">}</span>, <span style=\"font-weight: bold\">{</span><span style=\"color: #008000; text-decoration-color: #008000\">\"type\"</span>: <span style=\"color: #008000; text-decoration-color: #008000\">\"null\"</span><span style=\"font-weight: bold\">}]</span>, <span style=\"color: #008000; text-decoration-color: #008000\">\"default\"</span>: null, <span style=\"color: #008000; text-decoration-color: #008000\">\"title\"</span>: <span style=\"color: #008000; text-decoration-color: #008000\">\"Borrower City Confidence\"</span><span style=\"font-weight: bold\">}</span>, \n",
       "<span style=\"color: #008000; text-decoration-color: #008000\">\"borrower_state\"</span>: <span style=\"font-weight: bold\">{</span><span style=\"color: #008000; text-decoration-color: #008000\">\"anyOf\"</span>: <span style=\"font-weight: bold\">[{</span><span style=\"color: #008000; text-decoration-color: #008000\">\"type\"</span>: <span style=\"color: #008000; text-decoration-color: #008000\">\"string\"</span><span style=\"font-weight: bold\">}</span>, <span style=\"font-weight: bold\">{</span><span style=\"color: #008000; text-decoration-color: #008000\">\"type\"</span>: <span style=\"color: #008000; text-decoration-color: #008000\">\"null\"</span><span style=\"font-weight: bold\">}]</span>, <span style=\"color: #008000; text-decoration-color: #008000\">\"default\"</span>: null, <span style=\"color: #008000; text-decoration-color: #008000\">\"title\"</span>: <span style=\"color: #008000; text-decoration-color: #008000\">\"Borrower State\"</span><span style=\"font-weight: bold\">}</span>, \n",
       "<span style=\"color: #008000; text-decoration-color: #008000\">\"borrower_state_confidence\"</span>: <span style=\"font-weight: bold\">{</span><span style=\"color: #008000; text-decoration-color: #008000\">\"anyOf\"</span>: <span style=\"font-weight: bold\">[{</span><span style=\"color: #008000; text-decoration-color: #008000\">\"type\"</span>: <span style=\"color: #008000; text-decoration-color: #008000\">\"number\"</span><span style=\"font-weight: bold\">}</span>, <span style=\"font-weight: bold\">{</span><span style=\"color: #008000; text-decoration-color: #008000\">\"type\"</span>: <span style=\"color: #008000; text-decoration-color: #008000\">\"null\"</span><span style=\"font-weight: bold\">}]</span>, <span style=\"color: #008000; text-decoration-color: #008000\">\"default\"</span>: null, <span style=\"color: #008000; text-decoration-color: #008000\">\"title\"</span>: <span style=\"color: #008000; text-decoration-color: #008000\">\"Borrower </span>\n",
       "<span style=\"color: #008000; text-decoration-color: #008000\">State Confidence\"</span><span style=\"font-weight: bold\">}</span>, <span style=\"color: #008000; text-decoration-color: #008000\">\"borrower_street_address\"</span>: <span style=\"font-weight: bold\">{</span><span style=\"color: #008000; text-decoration-color: #008000\">\"anyOf\"</span>: <span style=\"font-weight: bold\">[{</span><span style=\"color: #008000; text-decoration-color: #008000\">\"type\"</span>: <span style=\"color: #008000; text-decoration-color: #008000\">\"string\"</span><span style=\"font-weight: bold\">}</span>, <span style=\"font-weight: bold\">{</span><span style=\"color: #008000; text-decoration-color: #008000\">\"type\"</span>: <span style=\"color: #008000; text-decoration-color: #008000\">\"null\"</span><span style=\"font-weight: bold\">}]</span>, <span style=\"color: #008000; text-decoration-color: #008000\">\"default\"</span>: null, \n",
       "<span style=\"color: #008000; text-decoration-color: #008000\">\"title\"</span>: <span style=\"color: #008000; text-decoration-color: #008000\">\"Borrower Street Address\"</span><span style=\"font-weight: bold\">}</span>, <span style=\"color: #008000; text-decoration-color: #008000\">\"borrower_street_address_confidence\"</span>: <span style=\"font-weight: bold\">{</span><span style=\"color: #008000; text-decoration-color: #008000\">\"anyOf\"</span>: <span style=\"font-weight: bold\">[{</span><span style=\"color: #008000; text-decoration-color: #008000\">\"type\"</span>: <span style=\"color: #008000; text-decoration-color: #008000\">\"number\"</span><span style=\"font-weight: bold\">}</span>, <span style=\"font-weight: bold\">{</span><span style=\"color: #008000; text-decoration-color: #008000\">\"type\"</span>: \n",
       "<span style=\"color: #008000; text-decoration-color: #008000\">\"null\"</span><span style=\"font-weight: bold\">}]</span>, <span style=\"color: #008000; text-decoration-color: #008000\">\"default\"</span>: null, <span style=\"color: #008000; text-decoration-color: #008000\">\"title\"</span>: <span style=\"color: #008000; text-decoration-color: #008000\">\"Borrower Street Address Confidence\"</span><span style=\"font-weight: bold\">}</span>, <span style=\"color: #008000; text-decoration-color: #008000\">\"sale_date\"</span>: <span style=\"font-weight: bold\">{</span><span style=\"color: #008000; text-decoration-color: #008000\">\"anyOf\"</span>: <span style=\"font-weight: bold\">[{</span><span style=\"color: #008000; text-decoration-color: #008000\">\"type\"</span>: \n",
       "<span style=\"color: #008000; text-decoration-color: #008000\">\"string\"</span><span style=\"font-weight: bold\">}</span>, <span style=\"font-weight: bold\">{</span><span style=\"color: #008000; text-decoration-color: #008000\">\"type\"</span>: <span style=\"color: #008000; text-decoration-color: #008000\">\"null\"</span><span style=\"font-weight: bold\">}]</span>, <span style=\"color: #008000; text-decoration-color: #008000\">\"default\"</span>: null, <span style=\"color: #008000; text-decoration-color: #008000\">\"title\"</span>: <span style=\"color: #008000; text-decoration-color: #008000\">\"Sale Date\"</span><span style=\"font-weight: bold\">}</span>, <span style=\"color: #008000; text-decoration-color: #008000\">\"sale_date_confidence\"</span>: <span style=\"font-weight: bold\">{</span><span style=\"color: #008000; text-decoration-color: #008000\">\"anyOf\"</span>: <span style=\"font-weight: bold\">[{</span><span style=\"color: #008000; text-decoration-color: #008000\">\"type\"</span>: \n",
       "<span style=\"color: #008000; text-decoration-color: #008000\">\"number\"</span><span style=\"font-weight: bold\">}</span>, <span style=\"font-weight: bold\">{</span><span style=\"color: #008000; text-decoration-color: #008000\">\"type\"</span>: <span style=\"color: #008000; text-decoration-color: #008000\">\"null\"</span><span style=\"font-weight: bold\">}]</span>, <span style=\"color: #008000; text-decoration-color: #008000\">\"default\"</span>: null, <span style=\"color: #008000; text-decoration-color: #008000\">\"title\"</span>: <span style=\"color: #008000; text-decoration-color: #008000\">\"Sale Date Confidence\"</span><span style=\"font-weight: bold\">}</span>, <span style=\"color: #008000; text-decoration-color: #008000\">\"sale_price\"</span>: <span style=\"font-weight: bold\">{</span><span style=\"color: #008000; text-decoration-color: #008000\">\"anyOf\"</span>: <span style=\"font-weight: bold\">[{</span><span style=\"color: #008000; text-decoration-color: #008000\">\"type\"</span>: \n",
       "<span style=\"color: #008000; text-decoration-color: #008000\">\"string\"</span><span style=\"font-weight: bold\">}</span>, <span style=\"font-weight: bold\">{</span><span style=\"color: #008000; text-decoration-color: #008000\">\"type\"</span>: <span style=\"color: #008000; text-decoration-color: #008000\">\"null\"</span><span style=\"font-weight: bold\">}]</span>, <span style=\"color: #008000; text-decoration-color: #008000\">\"default\"</span>: null, <span style=\"color: #008000; text-decoration-color: #008000\">\"title\"</span>: <span style=\"color: #008000; text-decoration-color: #008000\">\"Sale Price\"</span><span style=\"font-weight: bold\">}</span>, <span style=\"color: #008000; text-decoration-color: #008000\">\"sale_price_confidence\"</span>: <span style=\"font-weight: bold\">{</span><span style=\"color: #008000; text-decoration-color: #008000\">\"anyOf\"</span>: <span style=\"font-weight: bold\">[{</span><span style=\"color: #008000; text-decoration-color: #008000\">\"type\"</span>:\n",
       "<span style=\"color: #008000; text-decoration-color: #008000\">\"number\"</span><span style=\"font-weight: bold\">}</span>, <span style=\"font-weight: bold\">{</span><span style=\"color: #008000; text-decoration-color: #008000\">\"type\"</span>: <span style=\"color: #008000; text-decoration-color: #008000\">\"null\"</span><span style=\"font-weight: bold\">}]</span>, <span style=\"color: #008000; text-decoration-color: #008000\">\"default\"</span>: null, <span style=\"color: #008000; text-decoration-color: #008000\">\"title\"</span>: <span style=\"color: #008000; text-decoration-color: #008000\">\"Sale Price Confidence\"</span><span style=\"font-weight: bold\">}</span>, <span style=\"color: #008000; text-decoration-color: #008000\">\"company_name\"</span>: <span style=\"font-weight: bold\">{</span><span style=\"color: #008000; text-decoration-color: #008000\">\"anyOf\"</span>: \n",
       "<span style=\"font-weight: bold\">[{</span><span style=\"color: #008000; text-decoration-color: #008000\">\"type\"</span>: <span style=\"color: #008000; text-decoration-color: #008000\">\"string\"</span><span style=\"font-weight: bold\">}</span>, <span style=\"font-weight: bold\">{</span><span style=\"color: #008000; text-decoration-color: #008000\">\"type\"</span>: <span style=\"color: #008000; text-decoration-color: #008000\">\"null\"</span><span style=\"font-weight: bold\">}]</span>, <span style=\"color: #008000; text-decoration-color: #008000\">\"default\"</span>: null, <span style=\"color: #008000; text-decoration-color: #008000\">\"title\"</span>: <span style=\"color: #008000; text-decoration-color: #008000\">\"Company Name\"</span><span style=\"font-weight: bold\">}</span>, <span style=\"color: #008000; text-decoration-color: #008000\">\"company_name_confidence\"</span>: \n",
       "<span style=\"font-weight: bold\">{</span><span style=\"color: #008000; text-decoration-color: #008000\">\"anyOf\"</span>: <span style=\"font-weight: bold\">[{</span><span style=\"color: #008000; text-decoration-color: #008000\">\"type\"</span>: <span style=\"color: #008000; text-decoration-color: #008000\">\"number\"</span><span style=\"font-weight: bold\">}</span>, <span style=\"font-weight: bold\">{</span><span style=\"color: #008000; text-decoration-color: #008000\">\"type\"</span>: <span style=\"color: #008000; text-decoration-color: #008000\">\"null\"</span><span style=\"font-weight: bold\">}]</span>, <span style=\"color: #008000; text-decoration-color: #008000\">\"default\"</span>: null, <span style=\"color: #008000; text-decoration-color: #008000\">\"title\"</span>: <span style=\"color: #008000; text-decoration-color: #008000\">\"Company Name Confidence\"</span><span style=\"font-weight: bold\">}</span>, \n",
       "<span style=\"color: #008000; text-decoration-color: #008000\">\"attorney_name\"</span>: <span style=\"font-weight: bold\">{</span><span style=\"color: #008000; text-decoration-color: #008000\">\"anyOf\"</span>: <span style=\"font-weight: bold\">[{</span><span style=\"color: #008000; text-decoration-color: #008000\">\"type\"</span>: <span style=\"color: #008000; text-decoration-color: #008000\">\"string\"</span><span style=\"font-weight: bold\">}</span>, <span style=\"font-weight: bold\">{</span><span style=\"color: #008000; text-decoration-color: #008000\">\"type\"</span>: <span style=\"color: #008000; text-decoration-color: #008000\">\"null\"</span><span style=\"font-weight: bold\">}]</span>, <span style=\"color: #008000; text-decoration-color: #008000\">\"default\"</span>: null, <span style=\"color: #008000; text-decoration-color: #008000\">\"title\"</span>: <span style=\"color: #008000; text-decoration-color: #008000\">\"Attorney Name\"</span><span style=\"font-weight: bold\">}</span>, \n",
       "<span style=\"color: #008000; text-decoration-color: #008000\">\"attorney_name_confidence\"</span>: <span style=\"font-weight: bold\">{</span><span style=\"color: #008000; text-decoration-color: #008000\">\"anyOf\"</span>: <span style=\"font-weight: bold\">[{</span><span style=\"color: #008000; text-decoration-color: #008000\">\"type\"</span>: <span style=\"color: #008000; text-decoration-color: #008000\">\"number\"</span><span style=\"font-weight: bold\">}</span>, <span style=\"font-weight: bold\">{</span><span style=\"color: #008000; text-decoration-color: #008000\">\"type\"</span>: <span style=\"color: #008000; text-decoration-color: #008000\">\"null\"</span><span style=\"font-weight: bold\">}]</span>, <span style=\"color: #008000; text-decoration-color: #008000\">\"default\"</span>: null, <span style=\"color: #008000; text-decoration-color: #008000\">\"title\"</span>: <span style=\"color: #008000; text-decoration-color: #008000\">\"Attorney </span>\n",
       "<span style=\"color: #008000; text-decoration-color: #008000\">Name Confidence\"</span><span style=\"font-weight: bold\">}</span>, <span style=\"color: #008000; text-decoration-color: #008000\">\"lender_first_name_or_company_name\"</span>: <span style=\"font-weight: bold\">{</span><span style=\"color: #008000; text-decoration-color: #008000\">\"anyOf\"</span>: <span style=\"font-weight: bold\">[{</span><span style=\"color: #008000; text-decoration-color: #008000\">\"type\"</span>: <span style=\"color: #008000; text-decoration-color: #008000\">\"string\"</span><span style=\"font-weight: bold\">}</span>, <span style=\"font-weight: bold\">{</span><span style=\"color: #008000; text-decoration-color: #008000\">\"type\"</span>: <span style=\"color: #008000; text-decoration-color: #008000\">\"null\"</span><span style=\"font-weight: bold\">}]</span>, \n",
       "<span style=\"color: #008000; text-decoration-color: #008000\">\"default\"</span>: null, <span style=\"color: #008000; text-decoration-color: #008000\">\"title\"</span>: <span style=\"color: #008000; text-decoration-color: #008000\">\"Lender First Name Or Company Name\"</span><span style=\"font-weight: bold\">}</span>, <span style=\"color: #008000; text-decoration-color: #008000\">\"lender_first_name_or_company_name_confidence\"</span>: \n",
       "<span style=\"font-weight: bold\">{</span><span style=\"color: #008000; text-decoration-color: #008000\">\"anyOf\"</span>: <span style=\"font-weight: bold\">[{</span><span style=\"color: #008000; text-decoration-color: #008000\">\"type\"</span>: <span style=\"color: #008000; text-decoration-color: #008000\">\"number\"</span><span style=\"font-weight: bold\">}</span>, <span style=\"font-weight: bold\">{</span><span style=\"color: #008000; text-decoration-color: #008000\">\"type\"</span>: <span style=\"color: #008000; text-decoration-color: #008000\">\"null\"</span><span style=\"font-weight: bold\">}]</span>, <span style=\"color: #008000; text-decoration-color: #008000\">\"default\"</span>: null, <span style=\"color: #008000; text-decoration-color: #008000\">\"title\"</span>: <span style=\"color: #008000; text-decoration-color: #008000\">\"Lender First Name Or Company Name </span>\n",
       "<span style=\"color: #008000; text-decoration-color: #008000\">Confidence\"</span><span style=\"font-weight: bold\">}</span>, <span style=\"color: #008000; text-decoration-color: #008000\">\"lender_zip_code\"</span>: <span style=\"font-weight: bold\">{</span><span style=\"color: #008000; text-decoration-color: #008000\">\"anyOf\"</span>: <span style=\"font-weight: bold\">[{</span><span style=\"color: #008000; text-decoration-color: #008000\">\"type\"</span>: <span style=\"color: #008000; text-decoration-color: #008000\">\"string\"</span><span style=\"font-weight: bold\">}</span>, <span style=\"font-weight: bold\">{</span><span style=\"color: #008000; text-decoration-color: #008000\">\"type\"</span>: <span style=\"color: #008000; text-decoration-color: #008000\">\"null\"</span><span style=\"font-weight: bold\">}]</span>, <span style=\"color: #008000; text-decoration-color: #008000\">\"default\"</span>: null, <span style=\"color: #008000; text-decoration-color: #008000\">\"title\"</span>: \n",
       "<span style=\"color: #008000; text-decoration-color: #008000\">\"Lender Zip Code\"</span><span style=\"font-weight: bold\">}</span>, <span style=\"color: #008000; text-decoration-color: #008000\">\"lender_zip_code_confidence\"</span>: <span style=\"font-weight: bold\">{</span><span style=\"color: #008000; text-decoration-color: #008000\">\"anyOf\"</span>: <span style=\"font-weight: bold\">[{</span><span style=\"color: #008000; text-decoration-color: #008000\">\"type\"</span>: <span style=\"color: #008000; text-decoration-color: #008000\">\"number\"</span><span style=\"font-weight: bold\">}</span>, <span style=\"font-weight: bold\">{</span><span style=\"color: #008000; text-decoration-color: #008000\">\"type\"</span>: <span style=\"color: #008000; text-decoration-color: #008000\">\"null\"</span><span style=\"font-weight: bold\">}]</span>, <span style=\"color: #008000; text-decoration-color: #008000\">\"default\"</span>: \n",
       "null, <span style=\"color: #008000; text-decoration-color: #008000\">\"title\"</span>: <span style=\"color: #008000; text-decoration-color: #008000\">\"Lender Zip Code Confidence\"</span><span style=\"font-weight: bold\">}</span>, <span style=\"color: #008000; text-decoration-color: #008000\">\"lender_city\"</span>: <span style=\"font-weight: bold\">{</span><span style=\"color: #008000; text-decoration-color: #008000\">\"anyOf\"</span>: <span style=\"font-weight: bold\">[{</span><span style=\"color: #008000; text-decoration-color: #008000\">\"type\"</span>: <span style=\"color: #008000; text-decoration-color: #008000\">\"string\"</span><span style=\"font-weight: bold\">}</span>, <span style=\"font-weight: bold\">{</span><span style=\"color: #008000; text-decoration-color: #008000\">\"type\"</span>: <span style=\"color: #008000; text-decoration-color: #008000\">\"null\"</span><span style=\"font-weight: bold\">}]</span>, \n",
       "<span style=\"color: #008000; text-decoration-color: #008000\">\"default\"</span>: null, <span style=\"color: #008000; text-decoration-color: #008000\">\"title\"</span>: <span style=\"color: #008000; text-decoration-color: #008000\">\"Lender City\"</span><span style=\"font-weight: bold\">}</span>, <span style=\"color: #008000; text-decoration-color: #008000\">\"lender_city_confidence\"</span>: <span style=\"font-weight: bold\">{</span><span style=\"color: #008000; text-decoration-color: #008000\">\"anyOf\"</span>: <span style=\"font-weight: bold\">[{</span><span style=\"color: #008000; text-decoration-color: #008000\">\"type\"</span>: <span style=\"color: #008000; text-decoration-color: #008000\">\"number\"</span><span style=\"font-weight: bold\">}</span>, <span style=\"font-weight: bold\">{</span><span style=\"color: #008000; text-decoration-color: #008000\">\"type\"</span>: \n",
       "<span style=\"color: #008000; text-decoration-color: #008000\">\"null\"</span><span style=\"font-weight: bold\">}]</span>, <span style=\"color: #008000; text-decoration-color: #008000\">\"default\"</span>: null, <span style=\"color: #008000; text-decoration-color: #008000\">\"title\"</span>: <span style=\"color: #008000; text-decoration-color: #008000\">\"Lender City Confidence\"</span><span style=\"font-weight: bold\">}</span>, <span style=\"color: #008000; text-decoration-color: #008000\">\"lender_state\"</span>: <span style=\"font-weight: bold\">{</span><span style=\"color: #008000; text-decoration-color: #008000\">\"anyOf\"</span>: <span style=\"font-weight: bold\">[{</span><span style=\"color: #008000; text-decoration-color: #008000\">\"type\"</span>: <span style=\"color: #008000; text-decoration-color: #008000\">\"string\"</span><span style=\"font-weight: bold\">}</span>, \n",
       "<span style=\"font-weight: bold\">{</span><span style=\"color: #008000; text-decoration-color: #008000\">\"type\"</span>: <span style=\"color: #008000; text-decoration-color: #008000\">\"null\"</span><span style=\"font-weight: bold\">}]</span>, <span style=\"color: #008000; text-decoration-color: #008000\">\"default\"</span>: null, <span style=\"color: #008000; text-decoration-color: #008000\">\"title\"</span>: <span style=\"color: #008000; text-decoration-color: #008000\">\"Lender State\"</span><span style=\"font-weight: bold\">}</span>, <span style=\"color: #008000; text-decoration-color: #008000\">\"lender_state_confidence\"</span>: <span style=\"font-weight: bold\">{</span><span style=\"color: #008000; text-decoration-color: #008000\">\"anyOf\"</span>: <span style=\"font-weight: bold\">[{</span><span style=\"color: #008000; text-decoration-color: #008000\">\"type\"</span>: \n",
       "<span style=\"color: #008000; text-decoration-color: #008000\">\"number\"</span><span style=\"font-weight: bold\">}</span>, <span style=\"font-weight: bold\">{</span><span style=\"color: #008000; text-decoration-color: #008000\">\"type\"</span>: <span style=\"color: #008000; text-decoration-color: #008000\">\"null\"</span><span style=\"font-weight: bold\">}]</span>, <span style=\"color: #008000; text-decoration-color: #008000\">\"default\"</span>: null, <span style=\"color: #008000; text-decoration-color: #008000\">\"title\"</span>: <span style=\"color: #008000; text-decoration-color: #008000\">\"Lender State Confidence\"</span><span style=\"font-weight: bold\">}</span>, <span style=\"color: #008000; text-decoration-color: #008000\">\"property_zip_code\"</span>: <span style=\"font-weight: bold\">{</span><span style=\"color: #008000; text-decoration-color: #008000\">\"anyOf\"</span>: \n",
       "<span style=\"font-weight: bold\">[{</span><span style=\"color: #008000; text-decoration-color: #008000\">\"type\"</span>: <span style=\"color: #008000; text-decoration-color: #008000\">\"string\"</span><span style=\"font-weight: bold\">}</span>, <span style=\"font-weight: bold\">{</span><span style=\"color: #008000; text-decoration-color: #008000\">\"type\"</span>: <span style=\"color: #008000; text-decoration-color: #008000\">\"null\"</span><span style=\"font-weight: bold\">}]</span>, <span style=\"color: #008000; text-decoration-color: #008000\">\"default\"</span>: null, <span style=\"color: #008000; text-decoration-color: #008000\">\"title\"</span>: <span style=\"color: #008000; text-decoration-color: #008000\">\"Property Zip Code\"</span><span style=\"font-weight: bold\">}</span>, \n",
       "<span style=\"color: #008000; text-decoration-color: #008000\">\"property_zip_code_confidence\"</span>: <span style=\"font-weight: bold\">{</span><span style=\"color: #008000; text-decoration-color: #008000\">\"anyOf\"</span>: <span style=\"font-weight: bold\">[{</span><span style=\"color: #008000; text-decoration-color: #008000\">\"type\"</span>: <span style=\"color: #008000; text-decoration-color: #008000\">\"number\"</span><span style=\"font-weight: bold\">}</span>, <span style=\"font-weight: bold\">{</span><span style=\"color: #008000; text-decoration-color: #008000\">\"type\"</span>: <span style=\"color: #008000; text-decoration-color: #008000\">\"null\"</span><span style=\"font-weight: bold\">}]</span>, <span style=\"color: #008000; text-decoration-color: #008000\">\"default\"</span>: null, <span style=\"color: #008000; text-decoration-color: #008000\">\"title\"</span>: \n",
       "<span style=\"color: #008000; text-decoration-color: #008000\">\"Property Zip Code Confidence\"</span><span style=\"font-weight: bold\">}</span>, <span style=\"color: #008000; text-decoration-color: #008000\">\"property_city\"</span>: <span style=\"font-weight: bold\">{</span><span style=\"color: #008000; text-decoration-color: #008000\">\"anyOf\"</span>: <span style=\"font-weight: bold\">[{</span><span style=\"color: #008000; text-decoration-color: #008000\">\"type\"</span>: <span style=\"color: #008000; text-decoration-color: #008000\">\"string\"</span><span style=\"font-weight: bold\">}</span>, <span style=\"font-weight: bold\">{</span><span style=\"color: #008000; text-decoration-color: #008000\">\"type\"</span>: <span style=\"color: #008000; text-decoration-color: #008000\">\"null\"</span><span style=\"font-weight: bold\">}]</span>, <span style=\"color: #008000; text-decoration-color: #008000\">\"default\"</span>: \n",
       "null, <span style=\"color: #008000; text-decoration-color: #008000\">\"title\"</span>: <span style=\"color: #008000; text-decoration-color: #008000\">\"Property City\"</span><span style=\"font-weight: bold\">}</span>, <span style=\"color: #008000; text-decoration-color: #008000\">\"property_city_confidence\"</span>: <span style=\"font-weight: bold\">{</span><span style=\"color: #008000; text-decoration-color: #008000\">\"anyOf\"</span>: <span style=\"font-weight: bold\">[{</span><span style=\"color: #008000; text-decoration-color: #008000\">\"type\"</span>: <span style=\"color: #008000; text-decoration-color: #008000\">\"number\"</span><span style=\"font-weight: bold\">}</span>, <span style=\"font-weight: bold\">{</span><span style=\"color: #008000; text-decoration-color: #008000\">\"type\"</span>: <span style=\"color: #008000; text-decoration-color: #008000\">\"null\"</span><span style=\"font-weight: bold\">}]</span>, \n",
       "<span style=\"color: #008000; text-decoration-color: #008000\">\"default\"</span>: null, <span style=\"color: #008000; text-decoration-color: #008000\">\"title\"</span>: <span style=\"color: #008000; text-decoration-color: #008000\">\"Property City Confidence\"</span><span style=\"font-weight: bold\">}</span>, <span style=\"color: #008000; text-decoration-color: #008000\">\"amortization_term\"</span>: <span style=\"font-weight: bold\">{</span><span style=\"color: #008000; text-decoration-color: #008000\">\"anyOf\"</span>: <span style=\"font-weight: bold\">[{</span><span style=\"color: #008000; text-decoration-color: #008000\">\"type\"</span>: <span style=\"color: #008000; text-decoration-color: #008000\">\"string\"</span><span style=\"font-weight: bold\">}</span>, <span style=\"font-weight: bold\">{</span><span style=\"color: #008000; text-decoration-color: #008000\">\"type\"</span>:\n",
       "<span style=\"color: #008000; text-decoration-color: #008000\">\"null\"</span><span style=\"font-weight: bold\">}]</span>, <span style=\"color: #008000; text-decoration-color: #008000\">\"default\"</span>: null, <span style=\"color: #008000; text-decoration-color: #008000\">\"title\"</span>: <span style=\"color: #008000; text-decoration-color: #008000\">\"Amortization Term\"</span><span style=\"font-weight: bold\">}</span>, <span style=\"color: #008000; text-decoration-color: #008000\">\"amortization_term_confidence\"</span>: <span style=\"font-weight: bold\">{</span><span style=\"color: #008000; text-decoration-color: #008000\">\"anyOf\"</span>: <span style=\"font-weight: bold\">[{</span><span style=\"color: #008000; text-decoration-color: #008000\">\"type\"</span>: \n",
       "<span style=\"color: #008000; text-decoration-color: #008000\">\"number\"</span><span style=\"font-weight: bold\">}</span>, <span style=\"font-weight: bold\">{</span><span style=\"color: #008000; text-decoration-color: #008000\">\"type\"</span>: <span style=\"color: #008000; text-decoration-color: #008000\">\"null\"</span><span style=\"font-weight: bold\">}]</span>, <span style=\"color: #008000; text-decoration-color: #008000\">\"default\"</span>: null, <span style=\"color: #008000; text-decoration-color: #008000\">\"title\"</span>: <span style=\"color: #008000; text-decoration-color: #008000\">\"Amortization Term Confidence\"</span><span style=\"font-weight: bold\">}</span>, <span style=\"color: #008000; text-decoration-color: #008000\">\"loan_due_date\"</span>: <span style=\"font-weight: bold\">{</span><span style=\"color: #008000; text-decoration-color: #008000\">\"anyOf\"</span>:\n",
       "<span style=\"font-weight: bold\">[{</span><span style=\"color: #008000; text-decoration-color: #008000\">\"type\"</span>: <span style=\"color: #008000; text-decoration-color: #008000\">\"string\"</span><span style=\"font-weight: bold\">}</span>, <span style=\"font-weight: bold\">{</span><span style=\"color: #008000; text-decoration-color: #008000\">\"type\"</span>: <span style=\"color: #008000; text-decoration-color: #008000\">\"null\"</span><span style=\"font-weight: bold\">}]</span>, <span style=\"color: #008000; text-decoration-color: #008000\">\"default\"</span>: null, <span style=\"color: #008000; text-decoration-color: #008000\">\"title\"</span>: <span style=\"color: #008000; text-decoration-color: #008000\">\"Loan Due Date\"</span><span style=\"font-weight: bold\">}</span>, <span style=\"color: #008000; text-decoration-color: #008000\">\"loan_due_date_confidence\"</span>: \n",
       "<span style=\"font-weight: bold\">{</span><span style=\"color: #008000; text-decoration-color: #008000\">\"anyOf\"</span>: <span style=\"font-weight: bold\">[{</span><span style=\"color: #008000; text-decoration-color: #008000\">\"type\"</span>: <span style=\"color: #008000; text-decoration-color: #008000\">\"number\"</span><span style=\"font-weight: bold\">}</span>, <span style=\"font-weight: bold\">{</span><span style=\"color: #008000; text-decoration-color: #008000\">\"type\"</span>: <span style=\"color: #008000; text-decoration-color: #008000\">\"null\"</span><span style=\"font-weight: bold\">}]</span>, <span style=\"color: #008000; text-decoration-color: #008000\">\"default\"</span>: null, <span style=\"color: #008000; text-decoration-color: #008000\">\"title\"</span>: <span style=\"color: #008000; text-decoration-color: #008000\">\"Loan Due Date Confidence\"</span><span style=\"font-weight: bold\">}</span>, \n",
       "<span style=\"color: #008000; text-decoration-color: #008000\">\"interest_rate\"</span>: <span style=\"font-weight: bold\">{</span><span style=\"color: #008000; text-decoration-color: #008000\">\"anyOf\"</span>: <span style=\"font-weight: bold\">[{</span><span style=\"color: #008000; text-decoration-color: #008000\">\"type\"</span>: <span style=\"color: #008000; text-decoration-color: #008000\">\"string\"</span><span style=\"font-weight: bold\">}</span>, <span style=\"font-weight: bold\">{</span><span style=\"color: #008000; text-decoration-color: #008000\">\"type\"</span>: <span style=\"color: #008000; text-decoration-color: #008000\">\"null\"</span><span style=\"font-weight: bold\">}]</span>, <span style=\"color: #008000; text-decoration-color: #008000\">\"default\"</span>: null, <span style=\"color: #008000; text-decoration-color: #008000\">\"title\"</span>: <span style=\"color: #008000; text-decoration-color: #008000\">\"Interest Rate\"</span><span style=\"font-weight: bold\">}</span>, \n",
       "<span style=\"color: #008000; text-decoration-color: #008000\">\"interest_rate_confidence\"</span>: <span style=\"font-weight: bold\">{</span><span style=\"color: #008000; text-decoration-color: #008000\">\"anyOf\"</span>: <span style=\"font-weight: bold\">[{</span><span style=\"color: #008000; text-decoration-color: #008000\">\"type\"</span>: <span style=\"color: #008000; text-decoration-color: #008000\">\"number\"</span><span style=\"font-weight: bold\">}</span>, <span style=\"font-weight: bold\">{</span><span style=\"color: #008000; text-decoration-color: #008000\">\"type\"</span>: <span style=\"color: #008000; text-decoration-color: #008000\">\"null\"</span><span style=\"font-weight: bold\">}]</span>, <span style=\"color: #008000; text-decoration-color: #008000\">\"default\"</span>: null, <span style=\"color: #008000; text-decoration-color: #008000\">\"title\"</span>: <span style=\"color: #008000; text-decoration-color: #008000\">\"Interest </span>\n",
       "<span style=\"color: #008000; text-decoration-color: #008000\">Rate Confidence\"</span><span style=\"font-weight: bold\">}}</span>, <span style=\"color: #008000; text-decoration-color: #008000\">\"required\"</span>: <span style=\"font-weight: bold\">[</span><span style=\"color: #008000; text-decoration-color: #008000\">\"document_classification\"</span>, <span style=\"color: #008000; text-decoration-color: #008000\">\"document_classification_confidence\"</span><span style=\"font-weight: bold\">]}</span>\n",
       "```\n",
       "</pre>\n"
      ],
      "text/plain": [
       "The output should be formatted as a JSON instance that conforms to the JSON schema below.\n",
       "\n",
       "As an example, for the schema \u001b[1m{\u001b[0m\u001b[32m\"properties\"\u001b[0m: \u001b[1m{\u001b[0m\u001b[32m\"foo\"\u001b[0m: \u001b[1m{\u001b[0m\u001b[32m\"title\"\u001b[0m: \u001b[32m\"Foo\"\u001b[0m, \u001b[32m\"description\"\u001b[0m: \u001b[32m\"a list of strings\"\u001b[0m, \u001b[32m\"type\"\u001b[0m: \n",
       "\u001b[32m\"array\"\u001b[0m, \u001b[32m\"items\"\u001b[0m: \u001b[1m{\u001b[0m\u001b[32m\"type\"\u001b[0m: \u001b[32m\"string\"\u001b[0m\u001b[1m}\u001b[0m\u001b[1m}\u001b[0m\u001b[1m}\u001b[0m, \u001b[32m\"required\"\u001b[0m: \u001b[1m[\u001b[0m\u001b[32m\"foo\"\u001b[0m\u001b[1m]\u001b[0m\u001b[1m}\u001b[0m\n",
       "the object \u001b[1m{\u001b[0m\u001b[32m\"foo\"\u001b[0m: \u001b[1m[\u001b[0m\u001b[32m\"bar\"\u001b[0m, \u001b[32m\"baz\"\u001b[0m\u001b[1m]\u001b[0m\u001b[1m}\u001b[0m is a well-formatted instance of the schema. The object \u001b[1m{\u001b[0m\u001b[32m\"properties\"\u001b[0m: \u001b[1m{\u001b[0m\u001b[32m\"foo\"\u001b[0m: \n",
       "\u001b[1m[\u001b[0m\u001b[32m\"bar\"\u001b[0m, \u001b[32m\"baz\"\u001b[0m\u001b[1m]\u001b[0m\u001b[1m}\u001b[0m\u001b[1m}\u001b[0m is not well-formatted.\n",
       "\n",
       "Here is the output schema:\n",
       "```\n",
       "\u001b[1m{\u001b[0m\u001b[32m\"properties\"\u001b[0m: \u001b[1m{\u001b[0m\u001b[32m\"document_classification\"\u001b[0m: \u001b[1m{\u001b[0m\u001b[32m\"title\"\u001b[0m: \u001b[32m\"Document Classification\"\u001b[0m, \u001b[32m\"type\"\u001b[0m: \u001b[32m\"string\"\u001b[0m\u001b[1m}\u001b[0m, \n",
       "\u001b[32m\"document_classification_confidence\"\u001b[0m: \u001b[1m{\u001b[0m\u001b[32m\"title\"\u001b[0m: \u001b[32m\"Document Classification Confidence\"\u001b[0m, \u001b[32m\"type\"\u001b[0m: \u001b[32m\"number\"\u001b[0m\u001b[1m}\u001b[0m, \n",
       "\u001b[32m\"borrower_first_name\"\u001b[0m: \u001b[1m{\u001b[0m\u001b[32m\"anyOf\"\u001b[0m: \u001b[1m[\u001b[0m\u001b[1m{\u001b[0m\u001b[32m\"type\"\u001b[0m: \u001b[32m\"string\"\u001b[0m\u001b[1m}\u001b[0m, \u001b[1m{\u001b[0m\u001b[32m\"type\"\u001b[0m: \u001b[32m\"null\"\u001b[0m\u001b[1m}\u001b[0m\u001b[1m]\u001b[0m, \u001b[32m\"default\"\u001b[0m: null, \u001b[32m\"title\"\u001b[0m: \u001b[32m\"Borrower First \u001b[0m\n",
       "\u001b[32mName\"\u001b[0m\u001b[1m}\u001b[0m, \u001b[32m\"borrower_first_name_confidence\"\u001b[0m: \u001b[1m{\u001b[0m\u001b[32m\"anyOf\"\u001b[0m: \u001b[1m[\u001b[0m\u001b[1m{\u001b[0m\u001b[32m\"type\"\u001b[0m: \u001b[32m\"number\"\u001b[0m\u001b[1m}\u001b[0m, \u001b[1m{\u001b[0m\u001b[32m\"type\"\u001b[0m: \u001b[32m\"null\"\u001b[0m\u001b[1m}\u001b[0m\u001b[1m]\u001b[0m, \u001b[32m\"default\"\u001b[0m: null, \n",
       "\u001b[32m\"title\"\u001b[0m: \u001b[32m\"Borrower First Name Confidence\"\u001b[0m\u001b[1m}\u001b[0m, \u001b[32m\"borrower_last_name\"\u001b[0m: \u001b[1m{\u001b[0m\u001b[32m\"anyOf\"\u001b[0m: \u001b[1m[\u001b[0m\u001b[1m{\u001b[0m\u001b[32m\"type\"\u001b[0m: \u001b[32m\"string\"\u001b[0m\u001b[1m}\u001b[0m, \u001b[1m{\u001b[0m\u001b[32m\"type\"\u001b[0m: \u001b[32m\"null\"\u001b[0m\u001b[1m}\u001b[0m\u001b[1m]\u001b[0m,\n",
       "\u001b[32m\"default\"\u001b[0m: null, \u001b[32m\"title\"\u001b[0m: \u001b[32m\"Borrower Last Name\"\u001b[0m\u001b[1m}\u001b[0m, \u001b[32m\"borrower_last_name_confidence\"\u001b[0m: \u001b[1m{\u001b[0m\u001b[32m\"anyOf\"\u001b[0m: \u001b[1m[\u001b[0m\u001b[1m{\u001b[0m\u001b[32m\"type\"\u001b[0m: \u001b[32m\"number\"\u001b[0m\u001b[1m}\u001b[0m, \n",
       "\u001b[1m{\u001b[0m\u001b[32m\"type\"\u001b[0m: \u001b[32m\"null\"\u001b[0m\u001b[1m}\u001b[0m\u001b[1m]\u001b[0m, \u001b[32m\"default\"\u001b[0m: null, \u001b[32m\"title\"\u001b[0m: \u001b[32m\"Borrower Last Name Confidence\"\u001b[0m\u001b[1m}\u001b[0m, \u001b[32m\"borrower_relationship_type\"\u001b[0m: \n",
       "\u001b[1m{\u001b[0m\u001b[32m\"anyOf\"\u001b[0m: \u001b[1m[\u001b[0m\u001b[1m{\u001b[0m\u001b[32m\"type\"\u001b[0m: \u001b[32m\"string\"\u001b[0m\u001b[1m}\u001b[0m, \u001b[1m{\u001b[0m\u001b[32m\"type\"\u001b[0m: \u001b[32m\"null\"\u001b[0m\u001b[1m}\u001b[0m\u001b[1m]\u001b[0m, \u001b[32m\"default\"\u001b[0m: null, \u001b[32m\"title\"\u001b[0m: \u001b[32m\"Borrower Relationship Type\"\u001b[0m\u001b[1m}\u001b[0m, \n",
       "\u001b[32m\"borrower_relationship_type_confidence\"\u001b[0m: \u001b[1m{\u001b[0m\u001b[32m\"anyOf\"\u001b[0m: \u001b[1m[\u001b[0m\u001b[1m{\u001b[0m\u001b[32m\"type\"\u001b[0m: \u001b[32m\"number\"\u001b[0m\u001b[1m}\u001b[0m, \u001b[1m{\u001b[0m\u001b[32m\"type\"\u001b[0m: \u001b[32m\"null\"\u001b[0m\u001b[1m}\u001b[0m\u001b[1m]\u001b[0m, \u001b[32m\"default\"\u001b[0m: null, \n",
       "\u001b[32m\"title\"\u001b[0m: \u001b[32m\"Borrower Relationship Type Confidence\"\u001b[0m\u001b[1m}\u001b[0m, \u001b[32m\"borrower_zip_code\"\u001b[0m: \u001b[1m{\u001b[0m\u001b[32m\"anyOf\"\u001b[0m: \u001b[1m[\u001b[0m\u001b[1m{\u001b[0m\u001b[32m\"type\"\u001b[0m: \u001b[32m\"string\"\u001b[0m\u001b[1m}\u001b[0m, \u001b[1m{\u001b[0m\u001b[32m\"type\"\u001b[0m: \n",
       "\u001b[32m\"null\"\u001b[0m\u001b[1m}\u001b[0m\u001b[1m]\u001b[0m, \u001b[32m\"default\"\u001b[0m: null, \u001b[32m\"title\"\u001b[0m: \u001b[32m\"Borrower Zip Code\"\u001b[0m\u001b[1m}\u001b[0m, \u001b[32m\"borrower_zip_code_confidence\"\u001b[0m: \u001b[1m{\u001b[0m\u001b[32m\"anyOf\"\u001b[0m: \u001b[1m[\u001b[0m\u001b[1m{\u001b[0m\u001b[32m\"type\"\u001b[0m: \n",
       "\u001b[32m\"number\"\u001b[0m\u001b[1m}\u001b[0m, \u001b[1m{\u001b[0m\u001b[32m\"type\"\u001b[0m: \u001b[32m\"null\"\u001b[0m\u001b[1m}\u001b[0m\u001b[1m]\u001b[0m, \u001b[32m\"default\"\u001b[0m: null, \u001b[32m\"title\"\u001b[0m: \u001b[32m\"Borrower Zip Code Confidence\"\u001b[0m\u001b[1m}\u001b[0m, \u001b[32m\"borrower_city\"\u001b[0m: \u001b[1m{\u001b[0m\u001b[32m\"anyOf\"\u001b[0m:\n",
       "\u001b[1m[\u001b[0m\u001b[1m{\u001b[0m\u001b[32m\"type\"\u001b[0m: \u001b[32m\"string\"\u001b[0m\u001b[1m}\u001b[0m, \u001b[1m{\u001b[0m\u001b[32m\"type\"\u001b[0m: \u001b[32m\"null\"\u001b[0m\u001b[1m}\u001b[0m\u001b[1m]\u001b[0m, \u001b[32m\"default\"\u001b[0m: null, \u001b[32m\"title\"\u001b[0m: \u001b[32m\"Borrower City\"\u001b[0m\u001b[1m}\u001b[0m, \u001b[32m\"borrower_city_confidence\"\u001b[0m: \n",
       "\u001b[1m{\u001b[0m\u001b[32m\"anyOf\"\u001b[0m: \u001b[1m[\u001b[0m\u001b[1m{\u001b[0m\u001b[32m\"type\"\u001b[0m: \u001b[32m\"number\"\u001b[0m\u001b[1m}\u001b[0m, \u001b[1m{\u001b[0m\u001b[32m\"type\"\u001b[0m: \u001b[32m\"null\"\u001b[0m\u001b[1m}\u001b[0m\u001b[1m]\u001b[0m, \u001b[32m\"default\"\u001b[0m: null, \u001b[32m\"title\"\u001b[0m: \u001b[32m\"Borrower City Confidence\"\u001b[0m\u001b[1m}\u001b[0m, \n",
       "\u001b[32m\"borrower_state\"\u001b[0m: \u001b[1m{\u001b[0m\u001b[32m\"anyOf\"\u001b[0m: \u001b[1m[\u001b[0m\u001b[1m{\u001b[0m\u001b[32m\"type\"\u001b[0m: \u001b[32m\"string\"\u001b[0m\u001b[1m}\u001b[0m, \u001b[1m{\u001b[0m\u001b[32m\"type\"\u001b[0m: \u001b[32m\"null\"\u001b[0m\u001b[1m}\u001b[0m\u001b[1m]\u001b[0m, \u001b[32m\"default\"\u001b[0m: null, \u001b[32m\"title\"\u001b[0m: \u001b[32m\"Borrower State\"\u001b[0m\u001b[1m}\u001b[0m, \n",
       "\u001b[32m\"borrower_state_confidence\"\u001b[0m: \u001b[1m{\u001b[0m\u001b[32m\"anyOf\"\u001b[0m: \u001b[1m[\u001b[0m\u001b[1m{\u001b[0m\u001b[32m\"type\"\u001b[0m: \u001b[32m\"number\"\u001b[0m\u001b[1m}\u001b[0m, \u001b[1m{\u001b[0m\u001b[32m\"type\"\u001b[0m: \u001b[32m\"null\"\u001b[0m\u001b[1m}\u001b[0m\u001b[1m]\u001b[0m, \u001b[32m\"default\"\u001b[0m: null, \u001b[32m\"title\"\u001b[0m: \u001b[32m\"Borrower \u001b[0m\n",
       "\u001b[32mState Confidence\"\u001b[0m\u001b[1m}\u001b[0m, \u001b[32m\"borrower_street_address\"\u001b[0m: \u001b[1m{\u001b[0m\u001b[32m\"anyOf\"\u001b[0m: \u001b[1m[\u001b[0m\u001b[1m{\u001b[0m\u001b[32m\"type\"\u001b[0m: \u001b[32m\"string\"\u001b[0m\u001b[1m}\u001b[0m, \u001b[1m{\u001b[0m\u001b[32m\"type\"\u001b[0m: \u001b[32m\"null\"\u001b[0m\u001b[1m}\u001b[0m\u001b[1m]\u001b[0m, \u001b[32m\"default\"\u001b[0m: null, \n",
       "\u001b[32m\"title\"\u001b[0m: \u001b[32m\"Borrower Street Address\"\u001b[0m\u001b[1m}\u001b[0m, \u001b[32m\"borrower_street_address_confidence\"\u001b[0m: \u001b[1m{\u001b[0m\u001b[32m\"anyOf\"\u001b[0m: \u001b[1m[\u001b[0m\u001b[1m{\u001b[0m\u001b[32m\"type\"\u001b[0m: \u001b[32m\"number\"\u001b[0m\u001b[1m}\u001b[0m, \u001b[1m{\u001b[0m\u001b[32m\"type\"\u001b[0m: \n",
       "\u001b[32m\"null\"\u001b[0m\u001b[1m}\u001b[0m\u001b[1m]\u001b[0m, \u001b[32m\"default\"\u001b[0m: null, \u001b[32m\"title\"\u001b[0m: \u001b[32m\"Borrower Street Address Confidence\"\u001b[0m\u001b[1m}\u001b[0m, \u001b[32m\"sale_date\"\u001b[0m: \u001b[1m{\u001b[0m\u001b[32m\"anyOf\"\u001b[0m: \u001b[1m[\u001b[0m\u001b[1m{\u001b[0m\u001b[32m\"type\"\u001b[0m: \n",
       "\u001b[32m\"string\"\u001b[0m\u001b[1m}\u001b[0m, \u001b[1m{\u001b[0m\u001b[32m\"type\"\u001b[0m: \u001b[32m\"null\"\u001b[0m\u001b[1m}\u001b[0m\u001b[1m]\u001b[0m, \u001b[32m\"default\"\u001b[0m: null, \u001b[32m\"title\"\u001b[0m: \u001b[32m\"Sale Date\"\u001b[0m\u001b[1m}\u001b[0m, \u001b[32m\"sale_date_confidence\"\u001b[0m: \u001b[1m{\u001b[0m\u001b[32m\"anyOf\"\u001b[0m: \u001b[1m[\u001b[0m\u001b[1m{\u001b[0m\u001b[32m\"type\"\u001b[0m: \n",
       "\u001b[32m\"number\"\u001b[0m\u001b[1m}\u001b[0m, \u001b[1m{\u001b[0m\u001b[32m\"type\"\u001b[0m: \u001b[32m\"null\"\u001b[0m\u001b[1m}\u001b[0m\u001b[1m]\u001b[0m, \u001b[32m\"default\"\u001b[0m: null, \u001b[32m\"title\"\u001b[0m: \u001b[32m\"Sale Date Confidence\"\u001b[0m\u001b[1m}\u001b[0m, \u001b[32m\"sale_price\"\u001b[0m: \u001b[1m{\u001b[0m\u001b[32m\"anyOf\"\u001b[0m: \u001b[1m[\u001b[0m\u001b[1m{\u001b[0m\u001b[32m\"type\"\u001b[0m: \n",
       "\u001b[32m\"string\"\u001b[0m\u001b[1m}\u001b[0m, \u001b[1m{\u001b[0m\u001b[32m\"type\"\u001b[0m: \u001b[32m\"null\"\u001b[0m\u001b[1m}\u001b[0m\u001b[1m]\u001b[0m, \u001b[32m\"default\"\u001b[0m: null, \u001b[32m\"title\"\u001b[0m: \u001b[32m\"Sale Price\"\u001b[0m\u001b[1m}\u001b[0m, \u001b[32m\"sale_price_confidence\"\u001b[0m: \u001b[1m{\u001b[0m\u001b[32m\"anyOf\"\u001b[0m: \u001b[1m[\u001b[0m\u001b[1m{\u001b[0m\u001b[32m\"type\"\u001b[0m:\n",
       "\u001b[32m\"number\"\u001b[0m\u001b[1m}\u001b[0m, \u001b[1m{\u001b[0m\u001b[32m\"type\"\u001b[0m: \u001b[32m\"null\"\u001b[0m\u001b[1m}\u001b[0m\u001b[1m]\u001b[0m, \u001b[32m\"default\"\u001b[0m: null, \u001b[32m\"title\"\u001b[0m: \u001b[32m\"Sale Price Confidence\"\u001b[0m\u001b[1m}\u001b[0m, \u001b[32m\"company_name\"\u001b[0m: \u001b[1m{\u001b[0m\u001b[32m\"anyOf\"\u001b[0m: \n",
       "\u001b[1m[\u001b[0m\u001b[1m{\u001b[0m\u001b[32m\"type\"\u001b[0m: \u001b[32m\"string\"\u001b[0m\u001b[1m}\u001b[0m, \u001b[1m{\u001b[0m\u001b[32m\"type\"\u001b[0m: \u001b[32m\"null\"\u001b[0m\u001b[1m}\u001b[0m\u001b[1m]\u001b[0m, \u001b[32m\"default\"\u001b[0m: null, \u001b[32m\"title\"\u001b[0m: \u001b[32m\"Company Name\"\u001b[0m\u001b[1m}\u001b[0m, \u001b[32m\"company_name_confidence\"\u001b[0m: \n",
       "\u001b[1m{\u001b[0m\u001b[32m\"anyOf\"\u001b[0m: \u001b[1m[\u001b[0m\u001b[1m{\u001b[0m\u001b[32m\"type\"\u001b[0m: \u001b[32m\"number\"\u001b[0m\u001b[1m}\u001b[0m, \u001b[1m{\u001b[0m\u001b[32m\"type\"\u001b[0m: \u001b[32m\"null\"\u001b[0m\u001b[1m}\u001b[0m\u001b[1m]\u001b[0m, \u001b[32m\"default\"\u001b[0m: null, \u001b[32m\"title\"\u001b[0m: \u001b[32m\"Company Name Confidence\"\u001b[0m\u001b[1m}\u001b[0m, \n",
       "\u001b[32m\"attorney_name\"\u001b[0m: \u001b[1m{\u001b[0m\u001b[32m\"anyOf\"\u001b[0m: \u001b[1m[\u001b[0m\u001b[1m{\u001b[0m\u001b[32m\"type\"\u001b[0m: \u001b[32m\"string\"\u001b[0m\u001b[1m}\u001b[0m, \u001b[1m{\u001b[0m\u001b[32m\"type\"\u001b[0m: \u001b[32m\"null\"\u001b[0m\u001b[1m}\u001b[0m\u001b[1m]\u001b[0m, \u001b[32m\"default\"\u001b[0m: null, \u001b[32m\"title\"\u001b[0m: \u001b[32m\"Attorney Name\"\u001b[0m\u001b[1m}\u001b[0m, \n",
       "\u001b[32m\"attorney_name_confidence\"\u001b[0m: \u001b[1m{\u001b[0m\u001b[32m\"anyOf\"\u001b[0m: \u001b[1m[\u001b[0m\u001b[1m{\u001b[0m\u001b[32m\"type\"\u001b[0m: \u001b[32m\"number\"\u001b[0m\u001b[1m}\u001b[0m, \u001b[1m{\u001b[0m\u001b[32m\"type\"\u001b[0m: \u001b[32m\"null\"\u001b[0m\u001b[1m}\u001b[0m\u001b[1m]\u001b[0m, \u001b[32m\"default\"\u001b[0m: null, \u001b[32m\"title\"\u001b[0m: \u001b[32m\"Attorney \u001b[0m\n",
       "\u001b[32mName Confidence\"\u001b[0m\u001b[1m}\u001b[0m, \u001b[32m\"lender_first_name_or_company_name\"\u001b[0m: \u001b[1m{\u001b[0m\u001b[32m\"anyOf\"\u001b[0m: \u001b[1m[\u001b[0m\u001b[1m{\u001b[0m\u001b[32m\"type\"\u001b[0m: \u001b[32m\"string\"\u001b[0m\u001b[1m}\u001b[0m, \u001b[1m{\u001b[0m\u001b[32m\"type\"\u001b[0m: \u001b[32m\"null\"\u001b[0m\u001b[1m}\u001b[0m\u001b[1m]\u001b[0m, \n",
       "\u001b[32m\"default\"\u001b[0m: null, \u001b[32m\"title\"\u001b[0m: \u001b[32m\"Lender First Name Or Company Name\"\u001b[0m\u001b[1m}\u001b[0m, \u001b[32m\"lender_first_name_or_company_name_confidence\"\u001b[0m: \n",
       "\u001b[1m{\u001b[0m\u001b[32m\"anyOf\"\u001b[0m: \u001b[1m[\u001b[0m\u001b[1m{\u001b[0m\u001b[32m\"type\"\u001b[0m: \u001b[32m\"number\"\u001b[0m\u001b[1m}\u001b[0m, \u001b[1m{\u001b[0m\u001b[32m\"type\"\u001b[0m: \u001b[32m\"null\"\u001b[0m\u001b[1m}\u001b[0m\u001b[1m]\u001b[0m, \u001b[32m\"default\"\u001b[0m: null, \u001b[32m\"title\"\u001b[0m: \u001b[32m\"Lender First Name Or Company Name \u001b[0m\n",
       "\u001b[32mConfidence\"\u001b[0m\u001b[1m}\u001b[0m, \u001b[32m\"lender_zip_code\"\u001b[0m: \u001b[1m{\u001b[0m\u001b[32m\"anyOf\"\u001b[0m: \u001b[1m[\u001b[0m\u001b[1m{\u001b[0m\u001b[32m\"type\"\u001b[0m: \u001b[32m\"string\"\u001b[0m\u001b[1m}\u001b[0m, \u001b[1m{\u001b[0m\u001b[32m\"type\"\u001b[0m: \u001b[32m\"null\"\u001b[0m\u001b[1m}\u001b[0m\u001b[1m]\u001b[0m, \u001b[32m\"default\"\u001b[0m: null, \u001b[32m\"title\"\u001b[0m: \n",
       "\u001b[32m\"Lender Zip Code\"\u001b[0m\u001b[1m}\u001b[0m, \u001b[32m\"lender_zip_code_confidence\"\u001b[0m: \u001b[1m{\u001b[0m\u001b[32m\"anyOf\"\u001b[0m: \u001b[1m[\u001b[0m\u001b[1m{\u001b[0m\u001b[32m\"type\"\u001b[0m: \u001b[32m\"number\"\u001b[0m\u001b[1m}\u001b[0m, \u001b[1m{\u001b[0m\u001b[32m\"type\"\u001b[0m: \u001b[32m\"null\"\u001b[0m\u001b[1m}\u001b[0m\u001b[1m]\u001b[0m, \u001b[32m\"default\"\u001b[0m: \n",
       "null, \u001b[32m\"title\"\u001b[0m: \u001b[32m\"Lender Zip Code Confidence\"\u001b[0m\u001b[1m}\u001b[0m, \u001b[32m\"lender_city\"\u001b[0m: \u001b[1m{\u001b[0m\u001b[32m\"anyOf\"\u001b[0m: \u001b[1m[\u001b[0m\u001b[1m{\u001b[0m\u001b[32m\"type\"\u001b[0m: \u001b[32m\"string\"\u001b[0m\u001b[1m}\u001b[0m, \u001b[1m{\u001b[0m\u001b[32m\"type\"\u001b[0m: \u001b[32m\"null\"\u001b[0m\u001b[1m}\u001b[0m\u001b[1m]\u001b[0m, \n",
       "\u001b[32m\"default\"\u001b[0m: null, \u001b[32m\"title\"\u001b[0m: \u001b[32m\"Lender City\"\u001b[0m\u001b[1m}\u001b[0m, \u001b[32m\"lender_city_confidence\"\u001b[0m: \u001b[1m{\u001b[0m\u001b[32m\"anyOf\"\u001b[0m: \u001b[1m[\u001b[0m\u001b[1m{\u001b[0m\u001b[32m\"type\"\u001b[0m: \u001b[32m\"number\"\u001b[0m\u001b[1m}\u001b[0m, \u001b[1m{\u001b[0m\u001b[32m\"type\"\u001b[0m: \n",
       "\u001b[32m\"null\"\u001b[0m\u001b[1m}\u001b[0m\u001b[1m]\u001b[0m, \u001b[32m\"default\"\u001b[0m: null, \u001b[32m\"title\"\u001b[0m: \u001b[32m\"Lender City Confidence\"\u001b[0m\u001b[1m}\u001b[0m, \u001b[32m\"lender_state\"\u001b[0m: \u001b[1m{\u001b[0m\u001b[32m\"anyOf\"\u001b[0m: \u001b[1m[\u001b[0m\u001b[1m{\u001b[0m\u001b[32m\"type\"\u001b[0m: \u001b[32m\"string\"\u001b[0m\u001b[1m}\u001b[0m, \n",
       "\u001b[1m{\u001b[0m\u001b[32m\"type\"\u001b[0m: \u001b[32m\"null\"\u001b[0m\u001b[1m}\u001b[0m\u001b[1m]\u001b[0m, \u001b[32m\"default\"\u001b[0m: null, \u001b[32m\"title\"\u001b[0m: \u001b[32m\"Lender State\"\u001b[0m\u001b[1m}\u001b[0m, \u001b[32m\"lender_state_confidence\"\u001b[0m: \u001b[1m{\u001b[0m\u001b[32m\"anyOf\"\u001b[0m: \u001b[1m[\u001b[0m\u001b[1m{\u001b[0m\u001b[32m\"type\"\u001b[0m: \n",
       "\u001b[32m\"number\"\u001b[0m\u001b[1m}\u001b[0m, \u001b[1m{\u001b[0m\u001b[32m\"type\"\u001b[0m: \u001b[32m\"null\"\u001b[0m\u001b[1m}\u001b[0m\u001b[1m]\u001b[0m, \u001b[32m\"default\"\u001b[0m: null, \u001b[32m\"title\"\u001b[0m: \u001b[32m\"Lender State Confidence\"\u001b[0m\u001b[1m}\u001b[0m, \u001b[32m\"property_zip_code\"\u001b[0m: \u001b[1m{\u001b[0m\u001b[32m\"anyOf\"\u001b[0m: \n",
       "\u001b[1m[\u001b[0m\u001b[1m{\u001b[0m\u001b[32m\"type\"\u001b[0m: \u001b[32m\"string\"\u001b[0m\u001b[1m}\u001b[0m, \u001b[1m{\u001b[0m\u001b[32m\"type\"\u001b[0m: \u001b[32m\"null\"\u001b[0m\u001b[1m}\u001b[0m\u001b[1m]\u001b[0m, \u001b[32m\"default\"\u001b[0m: null, \u001b[32m\"title\"\u001b[0m: \u001b[32m\"Property Zip Code\"\u001b[0m\u001b[1m}\u001b[0m, \n",
       "\u001b[32m\"property_zip_code_confidence\"\u001b[0m: \u001b[1m{\u001b[0m\u001b[32m\"anyOf\"\u001b[0m: \u001b[1m[\u001b[0m\u001b[1m{\u001b[0m\u001b[32m\"type\"\u001b[0m: \u001b[32m\"number\"\u001b[0m\u001b[1m}\u001b[0m, \u001b[1m{\u001b[0m\u001b[32m\"type\"\u001b[0m: \u001b[32m\"null\"\u001b[0m\u001b[1m}\u001b[0m\u001b[1m]\u001b[0m, \u001b[32m\"default\"\u001b[0m: null, \u001b[32m\"title\"\u001b[0m: \n",
       "\u001b[32m\"Property Zip Code Confidence\"\u001b[0m\u001b[1m}\u001b[0m, \u001b[32m\"property_city\"\u001b[0m: \u001b[1m{\u001b[0m\u001b[32m\"anyOf\"\u001b[0m: \u001b[1m[\u001b[0m\u001b[1m{\u001b[0m\u001b[32m\"type\"\u001b[0m: \u001b[32m\"string\"\u001b[0m\u001b[1m}\u001b[0m, \u001b[1m{\u001b[0m\u001b[32m\"type\"\u001b[0m: \u001b[32m\"null\"\u001b[0m\u001b[1m}\u001b[0m\u001b[1m]\u001b[0m, \u001b[32m\"default\"\u001b[0m: \n",
       "null, \u001b[32m\"title\"\u001b[0m: \u001b[32m\"Property City\"\u001b[0m\u001b[1m}\u001b[0m, \u001b[32m\"property_city_confidence\"\u001b[0m: \u001b[1m{\u001b[0m\u001b[32m\"anyOf\"\u001b[0m: \u001b[1m[\u001b[0m\u001b[1m{\u001b[0m\u001b[32m\"type\"\u001b[0m: \u001b[32m\"number\"\u001b[0m\u001b[1m}\u001b[0m, \u001b[1m{\u001b[0m\u001b[32m\"type\"\u001b[0m: \u001b[32m\"null\"\u001b[0m\u001b[1m}\u001b[0m\u001b[1m]\u001b[0m, \n",
       "\u001b[32m\"default\"\u001b[0m: null, \u001b[32m\"title\"\u001b[0m: \u001b[32m\"Property City Confidence\"\u001b[0m\u001b[1m}\u001b[0m, \u001b[32m\"amortization_term\"\u001b[0m: \u001b[1m{\u001b[0m\u001b[32m\"anyOf\"\u001b[0m: \u001b[1m[\u001b[0m\u001b[1m{\u001b[0m\u001b[32m\"type\"\u001b[0m: \u001b[32m\"string\"\u001b[0m\u001b[1m}\u001b[0m, \u001b[1m{\u001b[0m\u001b[32m\"type\"\u001b[0m:\n",
       "\u001b[32m\"null\"\u001b[0m\u001b[1m}\u001b[0m\u001b[1m]\u001b[0m, \u001b[32m\"default\"\u001b[0m: null, \u001b[32m\"title\"\u001b[0m: \u001b[32m\"Amortization Term\"\u001b[0m\u001b[1m}\u001b[0m, \u001b[32m\"amortization_term_confidence\"\u001b[0m: \u001b[1m{\u001b[0m\u001b[32m\"anyOf\"\u001b[0m: \u001b[1m[\u001b[0m\u001b[1m{\u001b[0m\u001b[32m\"type\"\u001b[0m: \n",
       "\u001b[32m\"number\"\u001b[0m\u001b[1m}\u001b[0m, \u001b[1m{\u001b[0m\u001b[32m\"type\"\u001b[0m: \u001b[32m\"null\"\u001b[0m\u001b[1m}\u001b[0m\u001b[1m]\u001b[0m, \u001b[32m\"default\"\u001b[0m: null, \u001b[32m\"title\"\u001b[0m: \u001b[32m\"Amortization Term Confidence\"\u001b[0m\u001b[1m}\u001b[0m, \u001b[32m\"loan_due_date\"\u001b[0m: \u001b[1m{\u001b[0m\u001b[32m\"anyOf\"\u001b[0m:\n",
       "\u001b[1m[\u001b[0m\u001b[1m{\u001b[0m\u001b[32m\"type\"\u001b[0m: \u001b[32m\"string\"\u001b[0m\u001b[1m}\u001b[0m, \u001b[1m{\u001b[0m\u001b[32m\"type\"\u001b[0m: \u001b[32m\"null\"\u001b[0m\u001b[1m}\u001b[0m\u001b[1m]\u001b[0m, \u001b[32m\"default\"\u001b[0m: null, \u001b[32m\"title\"\u001b[0m: \u001b[32m\"Loan Due Date\"\u001b[0m\u001b[1m}\u001b[0m, \u001b[32m\"loan_due_date_confidence\"\u001b[0m: \n",
       "\u001b[1m{\u001b[0m\u001b[32m\"anyOf\"\u001b[0m: \u001b[1m[\u001b[0m\u001b[1m{\u001b[0m\u001b[32m\"type\"\u001b[0m: \u001b[32m\"number\"\u001b[0m\u001b[1m}\u001b[0m, \u001b[1m{\u001b[0m\u001b[32m\"type\"\u001b[0m: \u001b[32m\"null\"\u001b[0m\u001b[1m}\u001b[0m\u001b[1m]\u001b[0m, \u001b[32m\"default\"\u001b[0m: null, \u001b[32m\"title\"\u001b[0m: \u001b[32m\"Loan Due Date Confidence\"\u001b[0m\u001b[1m}\u001b[0m, \n",
       "\u001b[32m\"interest_rate\"\u001b[0m: \u001b[1m{\u001b[0m\u001b[32m\"anyOf\"\u001b[0m: \u001b[1m[\u001b[0m\u001b[1m{\u001b[0m\u001b[32m\"type\"\u001b[0m: \u001b[32m\"string\"\u001b[0m\u001b[1m}\u001b[0m, \u001b[1m{\u001b[0m\u001b[32m\"type\"\u001b[0m: \u001b[32m\"null\"\u001b[0m\u001b[1m}\u001b[0m\u001b[1m]\u001b[0m, \u001b[32m\"default\"\u001b[0m: null, \u001b[32m\"title\"\u001b[0m: \u001b[32m\"Interest Rate\"\u001b[0m\u001b[1m}\u001b[0m, \n",
       "\u001b[32m\"interest_rate_confidence\"\u001b[0m: \u001b[1m{\u001b[0m\u001b[32m\"anyOf\"\u001b[0m: \u001b[1m[\u001b[0m\u001b[1m{\u001b[0m\u001b[32m\"type\"\u001b[0m: \u001b[32m\"number\"\u001b[0m\u001b[1m}\u001b[0m, \u001b[1m{\u001b[0m\u001b[32m\"type\"\u001b[0m: \u001b[32m\"null\"\u001b[0m\u001b[1m}\u001b[0m\u001b[1m]\u001b[0m, \u001b[32m\"default\"\u001b[0m: null, \u001b[32m\"title\"\u001b[0m: \u001b[32m\"Interest \u001b[0m\n",
       "\u001b[32mRate Confidence\"\u001b[0m\u001b[1m}\u001b[0m\u001b[1m}\u001b[0m, \u001b[32m\"required\"\u001b[0m: \u001b[1m[\u001b[0m\u001b[32m\"document_classification\"\u001b[0m, \u001b[32m\"document_classification_confidence\"\u001b[0m\u001b[1m]\u001b[0m\u001b[1m}\u001b[0m\n",
       "```\n"
      ]
     },
     "metadata": {},
     "output_type": "display_data"
    }
   ],
   "source": [
    "print(format_instruction)"
   ]
  },
  {
   "cell_type": "code",
   "execution_count": 132,
   "metadata": {},
   "outputs": [],
   "source": [
    "from langchain_google_genai.llms import GoogleGenerativeAI\n",
    "from langchain_core.messages import HumanMessage, SystemMessage"
   ]
  },
  {
   "cell_type": "code",
   "execution_count": 133,
   "metadata": {},
   "outputs": [],
   "source": [
    "# def ask_gemini(prompt, img, model='gemini-1.5-pro'):\n",
    "#     # Preparing the model with Langchain\n",
    "#     llm = GoogleGenerativeAI(model=model)\n",
    "\n",
    "#     # Preparing the message\n",
    "#     message = HumanMessage(\n",
    "#         content=[\n",
    "#             {'type': 'text', 'text': prompt},\n",
    "#             {'type': 'image_url', 'image_url':img}\n",
    "#         ]\n",
    "#     )\n",
    "\n",
    "#     response = llm.invoke([message])\n",
    "#     return response\n"
   ]
  },
  {
   "cell_type": "code",
   "execution_count": 117,
   "metadata": {},
   "outputs": [],
   "source": [
    "from langchain_google_genai.llms import GoogleGenerativeAI"
   ]
  },
  {
   "cell_type": "code",
   "execution_count": 119,
   "metadata": {},
   "outputs": [],
   "source": [
    "llm = GoogleGenerativeAI(model=\"gemini-1.5-pro\")"
   ]
  },
  {
   "cell_type": "code",
   "execution_count": 121,
   "metadata": {},
   "outputs": [],
   "source": [
    "fi = pydantic_parser.get_format_instructions()"
   ]
  },
  {
   "cell_type": "code",
   "execution_count": 123,
   "metadata": {},
   "outputs": [],
   "source": [
    "response = llm.invoke(fi)"
   ]
  },
  {
   "cell_type": "code",
   "execution_count": 134,
   "metadata": {},
   "outputs": [],
   "source": [
    "import fitz  # PyMuPDF\n",
    "\n",
    "def load_pdf_content(pdf_path):\n",
    "    # Open the PDF file\n",
    "    pdf_document = fitz.open(pdf_path)\n",
    "    \n",
    "    # Initialize an empty string to store the text\n",
    "    text = \"\"\n",
    "    \n",
    "    # Iterate over each page in the PDF\n",
    "    for page_num in range(pdf_document.page_count):\n",
    "        # Get the page\n",
    "        page = pdf_document[page_num]\n",
    "        \n",
    "        # Extract text from the page\n",
    "        text += page.get_text()\n",
    "    \n",
    "    # Close the PDF file\n",
    "    pdf_document.close()\n",
    "    \n",
    "    return text\n"
   ]
  },
  {
   "cell_type": "code",
   "execution_count": 136,
   "metadata": {},
   "outputs": [],
   "source": [
    "pdf = load_pdf_content(\"mortgage.pdf\")"
   ]
  },
  {
   "cell_type": "code",
   "execution_count": 144,
   "metadata": {},
   "outputs": [],
   "source": [
    "gemini_prompt = f\"\"\"\n",
    "                You are an expert in analyzing US mortgage documents like Deed, Deed of Trust, Mortgage, Satisfaction of Mortgage, and Release.\n",
    "                Upon receiving an input, which can be either an image or text of one of these documents, you are to:\n",
    "                1. Classify the document type and provide a confidence score for the classification.\n",
    "                2. Based on the document type, extract detailed information, if present, including:\n",
    "               {format_instruction}\n",
    "                If any detail is not found within the document, clearly indicate it as \"Not found in the document\" and provide a confidence score for this assertion as well.\n",
    "                Your response should be structured in JSON format, ensuring each extracted value is paired with a corresponding confidence score. Only a JSON object should be returned and no extra characters. \n",
    "                This detailed extraction, complete with confidence scores, aids in ensuring the precision and reliability of the data extracted from the mortgage documents.\n",
    "                {pdf}\n",
    "                \"\"\"\n"
   ]
  },
  {
   "cell_type": "code",
   "execution_count": 145,
   "metadata": {},
   "outputs": [
    {
     "data": {
      "text/plain": [
       "'```json\\n{\"borrower_first_name\": \"John\", \"borrower_first_name_confidence\": 0.95, \"borrower_last_name\": \"Doe\", \"borrower_last_name_confidence\": 0.95, \"borrower_relationship_type\": \"Mortgagor\", \"borrower_relationship_type_confidence\": 0.95, \"borrower_zip_code\": \"33101\", \"borrower_zip_code_confidence\": 0.95, \"borrower_city\": \"Miami\", \"borrower_city_confidence\": 0.95, \"borrower_state\": \"FL\", \"borrower_state_confidence\": 0.95, \"borrower_street_address\": \"123 Palm Tree Lane\", \"borrower_street_address_confidence\": 0.95, \"sale_date\": \"February 1st, 2024\", \"sale_date_confidence\": 0.95, \"sale_price\": \"TEN DOLLARS ($10.00) and other valuable considerations\", \"sale_price_confidence\": 0.95, \"company_name\": \"Roe and Associates\", \"company_name_confidence\": 0.95, \"attorney_name\": \"Richard Roe\", \"attorney_name_confidence\": 0.95, \"lender_first_name_or_company_name\": \"Jane Smith\", \"lender_first_name_or_company_name_confidence\": 0.95, \"lender_zip_code\": \"33160\", \"lender_zip_code_confidence\": 0.95, \"lender_city\": \"Miami\", \"lender_city_confidence\": 0.95, \"lender_state\": \"FL\", \"lender_state_confidence\": 0.95, \"property_zip_code\": null, \"property_zip_code_confidence\": 0.0, \"property_city\": null, \"property_city_confidence\": 0.0, \"amortization_term\": null, \"amortization_term_confidence\": 0.0, \"loan_due_date\": \"March 1st, 2034\", \"loan_due_date_confidence\": 0.95, \"interest_rate\": \"five percent (5%)\", \"interest_rate_confidence\": 0.95}\\n```'"
      ]
     },
     "execution_count": 145,
     "metadata": {},
     "output_type": "execute_result"
    }
   ],
   "source": [
    "llm.invoke(gemini_prompt)"
   ]
  },
  {
   "cell_type": "code",
   "execution_count": 146,
   "metadata": {},
   "outputs": [],
   "source": [
    "from dotenv import load_dotenv, find_dotenv\n",
    "import os\n",
    "import langchain_google_genai as genai\n",
    "from google.cloud import storage\n",
    "import base64\n",
    "import logging\n",
    "from PyPDF2 import PdfReader\n",
    "from io import BytesIO\n",
    "from PIL import Image\n",
    "import pytesseract\n",
    "\n",
    "load_dotenv(find_dotenv(), override=True)\n",
    "\n",
    "logger = logging.getLogger(__name__)\n",
    "\n",
    "def get_llm(model: str = \"gemini-1.5-pro\"):\n",
    "    return genai.GoogleGenerativeAI(model=model)\n",
    "\n",
    "def read_file_content(bucket_name: str, blob_name: str) -> str:\n",
    "    storage_client = storage.Client()\n",
    "    bucket = storage_client.bucket(bucket_name)\n",
    "    blob = bucket.blob(blob_name)\n",
    "    file_content = blob.download_as_bytes()\n",
    "    \n",
    "    file_extension = blob_name.split('.')[-1].lower()\n",
    "    \n",
    "    if file_extension == 'pdf':\n",
    "        return extract_text_from_pdf(file_content)\n",
    "    elif file_extension in ['jpg', 'jpeg', 'png']:\n",
    "        return extract_text_from_image(file_content)\n",
    "    else:\n",
    "        raise ValueError(f\"Unsupported file type: {file_extension}\")\n",
    "\n",
    "def extract_text_from_pdf(file_content: bytes) -> str:\n",
    "    pdf = PdfReader(BytesIO(file_content))\n",
    "    text = \"\"\n",
    "    for page in pdf.pages:\n",
    "        text += page.extract_text()\n",
    "    return text\n",
    "\n",
    "def extract_text_from_image(file_content: bytes) -> str:\n",
    "    image = Image.open(BytesIO(file_content))\n",
    "    return pytesseract.image_to_string(image)\n",
    "\n",
    "def classify_document(llm, file_content: str, file_name: str) -> str:\n",
    "    prompt = f\"\"\"\n",
    "    You are an expert in analyzing US mortgage documents like Deed, Deed of Trust, Mortgage, Satisfaction of Mortgage, and Release.\n",
    "    Upon receiving an input, which can be either an image or text of one of these documents, you are to:\n",
    "    Classify the document type and provide a confidence score for the classification.\n",
    "    1. Deed\n",
    "    2. Mortgage\n",
    "    3. DeedOfTrust\n",
    "\n",
    "    Respond with only the classification name (Deed, Mortgage, or DeedOfTrust).\n",
    "\n",
    "    Document content:\n",
    "    {file_content[:3000]}  # Limiting to first 3000 characters for brevity\n",
    "    \"\"\"\n",
    "    try:\n",
    "        response = llm.invoke(prompt)\n",
    "        classification = response.strip()\n",
    "        if classification not in [\"Deed\", \"Mortgage\", \"DeedOfTrust\"]:\n",
    "            raise ValueError(f\"Invalid classification: {classification}\")\n",
    "        return classification\n",
    "    except Exception as e:\n",
    "        logger.error(f\"Error classifying document: {str(e)}\")\n",
    "        raise\n"
   ]
  },
  {
   "cell_type": "code",
   "execution_count": 148,
   "metadata": {},
   "outputs": [],
   "source": [
    "bucket_name = os.getenv(\"GCP_BUCKET_NAME\")\n",
    "filename = \"20241027_051146_mortgage.pdf\""
   ]
  },
  {
   "cell_type": "code",
   "execution_count": 150,
   "metadata": {},
   "outputs": [],
   "source": [
    "file_content = read_file_content(bucket_name=bucket_name,blob_name=filename)"
   ]
  },
  {
   "cell_type": "code",
   "execution_count": 151,
   "metadata": {},
   "outputs": [
    {
     "data": {
      "text/plain": [
       "'Mortgage'"
      ]
     },
     "execution_count": 151,
     "metadata": {},
     "output_type": "execute_result"
    }
   ],
   "source": [
    "classify_document(llm, file_content, filename)"
   ]
  },
  {
   "cell_type": "code",
   "execution_count": 152,
   "metadata": {},
   "outputs": [],
   "source": [
    "from langchain_core.prompts import load_prompt"
   ]
  },
  {
   "cell_type": "code",
   "execution_count": 153,
   "metadata": {},
   "outputs": [],
   "source": [
    "import sys\n",
    "sys.path.append('../')"
   ]
  },
  {
   "cell_type": "code",
   "execution_count": 158,
   "metadata": {},
   "outputs": [
    {
     "data": {
      "text/plain": [
       "PromptTemplate(input_variables=['file_content'], input_types={}, partial_variables={}, template='You are an expert in analyzing US mortgage documents like Deed, Deed of Trust, Mortgage, Satisfaction of Mortgage, and Release. Upon receiving an input, which can be either an image or text of one of these documents, you are to:- Classify the document type and provide a confidence score for the classification. 1. Deed 2. Mortgage 3. DeedOfTrust\\nRespond with only the classification name (Deed, Mortgage, or DeedOfTrust).\\nDocument content:- {file_content}')"
      ]
     },
     "execution_count": 158,
     "metadata": {},
     "output_type": "execute_result"
    }
   ],
   "source": [
    "\n",
    "load_prompt(\"..\\prompts\\classification.yaml\")"
   ]
  },
  {
   "cell_type": "code",
   "execution_count": null,
   "metadata": {},
   "outputs": [],
   "source": []
  }
 ],
 "metadata": {
  "kernelspec": {
   "display_name": "xtractly",
   "language": "python",
   "name": "python3"
  },
  "language_info": {
   "codemirror_mode": {
    "name": "ipython",
    "version": 3
   },
   "file_extension": ".py",
   "mimetype": "text/x-python",
   "name": "python",
   "nbconvert_exporter": "python",
   "pygments_lexer": "ipython3",
   "version": "3.11.10"
  }
 },
 "nbformat": 4,
 "nbformat_minor": 2
}
